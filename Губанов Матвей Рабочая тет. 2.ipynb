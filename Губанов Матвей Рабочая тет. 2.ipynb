{
 "cells": [
  {
   "cell_type": "markdown",
   "id": "e8a3b859",
   "metadata": {},
   "source": [
    "<h1>Рабочая тетрадь 2. Губанов Матвей БББО-08-20.</h1>"
   ]
  },
  {
   "cell_type": "markdown",
   "id": "a262269c",
   "metadata": {},
   "source": [
    "<h2>1.1. Теоретический материал – Библиотека NumPy</h2>\n",
    "<p>NumPy (NumericalPython) - это библиотека Python с открытым исходным кодом, которая используется практически во всех областях науки и техники. Это универсальный стандарт для работы с числовыми данными в Python.\n",
    "<p>Если у вас уже есть Python, вы можете установить NumPy с помощью командной строки:</p>\n",
    "<ul><li>pip install numpy</li></ul>\n",
    "<p>Чтобы начать использовать NumPy необходимо импортировать соответствующую библиотеку: import numpy as np<p>\n",
    "<p>Основным объектом NumPy является однородный многомерный массив (в numpy называется numpy.ndarray). Это многомерный массив элементов (обычно чисел), одного типа.</p>\n",
    "\n",
    "<ul>\n",
    "    <p>Наиболее важные атрибуты объектов ndarray:</p>\n",
    "    <p><b>ndarray.ndim</b> - число измерений (чаще их называют \"оси\") массива.</p>\n",
    "    <p><b>ndarray.shape</b> - размеры массива, его форма. Это кортеж натуральных чисел, показывающий длину массива по каждой оси. Для матрицы из n строк и m столбов, shape будет (n,m). Число элементов кортежа shape равно ndim.</p>\n",
    "    <p><b>ndarray.size</b> - количество элементов массива. Очевидно, равно произведению всех элементов атрибута shape.</p>\n",
    "    <p><b>ndarray.dtype</b> - объект, описывающий тип элементов массива. Можно определить dtype, используя стандартные типы данных Python. NumPy здесь предоставляет целый букет возможностей, как встроенных, например: bool_, character, int8, int16, int32, int64, float8, float16, float32, float64, complex64, object_, так и возможность определить собственные типы данных, в том числе и составные.</p>\n",
    "    <p><b>ndarray.itemsize</b> - размер каждого элемента массива в байтах.</p>\n",
    "    <p><b>ndarray.data</b> - буфер, содержащий фактические элементы массива. Обычно не нужно использовать этот атрибут, так как обращаться к элементам массива проще всего с помощью индексов.</p>\n",
    "</ul>\n",
    "<p>Подробнее о массивах в NumPyможно найти в официальной документации https://numpy.org/doc/stable/user/absolute_beginners.html</p>"
   ]
  },
  {
   "cell_type": "markdown",
   "id": "e53a5721",
   "metadata": {},
   "source": [
    "<h3>1.2.1. Пример. Создать массив 5x2. Создать массив 5x2. Вывести все значения массива, значение элемента с индексом (3,1) и второй столбец. Индексация начинается с нуля.</h3>"
   ]
  },
  {
   "cell_type": "code",
   "execution_count": 5,
   "id": "a2da151f",
   "metadata": {},
   "outputs": [
    {
     "name": "stdout",
     "output_type": "stream",
     "text": [
      "[[ 1  2]\n",
      " [ 3  4]\n",
      " [ 5  6]\n",
      " [ 7  8]\n",
      " [ 9 10]]\n",
      "8\n",
      "[3 4]\n"
     ]
    }
   ],
   "source": [
    "import numpy as np\n",
    "x = np.array([[1,2],[3,4],[5,6],[7,8],[9,10]])\n",
    "print(x)\n",
    "print(x[3][1])\n",
    "print(x[1])"
   ]
  },
  {
   "cell_type": "markdown",
   "id": "81d65739",
   "metadata": {},
   "source": [
    "<h3>1.2.2. Пример.</h3>"
   ]
  },
  {
   "cell_type": "code",
   "execution_count": 58,
   "id": "d44ff96e",
   "metadata": {},
   "outputs": [
    {
     "name": "stdout",
     "output_type": "stream",
     "text": [
      "[0. 0. 0. 0. 0. 0. 0. 0. 0. 0.] \n",
      " [1. 1. 1. 1. 1. 1. 1. 1. 1. 1.] \n",
      " [5 5 5 5 5 5 5 5 5 5] \n",
      " [10 11 12 13 14 15 16 17 18 19]\n"
     ]
    }
   ],
   "source": [
    "a = np.zeros(10)\n",
    "b = np.ones(10)\n",
    "c = np.full(10,5)\n",
    "d = np.arange(10,20)\n",
    "print(a, \"\\n\", b, \"\\n\", c, \"\\n\", d)"
   ]
  },
  {
   "cell_type": "markdown",
   "id": "a33cb2a5",
   "metadata": {},
   "source": [
    "<h3>1.2.3. Пример. Создать массив 10x10 со случайными значениями, найти минимум, максимум и среднее значение.</h3>"
   ]
  },
  {
   "cell_type": "code",
   "execution_count": 59,
   "id": "c54b0e71",
   "metadata": {},
   "outputs": [
    {
     "name": "stdout",
     "output_type": "stream",
     "text": [
      "0.01607338307890882 0.9903222073994408 0.5004161704121948\n"
     ]
    }
   ],
   "source": [
    "Z = np.random.random((10,10))\n",
    "Zmin, Zmax, Zmean = Z.min(), Z.max(), Z.mean()\n",
    "print(Zmin, Zmax, Zmean)"
   ]
  },
  {
   "cell_type": "markdown",
   "id": "9d7f19b0",
   "metadata": {},
   "source": [
    "<h3>1.2.4. Пример. Задать матрицу размерности 5 на 5 и поменять 2 строки в матрице местами.</h3>"
   ]
  },
  {
   "cell_type": "code",
   "execution_count": 61,
   "id": "0d515026",
   "metadata": {},
   "outputs": [
    {
     "name": "stdout",
     "output_type": "stream",
     "text": [
      "[[ 5  6  7  8  9]\n",
      " [ 0  1  2  3  4]\n",
      " [10 11 12 13 14]\n",
      " [15 16 17 18 19]\n",
      " [20 21 22 23 24]]\n"
     ]
    }
   ],
   "source": [
    "A = np.arange(25).reshape(5,5)\n",
    "A[[0,1]] = A[[1,0]]\n",
    "print(A)"
   ]
  },
  {
   "cell_type": "markdown",
   "id": "09c9629c",
   "metadata": {},
   "source": [
    "<h3>1.2.5. Пример.</h3>"
   ]
  },
  {
   "cell_type": "code",
   "execution_count": 62,
   "id": "e2bb5cf7",
   "metadata": {},
   "outputs": [
    {
     "name": "stdout",
     "output_type": "stream",
     "text": [
      "nan\n",
      "False\n",
      "False\n",
      "nan\n",
      "False\n"
     ]
    }
   ],
   "source": [
    "print(0*np.nan)\n",
    "print(np.nan == np.nan)\n",
    "print(np.inf > np.nan)\n",
    "print(np.nan - np.nan)\n",
    "print(0.3 == 3 * 0.1)"
   ]
  },
  {
   "cell_type": "markdown",
   "id": "2040534d",
   "metadata": {},
   "source": [
    "<h3>1.2.6 Пример. Отсортировать массив.</h3>"
   ]
  },
  {
   "cell_type": "code",
   "execution_count": 63,
   "id": "d4e9abd2",
   "metadata": {},
   "outputs": [
    {
     "name": "stdout",
     "output_type": "stream",
     "text": [
      "[1 2 3 4 5 6 7 7]\n"
     ]
    }
   ],
   "source": [
    "arr = np.array([2, 1, 5, 3, 7, 4, 6, 7])\n",
    "print(np.sort(arr))"
   ]
  },
  {
   "cell_type": "markdown",
   "id": "93890c2c",
   "metadata": {},
   "source": [
    "<h3>1.3.1. Задание. Создать 8x8 матрицу и заполнить её в шахматном порядке нулями и единицами.</h3>"
   ]
  },
  {
   "cell_type": "code",
   "execution_count": 1,
   "id": "834d7fb0",
   "metadata": {},
   "outputs": [
    {
     "name": "stdout",
     "output_type": "stream",
     "text": [
      "[[0. 1. 0. 1. 0. 1. 0. 1.]\n",
      " [1. 0. 1. 0. 1. 0. 1. 0.]\n",
      " [0. 1. 0. 1. 0. 1. 0. 1.]\n",
      " [1. 0. 1. 0. 1. 0. 1. 0.]\n",
      " [0. 1. 0. 1. 0. 1. 0. 1.]\n",
      " [1. 0. 1. 0. 1. 0. 1. 0.]\n",
      " [0. 1. 0. 1. 0. 1. 0. 1.]\n",
      " [1. 0. 1. 0. 1. 0. 1. 0.]]\n"
     ]
    }
   ],
   "source": [
    "import numpy as np\n",
    "x = np.zeros((8,8))\n",
    "x[1::2,::2] = 1\n",
    "x[::2,1::2] = 1\n",
    "print(x)"
   ]
  },
  {
   "cell_type": "markdown",
   "id": "e7942486",
   "metadata": {},
   "source": [
    "<h3>1.3.2. Задание. Создать 5x5 матрицу со значениями в строках от 0 до 4. Для создания необходимо использовать функцию arrange.</h3>"
   ]
  },
  {
   "cell_type": "code",
   "execution_count": 56,
   "id": "06f2be31",
   "metadata": {},
   "outputs": [
    {
     "name": "stdout",
     "output_type": "stream",
     "text": [
      "[[0. 1. 2. 3. 4.]\n",
      " [0. 1. 2. 3. 4.]\n",
      " [0. 1. 2. 3. 4.]\n",
      " [0. 1. 2. 3. 4.]\n",
      " [0. 1. 2. 3. 4.]]\n"
     ]
    }
   ],
   "source": [
    "x = np.zeros((5,5))\n",
    "x = x + np.arange(5)\n",
    "print(x)"
   ]
  },
  {
   "cell_type": "markdown",
   "id": "6c67b6fe",
   "metadata": {},
   "source": [
    "<h3>1.3.3. Задание. Создать массив 3x3x3 со случайными значениями.</h3>"
   ]
  },
  {
   "cell_type": "code",
   "execution_count": 3,
   "id": "636927d3",
   "metadata": {},
   "outputs": [
    {
     "name": "stdout",
     "output_type": "stream",
     "text": [
      "[[[0.04600231 0.62108242 0.35784496]\n",
      "  [0.05521189 0.98705077 0.67902637]\n",
      "  [0.17277899 0.74061443 0.97811413]]\n",
      "\n",
      " [[0.91489991 0.87753004 0.80039526]\n",
      "  [0.30476879 0.25654936 0.19110118]\n",
      "  [0.98726536 0.72022648 0.10230689]]\n",
      "\n",
      " [[0.9257402  0.29807978 0.45351287]\n",
      "  [0.12022379 0.45473089 0.11497739]\n",
      "  [0.50384103 0.00842293 0.51900152]]]\n"
     ]
    }
   ],
   "source": [
    "x = np.random.random((3,3,3))\n",
    "print(x)"
   ]
  },
  {
   "cell_type": "markdown",
   "id": "24ab624a",
   "metadata": {},
   "source": [
    "<h3>1.3.4. Задание. Создать матрицу с 0 внутри, и 1 на границах.</h3>"
   ]
  },
  {
   "cell_type": "code",
   "execution_count": 44,
   "id": "8f07da0f",
   "metadata": {},
   "outputs": [
    {
     "name": "stdout",
     "output_type": "stream",
     "text": [
      "[[1. 1. 1. 1. 1. 1. 1. 1. 1. 1.]\n",
      " [1. 0. 0. 0. 0. 0. 0. 0. 0. 1.]\n",
      " [1. 0. 0. 0. 0. 0. 0. 0. 0. 1.]\n",
      " [1. 0. 0. 0. 0. 0. 0. 0. 0. 1.]\n",
      " [1. 0. 0. 0. 0. 0. 0. 0. 0. 1.]\n",
      " [1. 0. 0. 0. 0. 0. 0. 0. 0. 1.]\n",
      " [1. 0. 0. 0. 0. 0. 0. 0. 0. 1.]\n",
      " [1. 0. 0. 0. 0. 0. 0. 0. 0. 1.]\n",
      " [1. 0. 0. 0. 0. 0. 0. 0. 0. 1.]\n",
      " [1. 1. 1. 1. 1. 1. 1. 1. 1. 1.]]\n"
     ]
    }
   ],
   "source": [
    "x = np.ones((10,10))\n",
    "x[1:-1,1:-1] = 0\n",
    "print(x)"
   ]
  },
  {
   "cell_type": "markdown",
   "id": "a6cfc34a",
   "metadata": {},
   "source": [
    "<h3>1.3.5. Задание. Создайте массив и отсортируйте его по убыванию.</h3>"
   ]
  },
  {
   "cell_type": "code",
   "execution_count": 2,
   "id": "c47ad162",
   "metadata": {},
   "outputs": [
    {
     "name": "stdout",
     "output_type": "stream",
     "text": [
      "[9, 8, 7, 6, 5, 4, 3, 2, 1]\n"
     ]
    }
   ],
   "source": [
    "x = [3, 5, 1, 2, 8, 7, 4, 9, 6]\n",
    "x.sort(reverse=True)\n",
    "print(x)"
   ]
  },
  {
   "cell_type": "markdown",
   "id": "eb9d4dc0",
   "metadata": {},
   "source": [
    "<h3>1.3.6. Задание. Создайте матрицу, выведите ее форму, размер и размерность.</h3>"
   ]
  },
  {
   "cell_type": "code",
   "execution_count": 3,
   "id": "88582e3f",
   "metadata": {},
   "outputs": [
    {
     "name": "stdout",
     "output_type": "stream",
     "text": [
      "Введите x:\n",
      "4\n",
      "Введите y:\n",
      "3\n",
      "Матрица:\n",
      "[[0.3507437  0.52309791 0.24351925]\n",
      " [0.22520754 0.24980233 0.2870863 ]\n",
      " [0.84530199 0.13406211 0.16166491]\n",
      " [0.07140153 0.78817068 0.12906192]]\n",
      "Размерность матрицы:  4 * 3\n",
      "Размер матрицы:  12\n"
     ]
    }
   ],
   "source": [
    "print('Введите x:')   ## Номер 1.3.6\n",
    "x = (int(input()))\n",
    "print('Введите y:')\n",
    "y = (int(input()))\n",
    "z = np.random.random((x,y))\n",
    "print(\"Матрица:\")\n",
    "print(z)\n",
    "print(\"Размерность матрицы: \",x,\"*\",y)\n",
    "print(\"Размер матрицы: \",x*y)"
   ]
  },
  {
   "cell_type": "markdown",
   "id": "f8815180",
   "metadata": {},
   "source": [
    "<h2>2.1. Теоретический материал – Библиотека Pandas</h2>\n",
    "<p>Первым шагом в любом начинании в области машинного обучения является введение исходных данных в систему. Исходные данные могут вводиться вручную, содержаться в файле или храниться в интернете в каком-либо формате. Кроме того, часто требуется получить данные из нескольких источников.</p>\n",
    "<p><i>Библиотека pandas</i> – это удобный и быстрый инструмент для работы с данными, обладающий большим функционалом. Если очень кратко, то pandas – это библиотека, которая предоставляет очень удобные с точки зрения использования инструменты для хранения данных и работе с ними. </p>\n",
    "<p><i>Библиотека pandas</i> присутствует в стандартной поставке Anaconda. Если же ее там нет, то его можно установить отдельно. Для этого введите командной строке:</p>\n",
    "<ul><li>pip install pandas</li></ul>\n",
    "<p>Для импорта библиотеки используйте команду: import pandas as pd</p>\n",
    "<p>Библиотека pandas предоставляет две ключевые структуры данных: Series и DataFrame. </p>\n",
    "<p><b>Series</b> – это одномерная структура данных, ее можно представить, как таблицу с одной строкой. С Series можно работать как с обычным массивом (обращаться по номеру индекса), и как с ассоциированным массивом, когда можно использовать ключ для доступа к элементам данных.</p>\n",
    "<p><b>DataFrame</b> – это двумерная структура. Идейно она очень похожа на обычную таблицу, что выражается в способе ее создания и работе с ее элементами.<p>\n"
   ]
  },
  {
   "cell_type": "markdown",
   "id": "84529667",
   "metadata": {},
   "source": [
    "<h3>2.2.1. Пример Создать Series из списка Python, словаря Python, и массива Numpy (установить буквенные метки для последнего). </h3>"
   ]
  },
  {
   "cell_type": "code",
   "execution_count": 7,
   "id": "04474e1f",
   "metadata": {},
   "outputs": [
    {
     "name": "stdout",
     "output_type": "stream",
     "text": [
      "0    1\n",
      "1    2\n",
      "2    3\n",
      "3    4\n",
      "4    5\n",
      "dtype: int64\n",
      "a    1\n",
      "b    2\n",
      "c    3\n",
      "dtype: int64\n",
      "a    1\n",
      "b    2\n",
      "c    3\n",
      "d    4\n",
      "e    5\n",
      "dtype: int32\n"
     ]
    }
   ],
   "source": [
    "import pandas as pd\n",
    "lst = [1, 2, 3, 4, 5]\n",
    "d = {'a':1, 'b':2, 'c':3}\n",
    "ndarr = np.array([1, 2, 3, 4, 5])\n",
    "\n",
    "s1 = pd.Series(lst)\n",
    "s2 = pd.Series(d)\n",
    "s3 = pd.Series(ndarr, ['a', 'b', 'c', 'd', 'e'])\n",
    "\n",
    "print(s1)\n",
    "print(s2)\n",
    "print(s3)"
   ]
  },
  {
   "cell_type": "markdown",
   "id": "9226c9fd",
   "metadata": {},
   "source": [
    "<h3>2.2.2. Пример Дано два Series. Напечатать их первые элементы и все элементы после третьего (во втором фрейме).</h3>"
   ]
  },
  {
   "cell_type": "code",
   "execution_count": 8,
   "id": "00e692e0",
   "metadata": {},
   "outputs": [
    {
     "name": "stdout",
     "output_type": "stream",
     "text": [
      "1\n",
      "5\n",
      "3    2\n",
      "4    1\n",
      "dtype: int64\n"
     ]
    }
   ],
   "source": [
    "s1 = pd.Series([1,2,3,4,5],['a', 'b', 'c', 'd', 'e'])\n",
    "s2 = pd.Series([5,4,3,2,1])\n",
    "print(s1['a'])\n",
    "print(s2[0])\n",
    "print(s2[3:])"
   ]
  },
  {
   "cell_type": "markdown",
   "id": "d45b6c2e",
   "metadata": {},
   "source": [
    "<h3>2.2.3. Пример Создайте новый фрейм данных.</h3>"
   ]
  },
  {
   "cell_type": "code",
   "execution_count": 9,
   "id": "bed54892",
   "metadata": {},
   "outputs": [
    {
     "data": {
      "text/html": [
       "<div>\n",
       "<style scoped>\n",
       "    .dataframe tbody tr th:only-of-type {\n",
       "        vertical-align: middle;\n",
       "    }\n",
       "\n",
       "    .dataframe tbody tr th {\n",
       "        vertical-align: top;\n",
       "    }\n",
       "\n",
       "    .dataframe thead th {\n",
       "        text-align: right;\n",
       "    }\n",
       "</style>\n",
       "<table border=\"1\" class=\"dataframe\">\n",
       "  <thead>\n",
       "    <tr style=\"text-align: right;\">\n",
       "      <th></th>\n",
       "      <th>Имя</th>\n",
       "      <th>Возраст</th>\n",
       "      <th>Водитель</th>\n",
       "    </tr>\n",
       "  </thead>\n",
       "  <tbody>\n",
       "    <tr>\n",
       "      <th>0</th>\n",
       "      <td>Джеки джексон</td>\n",
       "      <td>38</td>\n",
       "      <td>True</td>\n",
       "    </tr>\n",
       "    <tr>\n",
       "      <th>1</th>\n",
       "      <td>Стивен Стивенсон</td>\n",
       "      <td>25</td>\n",
       "      <td>False</td>\n",
       "    </tr>\n",
       "  </tbody>\n",
       "</table>\n",
       "</div>"
      ],
      "text/plain": [
       "                Имя  Возраст  Водитель\n",
       "0     Джеки джексон       38      True\n",
       "1  Стивен Стивенсон       25     False"
      ]
     },
     "execution_count": 9,
     "metadata": {},
     "output_type": "execute_result"
    }
   ],
   "source": [
    "dataframe = pd.DataFrame()\n",
    "dataframe['Имя'] = ['Джеки джексон', 'Стивен Стивенсон']\n",
    "dataframe['Возраст'] = [38, 25]\n",
    "dataframe['Водитель'] = [True, False]\n",
    "dataframe"
   ]
  },
  {
   "cell_type": "markdown",
   "id": "f8d99102",
   "metadata": {},
   "source": [
    "<h3> 2.2.4. Пример. Загрузите фрейм данных по ссылке.</h3>"
   ]
  },
  {
   "cell_type": "code",
   "execution_count": 13,
   "id": "fd6e875f",
   "metadata": {},
   "outputs": [
    {
     "data": {
      "text/html": [
       "<div>\n",
       "<style scoped>\n",
       "    .dataframe tbody tr th:only-of-type {\n",
       "        vertical-align: middle;\n",
       "    }\n",
       "\n",
       "    .dataframe tbody tr th {\n",
       "        vertical-align: top;\n",
       "    }\n",
       "\n",
       "    .dataframe thead th {\n",
       "        text-align: right;\n",
       "    }\n",
       "</style>\n",
       "<table border=\"1\" class=\"dataframe\">\n",
       "  <thead>\n",
       "    <tr style=\"text-align: right;\">\n",
       "      <th></th>\n",
       "      <th>Name</th>\n",
       "      <th>PClass</th>\n",
       "      <th>Age</th>\n",
       "      <th>Sex</th>\n",
       "      <th>Survived</th>\n",
       "      <th>SexCode</th>\n",
       "    </tr>\n",
       "  </thead>\n",
       "  <tbody>\n",
       "    <tr>\n",
       "      <th>0</th>\n",
       "      <td>Allen, Miss Elisabeth Walton</td>\n",
       "      <td>1st</td>\n",
       "      <td>29.00</td>\n",
       "      <td>female</td>\n",
       "      <td>1</td>\n",
       "      <td>1</td>\n",
       "    </tr>\n",
       "    <tr>\n",
       "      <th>1</th>\n",
       "      <td>Allison, Miss Helen Loraine</td>\n",
       "      <td>1st</td>\n",
       "      <td>2.00</td>\n",
       "      <td>female</td>\n",
       "      <td>0</td>\n",
       "      <td>1</td>\n",
       "    </tr>\n",
       "    <tr>\n",
       "      <th>2</th>\n",
       "      <td>Allison, Mr Hudson Joshua Creighton</td>\n",
       "      <td>1st</td>\n",
       "      <td>30.00</td>\n",
       "      <td>male</td>\n",
       "      <td>0</td>\n",
       "      <td>0</td>\n",
       "    </tr>\n",
       "    <tr>\n",
       "      <th>3</th>\n",
       "      <td>Allison, Mrs Hudson JC (Bessie Waldo Daniels)</td>\n",
       "      <td>1st</td>\n",
       "      <td>25.00</td>\n",
       "      <td>female</td>\n",
       "      <td>0</td>\n",
       "      <td>1</td>\n",
       "    </tr>\n",
       "    <tr>\n",
       "      <th>4</th>\n",
       "      <td>Allison, Master Hudson Trevor</td>\n",
       "      <td>1st</td>\n",
       "      <td>0.92</td>\n",
       "      <td>male</td>\n",
       "      <td>1</td>\n",
       "      <td>0</td>\n",
       "    </tr>\n",
       "  </tbody>\n",
       "</table>\n",
       "</div>"
      ],
      "text/plain": [
       "                                            Name PClass    Age     Sex  \\\n",
       "0                   Allen, Miss Elisabeth Walton    1st  29.00  female   \n",
       "1                    Allison, Miss Helen Loraine    1st   2.00  female   \n",
       "2            Allison, Mr Hudson Joshua Creighton    1st  30.00    male   \n",
       "3  Allison, Mrs Hudson JC (Bessie Waldo Daniels)    1st  25.00  female   \n",
       "4                  Allison, Master Hudson Trevor    1st   0.92    male   \n",
       "\n",
       "   Survived  SexCode  \n",
       "0         1        1  \n",
       "1         0        1  \n",
       "2         0        0  \n",
       "3         0        1  \n",
       "4         1        0  "
      ]
     },
     "execution_count": 13,
     "metadata": {},
     "output_type": "execute_result"
    }
   ],
   "source": [
    "# Создать URL-адрес\n",
    "url = 'https://raw.githubusercontent.com/chrisalbon/simulated_datasets/master/titanic.csv'\n",
    "# Загрузить данные\n",
    "dataframe = pd.read_csv(url)\n",
    "# Показать пять строк\n",
    "dataframe.head(5)"
   ]
  },
  {
   "cell_type": "markdown",
   "id": "be79e38c",
   "metadata": {},
   "source": [
    "<h3>2.2.5. Пример. Пронализировать характеристики фрейма данных.</h3>"
   ]
  },
  {
   "cell_type": "code",
   "execution_count": 14,
   "id": "58ae8f20",
   "metadata": {},
   "outputs": [
    {
     "data": {
      "text/html": [
       "<div>\n",
       "<style scoped>\n",
       "    .dataframe tbody tr th:only-of-type {\n",
       "        vertical-align: middle;\n",
       "    }\n",
       "\n",
       "    .dataframe tbody tr th {\n",
       "        vertical-align: top;\n",
       "    }\n",
       "\n",
       "    .dataframe thead th {\n",
       "        text-align: right;\n",
       "    }\n",
       "</style>\n",
       "<table border=\"1\" class=\"dataframe\">\n",
       "  <thead>\n",
       "    <tr style=\"text-align: right;\">\n",
       "      <th></th>\n",
       "      <th>Age</th>\n",
       "      <th>Survived</th>\n",
       "      <th>SexCode</th>\n",
       "    </tr>\n",
       "  </thead>\n",
       "  <tbody>\n",
       "    <tr>\n",
       "      <th>count</th>\n",
       "      <td>756.000000</td>\n",
       "      <td>1313.000000</td>\n",
       "      <td>1313.000000</td>\n",
       "    </tr>\n",
       "    <tr>\n",
       "      <th>mean</th>\n",
       "      <td>30.397989</td>\n",
       "      <td>0.342727</td>\n",
       "      <td>0.351866</td>\n",
       "    </tr>\n",
       "    <tr>\n",
       "      <th>std</th>\n",
       "      <td>14.259049</td>\n",
       "      <td>0.474802</td>\n",
       "      <td>0.477734</td>\n",
       "    </tr>\n",
       "    <tr>\n",
       "      <th>min</th>\n",
       "      <td>0.170000</td>\n",
       "      <td>0.000000</td>\n",
       "      <td>0.000000</td>\n",
       "    </tr>\n",
       "    <tr>\n",
       "      <th>25%</th>\n",
       "      <td>21.000000</td>\n",
       "      <td>0.000000</td>\n",
       "      <td>0.000000</td>\n",
       "    </tr>\n",
       "    <tr>\n",
       "      <th>50%</th>\n",
       "      <td>28.000000</td>\n",
       "      <td>0.000000</td>\n",
       "      <td>0.000000</td>\n",
       "    </tr>\n",
       "    <tr>\n",
       "      <th>75%</th>\n",
       "      <td>39.000000</td>\n",
       "      <td>1.000000</td>\n",
       "      <td>1.000000</td>\n",
       "    </tr>\n",
       "    <tr>\n",
       "      <th>max</th>\n",
       "      <td>71.000000</td>\n",
       "      <td>1.000000</td>\n",
       "      <td>1.000000</td>\n",
       "    </tr>\n",
       "  </tbody>\n",
       "</table>\n",
       "</div>"
      ],
      "text/plain": [
       "              Age     Survived      SexCode\n",
       "count  756.000000  1313.000000  1313.000000\n",
       "mean    30.397989     0.342727     0.351866\n",
       "std     14.259049     0.474802     0.477734\n",
       "min      0.170000     0.000000     0.000000\n",
       "25%     21.000000     0.000000     0.000000\n",
       "50%     28.000000     0.000000     0.000000\n",
       "75%     39.000000     1.000000     1.000000\n",
       "max     71.000000     1.000000     1.000000"
      ]
     },
     "execution_count": 14,
     "metadata": {},
     "output_type": "execute_result"
    }
   ],
   "source": [
    "dataframe.head(2)\n",
    "dataframe.tail(3)\n",
    "dataframe.shape\n",
    "dataframe.describe()"
   ]
  },
  {
   "cell_type": "markdown",
   "id": "639a6192",
   "metadata": {},
   "source": [
    "<h3>2.2.6. Пример. Выберите индивидуальные данные или срезы фрейма данных.</h3>"
   ]
  },
  {
   "cell_type": "code",
   "execution_count": 15,
   "id": "f0d1f133",
   "metadata": {},
   "outputs": [
    {
     "data": {
      "text/html": [
       "<div>\n",
       "<style scoped>\n",
       "    .dataframe tbody tr th:only-of-type {\n",
       "        vertical-align: middle;\n",
       "    }\n",
       "\n",
       "    .dataframe tbody tr th {\n",
       "        vertical-align: top;\n",
       "    }\n",
       "\n",
       "    .dataframe thead th {\n",
       "        text-align: right;\n",
       "    }\n",
       "</style>\n",
       "<table border=\"1\" class=\"dataframe\">\n",
       "  <thead>\n",
       "    <tr style=\"text-align: right;\">\n",
       "      <th></th>\n",
       "      <th>Name</th>\n",
       "      <th>PClass</th>\n",
       "      <th>Age</th>\n",
       "      <th>Sex</th>\n",
       "      <th>Survived</th>\n",
       "      <th>SexCode</th>\n",
       "    </tr>\n",
       "  </thead>\n",
       "  <tbody>\n",
       "    <tr>\n",
       "      <th>1</th>\n",
       "      <td>Allison, Miss Helen Loraine</td>\n",
       "      <td>1st</td>\n",
       "      <td>2.0</td>\n",
       "      <td>female</td>\n",
       "      <td>0</td>\n",
       "      <td>1</td>\n",
       "    </tr>\n",
       "    <tr>\n",
       "      <th>2</th>\n",
       "      <td>Allison, Mr Hudson Joshua Creighton</td>\n",
       "      <td>1st</td>\n",
       "      <td>30.0</td>\n",
       "      <td>male</td>\n",
       "      <td>0</td>\n",
       "      <td>0</td>\n",
       "    </tr>\n",
       "    <tr>\n",
       "      <th>3</th>\n",
       "      <td>Allison, Mrs Hudson JC (Bessie Waldo Daniels)</td>\n",
       "      <td>1st</td>\n",
       "      <td>25.0</td>\n",
       "      <td>female</td>\n",
       "      <td>0</td>\n",
       "      <td>1</td>\n",
       "    </tr>\n",
       "  </tbody>\n",
       "</table>\n",
       "</div>"
      ],
      "text/plain": [
       "                                            Name PClass   Age     Sex  \\\n",
       "1                    Allison, Miss Helen Loraine    1st   2.0  female   \n",
       "2            Allison, Mr Hudson Joshua Creighton    1st  30.0    male   \n",
       "3  Allison, Mrs Hudson JC (Bessie Waldo Daniels)    1st  25.0  female   \n",
       "\n",
       "   Survived  SexCode  \n",
       "1         0        1  \n",
       "2         0        0  \n",
       "3         0        1  "
      ]
     },
     "execution_count": 15,
     "metadata": {},
     "output_type": "execute_result"
    }
   ],
   "source": [
    "dataframe.iloc[1:4]"
   ]
  },
  {
   "cell_type": "markdown",
   "id": "9cb0bd13",
   "metadata": {},
   "source": [
    "<h3>2.2.7. Пример. Требуется отобрать строки фрейма данных на основе некоторого условия.Необходимо сформировать новый фрейм данных из пассажиров первого класса.</h3>"
   ]
  },
  {
   "cell_type": "code",
   "execution_count": 16,
   "id": "b5b46820",
   "metadata": {},
   "outputs": [
    {
     "data": {
      "text/html": [
       "<div>\n",
       "<style scoped>\n",
       "    .dataframe tbody tr th:only-of-type {\n",
       "        vertical-align: middle;\n",
       "    }\n",
       "\n",
       "    .dataframe tbody tr th {\n",
       "        vertical-align: top;\n",
       "    }\n",
       "\n",
       "    .dataframe thead th {\n",
       "        text-align: right;\n",
       "    }\n",
       "</style>\n",
       "<table border=\"1\" class=\"dataframe\">\n",
       "  <thead>\n",
       "    <tr style=\"text-align: right;\">\n",
       "      <th></th>\n",
       "      <th>Name</th>\n",
       "      <th>PClass</th>\n",
       "      <th>Age</th>\n",
       "      <th>Sex</th>\n",
       "      <th>Survived</th>\n",
       "      <th>SexCode</th>\n",
       "    </tr>\n",
       "  </thead>\n",
       "  <tbody>\n",
       "    <tr>\n",
       "      <th>0</th>\n",
       "      <td>Allen, Miss Elisabeth Walton</td>\n",
       "      <td>1st</td>\n",
       "      <td>29.0</td>\n",
       "      <td>female</td>\n",
       "      <td>1</td>\n",
       "      <td>1</td>\n",
       "    </tr>\n",
       "    <tr>\n",
       "      <th>1</th>\n",
       "      <td>Allison, Miss Helen Loraine</td>\n",
       "      <td>1st</td>\n",
       "      <td>2.0</td>\n",
       "      <td>female</td>\n",
       "      <td>0</td>\n",
       "      <td>1</td>\n",
       "    </tr>\n",
       "  </tbody>\n",
       "</table>\n",
       "</div>"
      ],
      "text/plain": [
       "                           Name PClass   Age     Sex  Survived  SexCode\n",
       "0  Allen, Miss Elisabeth Walton    1st  29.0  female         1        1\n",
       "1   Allison, Miss Helen Loraine    1st   2.0  female         0        1"
      ]
     },
     "execution_count": 16,
     "metadata": {},
     "output_type": "execute_result"
    }
   ],
   "source": [
    "dataframe[dataframe['PClass'] == '1st'].head(2)"
   ]
  },
  {
   "cell_type": "markdown",
   "id": "a6dfa321",
   "metadata": {},
   "source": [
    "<h3>2.3.1. Задание. Найдите евклидово расстояние между двумя Series (точками) a и b, не используя встроенную формулу.</h3>"
   ]
  },
  {
   "cell_type": "code",
   "execution_count": 4,
   "id": "995d4a1e",
   "metadata": {},
   "outputs": [
    {
     "data": {
      "text/plain": [
       "4.0"
      ]
     },
     "execution_count": 4,
     "metadata": {},
     "output_type": "execute_result"
    }
   ],
   "source": [
    "import pandas as pd  ## Номер 2.3.1\n",
    "\n",
    "x = pd.Series([4, 6, 8, 10])\n",
    "y = pd.Series([2, 4, 6, 8])\n",
    "np.linalg.norm(x-y)"
   ]
  },
  {
   "cell_type": "markdown",
   "id": "78e67d50",
   "metadata": {},
   "source": [
    "<h3>2.3.2. Задание. Найдите в Интернете ссылку на любой csv файл и сформируйте из него фрейм.</h3>"
   ]
  },
  {
   "cell_type": "code",
   "execution_count": 6,
   "id": "4f27b21c",
   "metadata": {},
   "outputs": [
    {
     "data": {
      "text/html": [
       "<div>\n",
       "<style scoped>\n",
       "    .dataframe tbody tr th:only-of-type {\n",
       "        vertical-align: middle;\n",
       "    }\n",
       "\n",
       "    .dataframe tbody tr th {\n",
       "        vertical-align: top;\n",
       "    }\n",
       "\n",
       "    .dataframe thead th {\n",
       "        text-align: right;\n",
       "    }\n",
       "</style>\n",
       "<table border=\"1\" class=\"dataframe\">\n",
       "  <thead>\n",
       "    <tr style=\"text-align: right;\">\n",
       "      <th></th>\n",
       "      <th>carat</th>\n",
       "      <th>cut</th>\n",
       "      <th>color</th>\n",
       "      <th>clarity</th>\n",
       "      <th>depth</th>\n",
       "      <th>table</th>\n",
       "      <th>x</th>\n",
       "      <th>y</th>\n",
       "      <th>z</th>\n",
       "      <th>price</th>\n",
       "    </tr>\n",
       "  </thead>\n",
       "  <tbody>\n",
       "    <tr>\n",
       "      <th>0</th>\n",
       "      <td>0.23</td>\n",
       "      <td>Ideal</td>\n",
       "      <td>E</td>\n",
       "      <td>SI2</td>\n",
       "      <td>61.5</td>\n",
       "      <td>55.0</td>\n",
       "      <td>3.95</td>\n",
       "      <td>3.98</td>\n",
       "      <td>2.43</td>\n",
       "      <td>326</td>\n",
       "    </tr>\n",
       "    <tr>\n",
       "      <th>1</th>\n",
       "      <td>0.21</td>\n",
       "      <td>Premium</td>\n",
       "      <td>E</td>\n",
       "      <td>SI1</td>\n",
       "      <td>59.8</td>\n",
       "      <td>61.0</td>\n",
       "      <td>3.89</td>\n",
       "      <td>3.84</td>\n",
       "      <td>2.31</td>\n",
       "      <td>326</td>\n",
       "    </tr>\n",
       "    <tr>\n",
       "      <th>2</th>\n",
       "      <td>0.23</td>\n",
       "      <td>Good</td>\n",
       "      <td>E</td>\n",
       "      <td>VS1</td>\n",
       "      <td>56.9</td>\n",
       "      <td>65.0</td>\n",
       "      <td>4.05</td>\n",
       "      <td>4.07</td>\n",
       "      <td>2.31</td>\n",
       "      <td>327</td>\n",
       "    </tr>\n",
       "    <tr>\n",
       "      <th>3</th>\n",
       "      <td>0.29</td>\n",
       "      <td>Premium</td>\n",
       "      <td>I</td>\n",
       "      <td>VS2</td>\n",
       "      <td>62.4</td>\n",
       "      <td>58.0</td>\n",
       "      <td>4.20</td>\n",
       "      <td>4.23</td>\n",
       "      <td>2.63</td>\n",
       "      <td>334</td>\n",
       "    </tr>\n",
       "    <tr>\n",
       "      <th>4</th>\n",
       "      <td>0.31</td>\n",
       "      <td>Good</td>\n",
       "      <td>J</td>\n",
       "      <td>SI2</td>\n",
       "      <td>63.3</td>\n",
       "      <td>58.0</td>\n",
       "      <td>4.34</td>\n",
       "      <td>4.35</td>\n",
       "      <td>2.75</td>\n",
       "      <td>335</td>\n",
       "    </tr>\n",
       "    <tr>\n",
       "      <th>5</th>\n",
       "      <td>0.24</td>\n",
       "      <td>Very Good</td>\n",
       "      <td>J</td>\n",
       "      <td>VVS2</td>\n",
       "      <td>62.8</td>\n",
       "      <td>57.0</td>\n",
       "      <td>3.94</td>\n",
       "      <td>3.96</td>\n",
       "      <td>2.48</td>\n",
       "      <td>336</td>\n",
       "    </tr>\n",
       "    <tr>\n",
       "      <th>6</th>\n",
       "      <td>0.24</td>\n",
       "      <td>Very Good</td>\n",
       "      <td>I</td>\n",
       "      <td>VVS1</td>\n",
       "      <td>62.3</td>\n",
       "      <td>57.0</td>\n",
       "      <td>3.95</td>\n",
       "      <td>3.98</td>\n",
       "      <td>2.47</td>\n",
       "      <td>336</td>\n",
       "    </tr>\n",
       "    <tr>\n",
       "      <th>7</th>\n",
       "      <td>0.26</td>\n",
       "      <td>Very Good</td>\n",
       "      <td>H</td>\n",
       "      <td>SI1</td>\n",
       "      <td>61.9</td>\n",
       "      <td>55.0</td>\n",
       "      <td>4.07</td>\n",
       "      <td>4.11</td>\n",
       "      <td>2.53</td>\n",
       "      <td>337</td>\n",
       "    </tr>\n",
       "    <tr>\n",
       "      <th>8</th>\n",
       "      <td>0.22</td>\n",
       "      <td>Fair</td>\n",
       "      <td>E</td>\n",
       "      <td>VS2</td>\n",
       "      <td>65.1</td>\n",
       "      <td>61.0</td>\n",
       "      <td>3.87</td>\n",
       "      <td>3.78</td>\n",
       "      <td>2.49</td>\n",
       "      <td>337</td>\n",
       "    </tr>\n",
       "    <tr>\n",
       "      <th>9</th>\n",
       "      <td>0.23</td>\n",
       "      <td>Very Good</td>\n",
       "      <td>H</td>\n",
       "      <td>VS1</td>\n",
       "      <td>59.4</td>\n",
       "      <td>61.0</td>\n",
       "      <td>4.00</td>\n",
       "      <td>4.05</td>\n",
       "      <td>2.39</td>\n",
       "      <td>338</td>\n",
       "    </tr>\n",
       "    <tr>\n",
       "      <th>10</th>\n",
       "      <td>0.30</td>\n",
       "      <td>Good</td>\n",
       "      <td>J</td>\n",
       "      <td>SI1</td>\n",
       "      <td>64.0</td>\n",
       "      <td>55.0</td>\n",
       "      <td>4.25</td>\n",
       "      <td>4.28</td>\n",
       "      <td>2.73</td>\n",
       "      <td>339</td>\n",
       "    </tr>\n",
       "    <tr>\n",
       "      <th>11</th>\n",
       "      <td>0.23</td>\n",
       "      <td>Ideal</td>\n",
       "      <td>J</td>\n",
       "      <td>VS1</td>\n",
       "      <td>62.8</td>\n",
       "      <td>56.0</td>\n",
       "      <td>3.93</td>\n",
       "      <td>3.90</td>\n",
       "      <td>2.46</td>\n",
       "      <td>340</td>\n",
       "    </tr>\n",
       "    <tr>\n",
       "      <th>12</th>\n",
       "      <td>0.22</td>\n",
       "      <td>Premium</td>\n",
       "      <td>F</td>\n",
       "      <td>SI1</td>\n",
       "      <td>60.4</td>\n",
       "      <td>61.0</td>\n",
       "      <td>3.88</td>\n",
       "      <td>3.84</td>\n",
       "      <td>2.33</td>\n",
       "      <td>342</td>\n",
       "    </tr>\n",
       "    <tr>\n",
       "      <th>13</th>\n",
       "      <td>0.31</td>\n",
       "      <td>Ideal</td>\n",
       "      <td>J</td>\n",
       "      <td>SI2</td>\n",
       "      <td>62.2</td>\n",
       "      <td>54.0</td>\n",
       "      <td>4.35</td>\n",
       "      <td>4.37</td>\n",
       "      <td>2.71</td>\n",
       "      <td>344</td>\n",
       "    </tr>\n",
       "    <tr>\n",
       "      <th>14</th>\n",
       "      <td>0.20</td>\n",
       "      <td>Premium</td>\n",
       "      <td>E</td>\n",
       "      <td>SI2</td>\n",
       "      <td>60.2</td>\n",
       "      <td>62.0</td>\n",
       "      <td>3.79</td>\n",
       "      <td>3.75</td>\n",
       "      <td>2.27</td>\n",
       "      <td>345</td>\n",
       "    </tr>\n",
       "  </tbody>\n",
       "</table>\n",
       "</div>"
      ],
      "text/plain": [
       "    carat        cut color clarity  depth  table     x     y     z  price\n",
       "0    0.23      Ideal     E     SI2   61.5   55.0  3.95  3.98  2.43    326\n",
       "1    0.21    Premium     E     SI1   59.8   61.0  3.89  3.84  2.31    326\n",
       "2    0.23       Good     E     VS1   56.9   65.0  4.05  4.07  2.31    327\n",
       "3    0.29    Premium     I     VS2   62.4   58.0  4.20  4.23  2.63    334\n",
       "4    0.31       Good     J     SI2   63.3   58.0  4.34  4.35  2.75    335\n",
       "5    0.24  Very Good     J    VVS2   62.8   57.0  3.94  3.96  2.48    336\n",
       "6    0.24  Very Good     I    VVS1   62.3   57.0  3.95  3.98  2.47    336\n",
       "7    0.26  Very Good     H     SI1   61.9   55.0  4.07  4.11  2.53    337\n",
       "8    0.22       Fair     E     VS2   65.1   61.0  3.87  3.78  2.49    337\n",
       "9    0.23  Very Good     H     VS1   59.4   61.0  4.00  4.05  2.39    338\n",
       "10   0.30       Good     J     SI1   64.0   55.0  4.25  4.28  2.73    339\n",
       "11   0.23      Ideal     J     VS1   62.8   56.0  3.93  3.90  2.46    340\n",
       "12   0.22    Premium     F     SI1   60.4   61.0  3.88  3.84  2.33    342\n",
       "13   0.31      Ideal     J     SI2   62.2   54.0  4.35  4.37  2.71    344\n",
       "14   0.20    Premium     E     SI2   60.2   62.0  3.79  3.75  2.27    345"
      ]
     },
     "execution_count": 6,
     "metadata": {},
     "output_type": "execute_result"
    }
   ],
   "source": [
    "import pandas as pd\n",
    "diamonds_data = pd.read_csv(r\"https://raw.githubusercontent.com/akmand/datasets/main/diamonds.csv\")\n",
    "diamonds_data.head(15)"
   ]
  },
  {
   "cell_type": "markdown",
   "id": "53082e4b",
   "metadata": {},
   "source": [
    "<h3>2.3.3. Задание. Проделайте с получившемся из предыдущего задания фреймом данных те же действия, что и в примерах 2.2.5-2.2.7.</h3>"
   ]
  },
  {
   "cell_type": "code",
   "execution_count": 11,
   "id": "105a8b84",
   "metadata": {},
   "outputs": [
    {
     "name": "stdout",
     "output_type": "stream",
     "text": [
      "   carat      cut color clarity  depth  table     x     y     z  price\n",
      "0   0.23    Ideal     E     SI2   61.5   55.0  3.95  3.98  2.43    326\n",
      "1   0.21  Premium     E     SI1   59.8   61.0  3.89  3.84  2.31    326 \n",
      "\n",
      "       carat        cut color clarity  depth  table     x     y     z  price\n",
      "53937   0.70  Very Good     D     SI1   62.8   60.0  5.66  5.68  3.56   2757\n",
      "53938   0.86    Premium     H     SI2   61.0   58.0  6.15  6.12  3.74   2757\n",
      "53939   0.75      Ideal     D     SI2   62.2   55.0  5.83  5.87  3.64   2757 \n",
      "\n",
      "(53940, 10) \n",
      "\n",
      "              carat         depth         table             x             y  \\\n",
      "count  53940.000000  53940.000000  53940.000000  53940.000000  53940.000000   \n",
      "mean       0.797940     61.749405     57.457184      5.731157      5.734526   \n",
      "std        0.474011      1.432621      2.234491      1.121761      1.142135   \n",
      "min        0.200000     43.000000     43.000000      0.000000      0.000000   \n",
      "25%        0.400000     61.000000     56.000000      4.710000      4.720000   \n",
      "50%        0.700000     61.800000     57.000000      5.700000      5.710000   \n",
      "75%        1.040000     62.500000     59.000000      6.540000      6.540000   \n",
      "max        5.010000     79.000000     95.000000     10.740000     58.900000   \n",
      "\n",
      "                  z         price  \n",
      "count  53940.000000  53940.000000  \n",
      "mean       3.538734   3932.799722  \n",
      "std        0.705699   3989.439738  \n",
      "min        0.000000    326.000000  \n",
      "25%        2.910000    950.000000  \n",
      "50%        3.530000   2401.000000  \n",
      "75%        4.040000   5324.250000  \n",
      "max       31.800000  18823.000000   \n",
      "\n",
      "   carat      cut color clarity  depth  table     x     y     z  price\n",
      "1   0.21  Premium     E     SI1   59.8   61.0  3.89  3.84  2.31    326\n",
      "2   0.23     Good     E     VS1   56.9   65.0  4.05  4.07  2.31    327\n",
      "3   0.29  Premium     I     VS2   62.4   58.0  4.20  4.23  2.63    334\n",
      "4   0.31     Good     J     SI2   63.3   58.0  4.34  4.35  2.75    335 \n",
      "\n",
      "    carat    cut color clarity  depth  table     x     y     z  price\n",
      "0    0.23  Ideal     E     SI2   61.5   55.0  3.95  3.98  2.43    326\n",
      "11   0.23  Ideal     J     VS1   62.8   56.0  3.93  3.90  2.46    340\n",
      "13   0.31  Ideal     J     SI2   62.2   54.0  4.35  4.37  2.71    344 \n",
      "\n"
     ]
    }
   ],
   "source": [
    "import pandas as pd\n",
    "\n",
    "diamonds_data = pd.read_csv(r\"https://raw.githubusercontent.com/akmand/datasets/main/diamonds.csv\")  ## Номер 2.3.3\n",
    "print(diamonds_data.head(2),\"\\n\")\n",
    "print(diamonds_data.tail(3),\"\\n\")\n",
    "print(diamonds_data.shape,\"\\n\")\n",
    "print(diamonds_data.describe(),\"\\n\")\n",
    "print(diamonds_data.iloc[1:5],\"\\n\")\n",
    "print(diamonds_data[diamonds_data[\"cut\"] == \"Ideal\"].head(3),\"\\n\")"
   ]
  },
  {
   "cell_type": "markdown",
   "id": "a0892e8d",
   "metadata": {},
   "source": [
    "<h2>3.1. Теоретический материал – Работа с числовыми данными.</h2>\n",
    "<p>Количественные данные что-то измеряют – будь то размер класса, ежемесячные продажи или оценки учащихся. Естественным способом представления этих величин является численным (например, 150 студентов, $529 392 продаж).</p>\n",
    "<p><i><b>Нормализация данных</b></i> — это общепринятая задача предобработки в машинном обучении. Многие алгоритмы предполагают, что все признаки находятся в единой шкале, как правило, от 0 до 1 или от -1 до 1. </p>\n",
    "<p>Существует множество способов нормализации значений признаков, чтобы масштабировать их к единому диапазону и использовать в различных моделях машинного обучения. В зависимости от используемой функции, их можно разделить на 2 большие группы: линейные и нелинейные. При нелинейной нормализации в расчетных соотношениях используются функции логистической сигмоиды или гиперболического тангенса. В линейной нормализации изменение переменных осуществляется пропорционально, по линейному закону.</p>\n",
    "<p>На практике наиболее распространены следующие методы нормализации признаков:</p>\n",
    "<ul>\n",
    "<li><b><i>Минимакс</i></b> – линейное преобразование данных в диапазоне [0..1], где минимальное и максимальное масштабируемые значения соответствуют 0 и 1 соответственно;</li>\n",
    "<li><b><i>Z-масштабирование </i></b>данных на основе среднего значения и стандартного отклонения: производят деление разницы между переменной и средним значением на стандартное отклонение.</li>\n",
    "</ul>"
   ]
  },
  {
   "attachments": {
    "image.png": {
     "image/png": "[encoded data removed]"
    }
   },
   "cell_type": "markdown",
   "id": "95eb975d",
   "metadata": {},
   "source": [
    "![image.png](attachment:image.png)"
   ]
  },
  {
   "cell_type": "markdown",
   "id": "4b07363c",
   "metadata": {},
   "source": [
    "<p>При масштабировании данных мы будем использовать одну из популярных библиотек машинного обучения Scikit-learn. Библиотека содержит пакет sklearn.preprocessing, который предоставляет широкие возможности для нормализации данных. Следует отметить, что в целом алгоритмы обучения выигрывают от стандартизации набора данных.</p>"
   ]
  },
  {
   "cell_type": "markdown",
   "id": "fab5f8f4",
   "metadata": {},
   "source": [
    "<h3>3.2.1. Пример. Прошкалируйте числовой признак в диапазон между двумя значениями.</h3>"
   ]
  },
  {
   "cell_type": "code",
   "execution_count": 26,
   "id": "17e0773f",
   "metadata": {},
   "outputs": [
    {
     "data": {
      "text/plain": [
       "array([[0.        ],\n",
       "       [0.28571429],\n",
       "       [0.35714286],\n",
       "       [0.42857143],\n",
       "       [1.        ]])"
      ]
     },
     "execution_count": 26,
     "metadata": {},
     "output_type": "execute_result"
    }
   ],
   "source": [
    "#Загрузить библиотеки\n",
    "from sklearn import preprocessing\n",
    "\n",
    "#Создать признак\n",
    "feature = np.array([[-500.5], [-100.1], [0], [100.1], [900.9]])\n",
    "#Создать шкалировщик\n",
    "minmaxscale = preprocessing.MinMaxScaler(feature_range = (0,1))\n",
    "\n",
    "#Прошкалировать признак\n",
    "scaled_feature = minmaxscale.fit_transform(feature)\n",
    "\n",
    "#Показать прошкалированный признак\n",
    "scaled_feature"
   ]
  },
  {
   "cell_type": "markdown",
   "id": "6f10c363",
   "metadata": {},
   "source": [
    "<h3>3.2.2. Пример. Преобразуйте признак, чтобы он имел среднее значение 0 и стандартное отклонение 1."
   ]
  },
  {
   "cell_type": "code",
   "execution_count": 29,
   "id": "5505d005",
   "metadata": {},
   "outputs": [
    {
     "data": {
      "text/plain": [
       "array([[-1.26687088],\n",
       "       [-0.39316683],\n",
       "       [-0.17474081],\n",
       "       [ 0.0436852 ],\n",
       "       [ 1.79109332]])"
      ]
     },
     "execution_count": 29,
     "metadata": {},
     "output_type": "execute_result"
    }
   ],
   "source": [
    "x = np.array([[-500.5], [-100.1], [0], [100.1], [900.9]])\n",
    "#Создать шкалировщик\n",
    "scaler = preprocessing.StandardScaler()\n",
    "#Преобразовать признак\n",
    "standardized = scaler.fit_transform(x)\n",
    "#Показать признак\n",
    "standardized"
   ]
  },
  {
   "cell_type": "code",
   "execution_count": 10,
   "id": "c74b79d0",
   "metadata": {},
   "outputs": [
    {
     "data": {
      "text/html": [
       "<div>\n",
       "<style scoped>\n",
       "    .dataframe tbody tr th:only-of-type {\n",
       "        vertical-align: middle;\n",
       "    }\n",
       "\n",
       "    .dataframe tbody tr th {\n",
       "        vertical-align: top;\n",
       "    }\n",
       "\n",
       "    .dataframe thead th {\n",
       "        text-align: right;\n",
       "    }\n",
       "</style>\n",
       "<table border=\"1\" class=\"dataframe\">\n",
       "  <thead>\n",
       "    <tr style=\"text-align: right;\">\n",
       "      <th></th>\n",
       "      <th>ФИО</th>\n",
       "      <th>Возраст</th>\n",
       "      <th>Xnorn</th>\n",
       "      <th>Z</th>\n",
       "    </tr>\n",
       "  </thead>\n",
       "  <tbody>\n",
       "    <tr>\n",
       "      <th>0</th>\n",
       "      <td>Сорочинский Даниил Сергеевич</td>\n",
       "      <td>20</td>\n",
       "      <td>0.421053</td>\n",
       "      <td>-0.162221</td>\n",
       "    </tr>\n",
       "    <tr>\n",
       "      <th>1</th>\n",
       "      <td>Губанов Матвей Алексеевич</td>\n",
       "      <td>19</td>\n",
       "      <td>0.368421</td>\n",
       "      <td>-0.324443</td>\n",
       "    </tr>\n",
       "    <tr>\n",
       "      <th>2</th>\n",
       "      <td>Мышкин Оскар Александрович</td>\n",
       "      <td>31</td>\n",
       "      <td>1.000000</td>\n",
       "      <td>1.622214</td>\n",
       "    </tr>\n",
       "    <tr>\n",
       "      <th>3</th>\n",
       "      <td>Павлов Виссарион Глебович</td>\n",
       "      <td>12</td>\n",
       "      <td>0.000000</td>\n",
       "      <td>-1.459993</td>\n",
       "    </tr>\n",
       "    <tr>\n",
       "      <th>4</th>\n",
       "      <td>Гусев Иосиф Дмитрьевич</td>\n",
       "      <td>23</td>\n",
       "      <td>0.578947</td>\n",
       "      <td>0.324443</td>\n",
       "    </tr>\n",
       "  </tbody>\n",
       "</table>\n",
       "</div>"
      ],
      "text/plain": [
       "                            ФИО  Возраст     Xnorn         Z\n",
       "0  Сорочинский Даниил Сергеевич       20  0.421053 -0.162221\n",
       "1     Губанов Матвей Алексеевич       19  0.368421 -0.324443\n",
       "2    Мышкин Оскар Александрович       31  1.000000  1.622214\n",
       "3     Павлов Виссарион Глебович       12  0.000000 -1.459993\n",
       "4        Гусев Иосиф Дмитрьевич       23  0.578947  0.324443"
      ]
     },
     "execution_count": 10,
     "metadata": {},
     "output_type": "execute_result"
    }
   ],
   "source": [
    "import pandas as pd\n",
    "from sklearn.preprocessing import MinMaxScaler\n",
    "from sklearn import preprocessing\n",
    "\n",
    "dfTest = pd.DataFrame({'ФИО':[\"Сорочинский Даниил Сергеевич\",\"Губанов Матвей Алексеевич\",\"Мышкин Оскар Александрович\",\"Павлов Виссарион Глебович\",\"Гусев Иосиф Дмитрьевич\"],\n",
    "                       'Возраст':[20,19,31,12,23],\n",
    "                       'Xnorn':[0,0,0,0,0],\n",
    "                       'Z':[0,0,0,0,0]})\n",
    "scaler = MinMaxScaler()\n",
    "scaler2 = preprocessing.StandardScaler()\n",
    "dfTest[['Xnorn']] = scaler.fit_transform(dfTest[['Возраст']])\n",
    "dfTest[['Z']] = scaler2.fit_transform(dfTest[['Возраст']])\n",
    "dfTest"
   ]
  },
  {
   "cell_type": "markdown",
   "id": "1bd54af6",
   "metadata": {},
   "source": [
    "<h3>3.2.3. Пример. Дан фрейм данных. Необходимо масштабировать его числовые столбцы."
   ]
  },
  {
   "cell_type": "code",
   "execution_count": 31,
   "id": "851ae21e",
   "metadata": {},
   "outputs": [
    {
     "data": {
      "text/html": [
       "<div>\n",
       "<style scoped>\n",
       "    .dataframe tbody tr th:only-of-type {\n",
       "        vertical-align: middle;\n",
       "    }\n",
       "\n",
       "    .dataframe tbody tr th {\n",
       "        vertical-align: top;\n",
       "    }\n",
       "\n",
       "    .dataframe thead th {\n",
       "        text-align: right;\n",
       "    }\n",
       "</style>\n",
       "<table border=\"1\" class=\"dataframe\">\n",
       "  <thead>\n",
       "    <tr style=\"text-align: right;\">\n",
       "      <th></th>\n",
       "      <th>A</th>\n",
       "      <th>B</th>\n",
       "      <th>C</th>\n",
       "    </tr>\n",
       "  </thead>\n",
       "  <tbody>\n",
       "    <tr>\n",
       "      <th>0</th>\n",
       "      <td>0.000000</td>\n",
       "      <td>0.000000</td>\n",
       "      <td>big</td>\n",
       "    </tr>\n",
       "    <tr>\n",
       "      <th>1</th>\n",
       "      <td>0.926219</td>\n",
       "      <td>0.363636</td>\n",
       "      <td>small</td>\n",
       "    </tr>\n",
       "    <tr>\n",
       "      <th>2</th>\n",
       "      <td>0.935335</td>\n",
       "      <td>0.628645</td>\n",
       "      <td>big</td>\n",
       "    </tr>\n",
       "    <tr>\n",
       "      <th>3</th>\n",
       "      <td>1.000000</td>\n",
       "      <td>0.961407</td>\n",
       "      <td>small</td>\n",
       "    </tr>\n",
       "    <tr>\n",
       "      <th>4</th>\n",
       "      <td>0.938495</td>\n",
       "      <td>1.000000</td>\n",
       "      <td>small</td>\n",
       "    </tr>\n",
       "  </tbody>\n",
       "</table>\n",
       "</div>"
      ],
      "text/plain": [
       "          A         B      C\n",
       "0  0.000000  0.000000    big\n",
       "1  0.926219  0.363636  small\n",
       "2  0.935335  0.628645    big\n",
       "3  1.000000  0.961407  small\n",
       "4  0.938495  1.000000  small"
      ]
     },
     "execution_count": 31,
     "metadata": {},
     "output_type": "execute_result"
    }
   ],
   "source": [
    "from sklearn.preprocessing import MinMaxScaler\n",
    "scaler = MinMaxScaler()\n",
    "dfTest = pd.DataFrame({'A':[14.00,90.20,90.95,96.27,91.21],\n",
    "                       'B':[103.02,107.26,110.35,114.23,114.68],\n",
    "                       'C':['big','small','big','small','small']})\n",
    "dfTest[['A', 'B']] = scaler.fit_transform(dfTest[['A', 'B']])\n",
    "dfTest"
   ]
  },
  {
   "cell_type": "markdown",
   "id": "bbf10c10",
   "metadata": {},
   "source": [
    "<h3>3.3.2 Задание. Необходимо выполнить нормализацию первого числового признака (sepal_length_cm) с использованием минимаксного преобразования, а второго (sepal_width_cm) с задействованием z-масштабирования.\n",
    "</h3>"
   ]
  },
  {
   "cell_type": "code",
   "execution_count": 12,
   "id": "7427147e",
   "metadata": {},
   "outputs": [
    {
     "data": {
      "text/html": [
       "<div>\n",
       "<style scoped>\n",
       "    .dataframe tbody tr th:only-of-type {\n",
       "        vertical-align: middle;\n",
       "    }\n",
       "\n",
       "    .dataframe tbody tr th {\n",
       "        vertical-align: top;\n",
       "    }\n",
       "\n",
       "    .dataframe thead th {\n",
       "        text-align: right;\n",
       "    }\n",
       "</style>\n",
       "<table border=\"1\" class=\"dataframe\">\n",
       "  <thead>\n",
       "    <tr style=\"text-align: right;\">\n",
       "      <th></th>\n",
       "      <th>sepal_length_cm</th>\n",
       "      <th>sepal_width_cm</th>\n",
       "      <th>petal_length_cm</th>\n",
       "      <th>petal_width_cm</th>\n",
       "      <th>species</th>\n",
       "    </tr>\n",
       "  </thead>\n",
       "  <tbody>\n",
       "    <tr>\n",
       "      <th>0</th>\n",
       "      <td>1.032057</td>\n",
       "      <td>3.5</td>\n",
       "      <td>1.4</td>\n",
       "      <td>0.2</td>\n",
       "      <td>setosa</td>\n",
       "    </tr>\n",
       "    <tr>\n",
       "      <th>1</th>\n",
       "      <td>-0.124958</td>\n",
       "      <td>3.0</td>\n",
       "      <td>1.4</td>\n",
       "      <td>0.2</td>\n",
       "      <td>setosa</td>\n",
       "    </tr>\n",
       "    <tr>\n",
       "      <th>2</th>\n",
       "      <td>0.337848</td>\n",
       "      <td>3.2</td>\n",
       "      <td>1.3</td>\n",
       "      <td>0.2</td>\n",
       "      <td>setosa</td>\n",
       "    </tr>\n",
       "    <tr>\n",
       "      <th>3</th>\n",
       "      <td>0.106445</td>\n",
       "      <td>3.1</td>\n",
       "      <td>1.5</td>\n",
       "      <td>0.2</td>\n",
       "      <td>setosa</td>\n",
       "    </tr>\n",
       "    <tr>\n",
       "      <th>4</th>\n",
       "      <td>1.263460</td>\n",
       "      <td>3.6</td>\n",
       "      <td>1.4</td>\n",
       "      <td>0.2</td>\n",
       "      <td>setosa</td>\n",
       "    </tr>\n",
       "    <tr>\n",
       "      <th>5</th>\n",
       "      <td>1.957669</td>\n",
       "      <td>3.9</td>\n",
       "      <td>1.7</td>\n",
       "      <td>0.4</td>\n",
       "      <td>setosa</td>\n",
       "    </tr>\n",
       "    <tr>\n",
       "      <th>6</th>\n",
       "      <td>0.800654</td>\n",
       "      <td>3.4</td>\n",
       "      <td>1.4</td>\n",
       "      <td>0.3</td>\n",
       "      <td>setosa</td>\n",
       "    </tr>\n",
       "    <tr>\n",
       "      <th>7</th>\n",
       "      <td>0.800654</td>\n",
       "      <td>3.4</td>\n",
       "      <td>1.5</td>\n",
       "      <td>0.2</td>\n",
       "      <td>setosa</td>\n",
       "    </tr>\n",
       "    <tr>\n",
       "      <th>8</th>\n",
       "      <td>-0.356361</td>\n",
       "      <td>2.9</td>\n",
       "      <td>1.4</td>\n",
       "      <td>0.2</td>\n",
       "      <td>setosa</td>\n",
       "    </tr>\n",
       "    <tr>\n",
       "      <th>9</th>\n",
       "      <td>0.106445</td>\n",
       "      <td>3.1</td>\n",
       "      <td>1.5</td>\n",
       "      <td>0.1</td>\n",
       "      <td>setosa</td>\n",
       "    </tr>\n",
       "  </tbody>\n",
       "</table>\n",
       "</div>"
      ],
      "text/plain": [
       "   sepal_length_cm  sepal_width_cm  petal_length_cm  petal_width_cm species\n",
       "0         1.032057             3.5              1.4             0.2  setosa\n",
       "1        -0.124958             3.0              1.4             0.2  setosa\n",
       "2         0.337848             3.2              1.3             0.2  setosa\n",
       "3         0.106445             3.1              1.5             0.2  setosa\n",
       "4         1.263460             3.6              1.4             0.2  setosa\n",
       "5         1.957669             3.9              1.7             0.4  setosa\n",
       "6         0.800654             3.4              1.4             0.3  setosa\n",
       "7         0.800654             3.4              1.5             0.2  setosa\n",
       "8        -0.356361             2.9              1.4             0.2  setosa\n",
       "9         0.106445             3.1              1.5             0.1  setosa"
      ]
     },
     "execution_count": 12,
     "metadata": {},
     "output_type": "execute_result"
    }
   ],
   "source": [
    "from sklearn import preprocessing\n",
    "import pandas as pd\n",
    "from sklearn.preprocessing import MinMaxScaler,StandardScaler\n",
    "\n",
    "url = \"https://raw.githubusercontent.com/akmand/datasets/master/iris.csv\"\n",
    "data = pd.read_csv(url)  \n",
    "minmax = preprocessing.MinMaxScaler()\n",
    "scaler = StandardScaler()\n",
    "data[\"sepal_length_cm\"] = minmax.fit_transform(data[[\"sepal_length_cm\"]])\n",
    "data[\"sepal_length_cm\"] = scaler.fit_transform(data[[\"sepal_width_cm\"]])\n",
    "data.head(10)"
   ]
  }
 ],
 "metadata": {
  "kernelspec": {
   "display_name": "Python 3",
   "language": "python",
   "name": "python3"
  },
  "language_info": {
   "codemirror_mode": {
    "name": "ipython",
    "version": 3
   },
   "file_extension": ".py",
   "mimetype": "text/x-python",
   "name": "python",
   "nbconvert_exporter": "python",
   "pygments_lexer": "ipython3",
   "version": "3.8.8"
  }
 },
 "nbformat": 4,
 "nbformat_minor": 5
}
