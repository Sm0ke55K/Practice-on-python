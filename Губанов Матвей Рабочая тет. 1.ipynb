{
 "cells": [
  {
   "cell_type": "markdown",
   "id": "9d531c46",
   "metadata": {},
   "source": [
    "# Рабочая тетрадь №1 Губанов Матвей БББО-08-20"
   ]
  },
  {
   "cell_type": "markdown",
   "id": "bc9f4d98",
   "metadata": {},
   "source": [
    "## 1.1. Теоретический материал – Типы данных "
   ]
  },
  {
   "cell_type": "markdown",
   "id": "869cc2cc",
   "metadata": {},
   "source": [
    "<b>Типы данных</b>\n",
    "</p>Все типы данных в Python относятся к одной из 2-х категорий: </p>\n",
    "изменяемые (mutable) и неизменяемые (immutable).\n",
    "<ul>\n",
    "<p>Неизменяемые объекты:</p>\n",
    "<li><p><b>числовые данные (int, float),</b></p></li>\n",
    "<li><p><b>bool,</b></p></li>\n",
    "<li><p><b>None,</b></p></li>\n",
    "<li><p><b>символьные строки (class 'str'),</b></p></li>\n",
    "<li><p><b>кортежи (tuple).</b></li></ul>\n",
    "<ul>\n",
    "<p>Изменяемые объекты:</p>\n",
    "<li><p><b>списки (list),</b></p></li>\n",
    "<li><p><b>множества (set),</b></p></li>\n",
    "<li><p><b>словари (dict).</b></p></li></ul>"
   ]
  },
  {
   "cell_type": "markdown",
   "id": "ab7a4f03",
   "metadata": {},
   "source": [
    "## 1.2. Пример"
   ]
  },
  {
   "cell_type": "code",
   "execution_count": 2,
   "id": "5d80116c",
   "metadata": {},
   "outputs": [
    {
     "name": "stdout",
     "output_type": "stream",
     "text": [
      "39.4 | <class 'float'> \n",
      " None | <class 'NoneType'> \n",
      " ('a', 55, 12.345, (2, 'b')) | <class 'tuple'> \n",
      " [['Антонова Aнтонинa', 34, 'ж'], ['Борисов Борис', 26, 'м']] | <class 'list'> \n",
      " {1, 'title', 2, 'content'} | <class 'set'>\n"
     ]
    }
   ],
   "source": [
    "x = 3+5.2*7\n",
    "y = None\n",
    "z = 'a', 55, 12.345, (2, 'b')\n",
    "df = [['Антонова Aнтонинa', 34, 'ж'],['Борисов Борис', 26, 'м']]\n",
    "A = {1, 'title', 2, 'content'}\n",
    "print(x, '|', type(x),'\\n', y, '|', type(y), '\\n',\n",
    "z, '|', type(z),'\\n', df, '|', type(df), '\\n', A, '|', type(A))"
   ]
  },
  {
   "cell_type": "markdown",
   "id": "dc429d29",
   "metadata": {},
   "source": [
    "## 1.3. Задание\n",
    "</p>Задача: выведите на печать и определите тип переменной.</p>"
   ]
  },
  {
   "cell_type": "code",
   "execution_count": 18,
   "id": "5cfd3746",
   "metadata": {},
   "outputs": [
    {
     "name": "stdout",
     "output_type": "stream",
     "text": [
      "True | <class 'bool'> \n",
      " {8, 1, 3, 7} | <class 'set'> \n",
      " {2, 10, 4, 5} | <class 'set'> \n",
      " set() | <class 'set'> \n",
      " ('Антонова Антонина', 34, 'ж') | <class 'tuple'> \n",
      " type | <class 'str'> \n",
      " [1, 'title', 2, 'content'] | <class 'list'> \n",
      "\n"
     ]
    }
   ],
   "source": [
    "X = 5>=2\n",
    "A = {1,3,7,8}\n",
    "B = {2,4,5,10}\n",
    "C = A & B\n",
    "df = 'Антонова Антонина', 34, 'ж'\n",
    "z = 'type'\n",
    "D = [1, 'title', 2, 'content']\n",
    "print(X,'|',type(X),'\\n',A,'|',type(A),'\\n',B,'|',type(B),'\\n',C,'|',type(C),'\\n', df,'|',type(df),'\\n',z,'|',type(z),'\\n', D,'|',type(D),'\\n')"
   ]
  },
  {
   "cell_type": "markdown",
   "id": "fbbf2c7c",
   "metadata": {},
   "source": [
    "## 2.1. Теоретический материал – Условный оператор\n",
    "<b>If – Условный оператор<b>\n",
    "</div><p>В коде часто приходится проверять выполнимость или\n",
    "невыполнимость каких-то условий. Синтаксис:<p></div>\n",
    "<p>if <условие1 (булевское выражение)> :\n",
    "<br><код, который выполнится, если условие верно><br>\n",
    "<p>elif <условие2 (булевское выражение)>:\n",
    "<br><код, который выполнится, если условие1 было неверно, а\n",
    "условие2 верно><br><p>\n",
    "<p>else\n",
    " <код, который выполнится, если условие1 и условие2 были\n",
    "неверны><p>\n",
    "<p>Обратите внимание, что код, который должен выполняться внутри\n",
    "каждого условия, записывается с отступом в 4 пробела от уровня if, elif и\n",
    "else: в питоне области видимости переменных обозначаются отступами.<p><i>\n",
    "<b>То есть, отступы позволяют понять, где начинается код,\n",
    "который должен выполняться при выполнении условия в if, и где\n",
    "заканчивается."
   ]
  },
  {
   "cell_type": "markdown",
   "id": "d949c1dc",
   "metadata": {},
   "source": [
    "## 2.2. Пример\n",
    "Задача: вывести на экран является ли переменная х положительной, \n",
    "отрицательной или равна нулю.\n"
   ]
  },
  {
   "cell_type": "code",
   "execution_count": 19,
   "id": "e9100616",
   "metadata": {},
   "outputs": [
    {
     "name": "stdout",
     "output_type": "stream",
     "text": [
      "x положительный\n"
     ]
    }
   ],
   "source": [
    "x = 125\n",
    "if x<0:\n",
    "    print(\"x отрицательный\")\n",
    "elif x==0:\n",
    "    print(\"x равен нулю\")\n",
    "else:\n",
    "    print(\"x положительный\")"
   ]
  },
  {
   "cell_type": "markdown",
   "id": "24c070f4",
   "metadata": {},
   "source": [
    "## 2.3. Задание\n",
    "Задача: Напишите код. Задается х, напечатать какому из интервалов \n",
    "принадлежит: (-infinity, -5), [-5, 5] или от (5, +infinity)"
   ]
  },
  {
   "cell_type": "code",
   "execution_count": null,
   "id": "8a7e04c9",
   "metadata": {},
   "outputs": [
    {
     "name": "stdout",
     "output_type": "stream",
     "text": [
      "Введите число\n"
     ]
    }
   ],
   "source": [
    "import math \n",
    "men = math.inf \n",
    "bol = math.inf \n",
    "print('Введите число') \n",
    "x = int(input()) \n",
    "if (x < men and x < -5): \n",
    "    print('x входит в интервал (-infinity, -5)') \n",
    "elif (x >= -5 and x <= 5): \n",
    "    print('x входит в интервал [-5, 5]') \n",
    "else: \n",
    "    print('x входит в интервал (5, +infinity)')"
   ]
  },
  {
   "cell_type": "markdown",
   "id": "c6ef13fe",
   "metadata": {},
   "source": [
    "## 3.1. Теоретический материал – Циклы, массивы, срезы\n",
    "<p>Циклы - for и while</p>\n",
    "<p style=\"text-indent: 40px\">Цикл <b>while</b> проверяет истинность условия, и если условие истинно, то \n",
    "выполняет инструкции цикла.<br>\n",
    "Синтаксис:\n",
    "<br><b>while</b> условие:</li></b>\n",
    "<br>Инструкции\n",
    "<p style=\"text-indent: 40px\">Инструкции, которые относятся к циклу while, располагаются на \n",
    "последующих строках и должны иметь отступ от начала ключевого слова \n",
    "while.\n",
    "<p style=\"text-indent: 40px\">Цикл <b>for</b> проходит по набору значений, помещает каждое значение в \n",
    "переменную с которой в цикле можно производить различные действия.\n",
    "<br>Синтаксис:</br>\n",
    "<b>for</b> переменная in набор_значений:\n",
    " <br>инструкции\n",
    "<br><p style=\"text-indent: 40px\">После ключевого слова <b>for</b> идет название переменной, в которую \n",
    "будут помещаться значения. После оператора <b>in</b> указывается набор значений \n",
    "и двоеточие. Инструкции, которые относятся к циклу, располагаются на \n",
    "последующих строках и должны иметь отступ.\n",
    "<br><p style=\"text-indent: 40px\">При создании цикла удобно пользоваться функцией <b>range(a, b)</b>, \n",
    "которая создает последовательность чисел от <b>a</b> до <b>b-1</b>.</br>\n"
   ]
  },
  {
   "cell_type": "markdown",
   "id": "c18568ef",
   "metadata": {},
   "source": [
    "## 3.2.1. Пример\n",
    "Задача: вывести все числа от 1 до 10 с шагом 3."
   ]
  },
  {
   "cell_type": "code",
   "execution_count": null,
   "id": "5d97dd5d",
   "metadata": {},
   "outputs": [],
   "source": [
    "x = 1\n",
    "while x<= 10:\n",
    "    print(x)\n",
    "    x+=3"
   ]
  },
  {
   "cell_type": "markdown",
   "id": "24933e52",
   "metadata": {},
   "source": [
    "## 3.2.2. Пример\n",
    "Задача: задан список. Напечатать все элементы списка."
   ]
  },
  {
   "cell_type": "code",
   "execution_count": 3,
   "id": "5bc64d4c",
   "metadata": {},
   "outputs": [
    {
     "name": "stdout",
     "output_type": "stream",
     "text": [
      "KNN\n",
      "decision tree\n",
      "linear model\n"
     ]
    }
   ],
   "source": [
    "models = ['KNN','decision tree','linear model']\n",
    "for model in models:\n",
    "    print(model)"
   ]
  },
  {
   "cell_type": "markdown",
   "id": "3e3f24da",
   "metadata": {},
   "source": [
    "## 3.2.3. Пример\n",
    "Задача: создать список от 1 до 99 с шагом 7."
   ]
  },
  {
   "cell_type": "code",
   "execution_count": 4,
   "id": "fdb20e4b",
   "metadata": {},
   "outputs": [
    {
     "name": "stdout",
     "output_type": "stream",
     "text": [
      "[1, 8, 15, 22, 29, 36, 43, 50, 57, 64, 71, 78, 85, 92, 99]\n"
     ]
    }
   ],
   "source": [
    "list_int = range(1, 100, 7)\n",
    "print(list(list_int))"
   ]
  },
  {
   "cell_type": "markdown",
   "id": "9ca38bf1",
   "metadata": {},
   "source": [
    "## 3.2.4. Пример\n",
    "Задача: вывести на экран числа от 5 до 105 с шагом 25, используя функцию \n",
    "range()\n"
   ]
  },
  {
   "cell_type": "code",
   "execution_count": 5,
   "id": "737e378d",
   "metadata": {},
   "outputs": [
    {
     "name": "stdout",
     "output_type": "stream",
     "text": [
      "5\n",
      "30\n",
      "55\n",
      "80\n",
      "105\n"
     ]
    }
   ],
   "source": [
    "for i in range(5, 106, 25):\n",
    "    print(i)"
   ]
  },
  {
   "cell_type": "markdown",
   "id": "24135b9c",
   "metadata": {},
   "source": [
    "## 3.2.5. Пример\n",
    "Задача: cрез. Необходимо получить каждый k-й элемент массива a, начиная с \n",
    "элемента с индексом i (включительно) и заканчивая элементом с \n",
    "индексом j (не включительно), c шагом 2. Переставить все элементы в \n",
    "обратном порядке."
   ]
  },
  {
   "cell_type": "code",
   "execution_count": 6,
   "id": "d96ef00b",
   "metadata": {},
   "outputs": [
    {
     "name": "stdout",
     "output_type": "stream",
     "text": [
      "[2, 4, 6]\n",
      "[9, 8, 7, 6, 5, 4, 3, 2, 1]\n"
     ]
    }
   ],
   "source": [
    "a = [1, 2, 3, 4, 5, 6, 7, 8, 9]\n",
    "b = a[1:7:2]\n",
    "c = a[::-1]\n",
    "print(b)\n",
    "print(c)"
   ]
  },
  {
   "cell_type": "markdown",
   "id": "88f85929",
   "metadata": {},
   "source": [
    "## 3.3.1 Задание\n",
    "Задача: выведите числа из примера на while (3.2.1) в обратном порядке."
   ]
  },
  {
   "cell_type": "code",
   "execution_count": 6,
   "id": "8172ea3b",
   "metadata": {},
   "outputs": [
    {
     "name": "stdout",
     "output_type": "stream",
     "text": [
      "10\n",
      "7\n",
      "4\n",
      "1\n"
     ]
    }
   ],
   "source": [
    "x = 10 \n",
    "while x >= 0: \n",
    "    print (x)\n",
    "    x -= 3"
   ]
  },
  {
   "cell_type": "markdown",
   "id": "8bb1747d",
   "metadata": {},
   "source": [
    "## 3.3.2 Задание\n",
    "Задача: при решении задач машинного обучения часто в качестве объектов исследования выступает человек. Создайте список значимых характеристик (признаков), идентифицирующих человека. Выведите список на экран."
   ]
  },
  {
   "cell_type": "code",
   "execution_count": 7,
   "id": "0b370c7f",
   "metadata": {},
   "outputs": [
    {
     "name": "stdout",
     "output_type": "stream",
     "text": [
      "Честность\n",
      "Доброта\n",
      "Рассудительность\n",
      "Понимание\n",
      "Ответсвенность\n"
     ]
    }
   ],
   "source": [
    "specifications = ['Честность', 'Доброта', 'Рассудительность', 'Понимание', 'Ответсвенность'] \n",
    "for characteristic in specifications: \n",
    "    print(characteristic)"
   ]
  },
  {
   "cell_type": "markdown",
   "id": "fd02d22b",
   "metadata": {},
   "source": [
    "## 3.3.3 Задание\n",
    "Задача: создать список чисел от 2 до 15 с шагом 1."
   ]
  },
  {
   "cell_type": "code",
   "execution_count": 8,
   "id": "f8b3b1e3",
   "metadata": {},
   "outputs": [
    {
     "name": "stdout",
     "output_type": "stream",
     "text": [
      "2\n",
      "3\n",
      "4\n",
      "5\n",
      "6\n",
      "7\n",
      "8\n",
      "9\n",
      "10\n",
      "11\n",
      "12\n",
      "13\n",
      "14\n"
     ]
    }
   ],
   "source": [
    "for m in range(2,15,1): \n",
    "    print(m)"
   ]
  },
  {
   "cell_type": "markdown",
   "id": "11f70691",
   "metadata": {},
   "source": [
    "## 3.3.4 Задание\n",
    "Задача: Выведите числа из примера на for c функцией range() (3.2.4) в обратном порядке."
   ]
  },
  {
   "cell_type": "code",
   "execution_count": 9,
   "id": "25c15b78",
   "metadata": {},
   "outputs": [
    {
     "name": "stdout",
     "output_type": "stream",
     "text": [
      "105\n",
      "80\n",
      "55\n",
      "30\n",
      "5\n"
     ]
    }
   ],
   "source": [
    "for m in reversed(range(5,106,25)): \n",
    "    print(m)"
   ]
  },
  {
   "cell_type": "markdown",
   "id": "6a834801",
   "metadata": {},
   "source": [
    "## 3.3.5 Задание\n",
    "Задача: Срез. Напишите код, который все элементы массива x с четными индексами переставит в обратном порядке. Т.е. если x = [0, 1, 2, 3, 4, 5, 6, 7, 8, 9], то код должен сформировать [8, 1, 6, 3, 4, 5, 2, 7, 0, 9]."
   ]
  },
  {
   "cell_type": "code",
   "execution_count": 10,
   "id": "c447b79b",
   "metadata": {},
   "outputs": [
    {
     "name": "stdout",
     "output_type": "stream",
     "text": [
      "[8, 1, 6, 3, 4, 5, 2, 7, 0, 9]\n"
     ]
    }
   ],
   "source": [
    "x = [0, 1, 2, 3, 4, 5, 6, 7, 8, 9]\n",
    "x[0:len(x):2] = reversed(x[0:len(x):2])\n",
    "print(x)"
   ]
  },
  {
   "cell_type": "markdown",
   "id": "a12ec9df",
   "metadata": {},
   "source": [
    "## 4.1. Теоретический материал - Библиотеки\n",
    "<p style=\"text-indent: 40px\">Машинное обучение опирается на фундаментальные понятия и законы \n",
    "математики и информатики. Библиотека математических функций (math) \n",
    "применяется при решении большинства прикладных задач анализа данных. \n",
    "Также, и некоторые другие библиотеки Python содержат математические \n",
    "функции (например, NumPy). Важную роль играет библиотека matplotlib, \n",
    "которая позволяет производить визуализацию расчетов в удобной для \n",
    "восприятия человеком форме: графики, диаграммы, гистограммы.\n",
    "<p style=\"text-indent: 40px\">Подключение библиотек – синтаксис: \n",
    "<br>import math as m\n",
    "<br>import numpy as np\n",
    "<br>import matplotlib.pyplot as plt\n",
    "<br>etc…\n",
    "<br>Библиотеки в python содержат не только функции, позволяющие решать \n",
    "различные задачи, но и некоторые популярные константы, например число \n",
    "Эйлера.\n"
   ]
  },
  {
   "cell_type": "markdown",
   "id": "aa773840",
   "metadata": {},
   "source": [
    "## 4.2.1 Пример\n",
    "Задача:рассчитать синус от е радиан и вывести результат на экран"
   ]
  },
  {
   "cell_type": "code",
   "execution_count": 12,
   "id": "d313d3cb",
   "metadata": {},
   "outputs": [
    {
     "name": "stdout",
     "output_type": "stream",
     "text": [
      "0.41078129050290885\n"
     ]
    }
   ],
   "source": [
    "import math as m\n",
    "print(m.sin(m.e))"
   ]
  },
  {
   "cell_type": "markdown",
   "id": "d1d34db6",
   "metadata": {},
   "source": [
    "## 4.2.2 Пример\n",
    "Задача: для функции sin(𝑥𝑒\n",
    "cos(𝑥)\n",
    ") на интервале [0;10] с шагом 0,05 построить \n",
    "график функции, закрасить площадь под ним и вычислить значение \n",
    "этой площади.\n",
    "Для вычисления площади воспользуйтесь функцией trapz(), \n",
    "вычисляющей интеграл по правилу трапеции. Для ее корректной работы \n",
    "необходимо подключить следующие библиотеки:\n",
    "from scipy.integrate import simps\n",
    "from numpy import trapz"
   ]
  },
  {
   "cell_type": "code",
   "execution_count": 14,
   "id": "77fa9126",
   "metadata": {},
   "outputs": [
    {
     "name": "stdout",
     "output_type": "stream",
     "text": [
      "73.50792907748662\n"
     ]
    },
    {
     "data": {
      "image/png": "[encoded data removed]",
      "text/plain": [
       "<Figure size 432x288 with 1 Axes>"
      ]
     },
     "metadata": {
      "needs_background": "light"
     },
     "output_type": "display_data"
    }
   ],
   "source": [
    "import numpy as np\n",
    "import matplotlib.pyplot as plt\n",
    "from scipy.integrate import simps\n",
    "from numpy import trapz\n",
    "x = np.arange(0.0, 10, 0.1)\n",
    "y = np.abs(np.sin(x*np.exp(np.cos(x))))\n",
    "plt.plot(x, y, c = \"r\")\n",
    "plt.fill_between(x, y)\n",
    "area = trapz(y)\n",
    "print(area)"
   ]
  },
  {
   "cell_type": "markdown",
   "id": "51c77bf3",
   "metadata": {},
   "source": [
    "## 4.2.3 Пример\n",
    "Задача: дано некоторое распределение оценок в группе за экзамен. Нарисовать \n",
    "круговую и точечную диаграммы распределения."
   ]
  },
  {
   "cell_type": "code",
   "execution_count": 16,
   "id": "de06fbb9",
   "metadata": {},
   "outputs": [
    {
     "data": {
      "image/png": "[encoded data removed]",
      "text/plain": [
       "<Figure size 720x504 with 1 Axes>"
      ]
     },
     "metadata": {},
     "output_type": "display_data"
    },
    {
     "data": {
      "text/plain": [
       "<matplotlib.collections.PathCollection at 0x1d6769ad310>"
      ]
     },
     "execution_count": 16,
     "metadata": {},
     "output_type": "execute_result"
    },
    {
     "data": {
      "image/png": "[encoded data removed]",
      "text/plain": [
       "<Figure size 432x288 with 1 Axes>"
      ]
     },
     "metadata": {
      "needs_background": "light"
     },
     "output_type": "display_data"
    }
   ],
   "source": [
    "from matplotlib import pyplot as plt\n",
    "import numpy as np\n",
    "marks = ['Неуд','Удовл','Хор','Отл']\n",
    "data = [3, 7, 8, 4]\n",
    "fig = plt.figure(figsize = (10, 7))\n",
    "plt.pie(data, labels = marks)\n",
    "plt.show()\n",
    "plt.grid()\n",
    "plt.scatter (marks,data)"
   ]
  },
  {
   "cell_type": "markdown",
   "id": "2b079365",
   "metadata": {},
   "source": [
    "## 4.3.1 Задание\n",
    "Задача: задайте массив случайных значений из интервала(0; 1). Рассчитайте средние и медианные значения для массива, сравните результаты, какие выводы можно сделать о значениях? Постройте точечную диаграмму рассения полученного ряда."
   ]
  },
  {
   "cell_type": "code",
   "execution_count": 1,
   "id": "a843711f",
   "metadata": {
    "scrolled": true
   },
   "outputs": [
    {
     "name": "stdout",
     "output_type": "stream",
     "text": [
      "Среднее значение отличается о мединаы на: 0.4\n"
     ]
    },
    {
     "data": {
      "image/png": "[encoded data removed]",
      "text/plain": [
       "<Figure size 432x288 with 1 Axes>"
      ]
     },
     "metadata": {
      "needs_background": "light"
     },
     "output_type": "display_data"
    }
   ],
   "source": [
    "import random\n",
    "import statistics \n",
    "import matplotlib.pyplot as plt\n",
    "import pandas as pd\n",
    "\n",
    "x=10 \n",
    "el = [random.randint(0, 1) for i in range(x)]\n",
    "\n",
    "sym = 0\n",
    "for i in el:\n",
    "    sym += i\n",
    "\n",
    "med = statistics.median(el)\n",
    "print(\"Среднее значение отличается о мединаы на:\",(sym/len(el))-(med))\n",
    "\n",
    "mass =[i for i in range(x)]\n",
    "\n",
    "plt.scatter(x = mass, y = el, color = \"blue\")\n",
    "plt.show()"
   ]
  },
  {
   "cell_type": "markdown",
   "id": "2971e8c1",
   "metadata": {},
   "source": [
    "## 4.3.2 Задание\n",
    "Задача: дана функция  Создать массив из 10 значений функции (x, например, изменяется от 1 до 10).Выделить срез первой половины массива и построить графики для основного массива – линейный и для среза – точечный"
   ]
  },
  {
   "cell_type": "code",
   "execution_count": 81,
   "id": "ff34f9d6",
   "metadata": {},
   "outputs": [
    {
     "data": {
      "image/png": "[encoded data removed]",
      "text/plain": [
       "<Figure size 432x288 with 1 Axes>"
      ]
     },
     "metadata": {
      "needs_background": "light"
     },
     "output_type": "display_data"
    }
   ],
   "source": [
    "import math as m\n",
    "import numpy as np\n",
    "import matplotlib.pyplot as plt\n",
    "from numpy import trapz\n",
    "from scipy.integrate import simps\n",
    "t=10\n",
    "x = np.arange(1,t,1)\n",
    "x1 = np.arange(1,t//2,1)\n",
    "y = ((np.sqrt(1+((np.e)**np.sqrt(x))+(np.cos(x)*np.cos(x))))/(np.abs(1-np.sin(x)**3)))-(np.log(np.abs(x*2)))\n",
    "y1 = ((np.sqrt(1+((np.e)**np.sqrt(x1))+(np.cos(x1)*np.cos(x1))))/(np.abs(1-np.sin(x1)**3)))-(np.log(np.abs(x1*2)))\n",
    "plt.grid()\n",
    "plt.scatter(x1, y1, color = \"green\")\n",
    "plt.plot(x, y, color = \"red\")\n",
    "plt.show()"
   ]
  },
  {
   "cell_type": "markdown",
   "id": "5b634c99",
   "metadata": {},
   "source": [
    "## 4.3.3 Задание\n",
    "Задача: Дана функция |cos⁡(xe^((cos⁡(x)+ln⁡(x+1) ) ) ) | Построить график на интервале (0,10) с шагом 1с заливкой площади и найти эту площадь под ним. Для вычисления площади воспользуйте функции trapz(), вычисляющей интеграл по правилу трапеции.\n",
    "Для ее корректной работы необходимо подключить следующие библиотеки:\n",
    "from scipy.integrate import simps\n",
    "from numpy import trapz"
   ]
  },
  {
   "cell_type": "code",
   "execution_count": 80,
   "id": "4bcf8791",
   "metadata": {},
   "outputs": [
    {
     "name": "stdout",
     "output_type": "stream",
     "text": [
      "5.281433013197265\n"
     ]
    },
    {
     "data": {
      "image/png": "[encoded data removed]",
      "text/plain": [
       "<Figure size 432x288 with 1 Axes>"
      ]
     },
     "metadata": {
      "needs_background": "light"
     },
     "output_type": "display_data"
    }
   ],
   "source": [
    "import math as m\n",
    "import numpy as np\n",
    "import matplotlib.pyplot as plt\n",
    "from numpy import trapz\n",
    "from scipy.integrate import simps\n",
    "\n",
    "x = np.arange(1,10,1)\n",
    "y = np.abs(np.cos(x*np.e**(np.cos(x)+np.log(x+1))))\n",
    "plt.grid()\n",
    "plt.plot(x, y, c = \"yellow\")\n",
    "plt.fill_between(x, y)\n",
    "\n",
    "ploshg = trapz(y)\n",
    "print(ploshg)"
   ]
  },
  {
   "cell_type": "markdown",
   "id": "7475dc21",
   "metadata": {},
   "source": [
    "## 4.3.4 Задание\n",
    "Задача Откройте статистические данные по стоимости акций Apple, Microsoft, Google за 12 месяцев 2021 г. Постройте 3 графика на плоскости и оцените их динамику. Подумайте, как можно улучшить читаемость результатов.\n",
    "Для начальных данных допустимо использовать следующий ресурс: https://finance.yahoo.com"
   ]
  },
  {
   "cell_type": "code",
   "execution_count": 20,
   "id": "7dc9fe42",
   "metadata": {},
   "outputs": [
    {
     "data": {
      "image/png": "[encoded data removed]",
      "text/plain": [
       "<Figure size 432x288 with 1 Axes>"
      ]
     },
     "metadata": {
      "needs_background": "light"
     },
     "output_type": "display_data"
    }
   ],
   "source": [
    "import math as m\n",
    "import numpy as np\n",
    "import matplotlib.pyplot as plt\n",
    "from numpy import trapz\n",
    "from scipy.integrate import simps\n",
    "\n",
    "y = np.arange(0.0,12.0,1.0)\n",
    "x = [131.96, 121.26, 122.15, 131.46, 124.61, 136.96, 145.86, 151.83, 141.50, 149.80, 163.30, 177.57] ## Apple\n",
    "x1 = [231.96, 232.38, 235.77, 252.18, 249.68, 270.90, 284.92, 301.88, 281.92, 331.62, 330.59, 336.32] ## Microsoft\n",
    "x2 = [1835.74, 2036.86, 2068.63, 2410.12, 2411.56, 2506.32, 2704.42, 2909.24, 2665.31, 2965.41, 2849.04, 2893.59] ## Google\n",
    "plt.grid()\n",
    "plt.title(\"График стоимости акций Apple, Microsoft, Google за 12 месяцев 2021 г.\")\n",
    "plt.xlabel(\"Месяц\")\n",
    "plt.ylabel(\"Цена в $\")\n",
    "plt.minorticks_on()\n",
    "plt.plot(y, x, color = \"red\")\n",
    "plt.plot(y, x1, color = \"green\")\n",
    "plt.plot(y, x2, color = \"blue\")\n",
    "plt.legend(\"AMG\")\n",
    "plt.show()"
   ]
  },
  {
   "cell_type": "markdown",
   "id": "c9faf5d0",
   "metadata": {},
   "source": [
    "## 4.3.5 Задание\n",
    "Задача: Создайте простейший калькулятор, включающий основные действия для двух переменных'+','-','∙','÷', а также вычисление следующих функций: e^(x+y),sin⁡〖(x+y)〗,cos⁡〖(x+y)〗,x^y.\n",
    "    "
   ]
  },
  {
   "cell_type": "code",
   "execution_count": 21,
   "id": "66793bce",
   "metadata": {},
   "outputs": [
    {
     "name": "stdout",
     "output_type": "stream",
     "text": [
      "Введите X: 3\n",
      "Введите Y: 3\n",
      "1) Сложение\n",
      "2) Вычитание\n",
      "3) Умножение\n",
      "4) Деление\n",
      "5) e^(x+y)\n",
      "6) sin(x+y)\n",
      "7) cos(x+y)\n",
      "8) x^y\n",
      "Выберите действие: 2\n",
      "0\n"
     ]
    }
   ],
   "source": [
    "import numpy as np\n",
    "\n",
    "x=int(input(\"Введите X: \"))\n",
    "y=int(input(\"Введите Y: \"))\n",
    "print(\"1) Сложение\")\n",
    "print(\"2) Вычитание\")\n",
    "print(\"3) Умножение\")\n",
    "print(\"4) Деление\")\n",
    "print(\"5) e^(x+y)\")\n",
    "print(\"6) sin(x+y)\")\n",
    "print(\"7) cos(x+y)\")\n",
    "print(\"8) x^y\")\n",
    "mod=input(\"Выберите действие: \")\n",
    "if mod == '1':\n",
    "    print(x+y)\n",
    "if mod == '2':\n",
    "    print(x - y)\n",
    "if mod == '3':\n",
    "    print(x * y)\n",
    "if mod == '4':\n",
    "    print(x/y)\n",
    "if mod == '5':\n",
    "    print(np.e**(x+y))\n",
    "if mod == '6':\n",
    "    print(np.sin(x+y))\n",
    "if mod == '7':\n",
    "    print(np.cos(x+y))\n",
    "if mod == '8':\n",
    "    print(x**y)"
   ]
  }
 ],
 "metadata": {
  "kernelspec": {
   "display_name": "Python 3",
   "language": "python",
   "name": "python3"
  },
  "language_info": {
   "codemirror_mode": {
    "name": "ipython",
    "version": 3
   },
   "file_extension": ".py",
   "mimetype": "text/x-python",
   "name": "python",
   "nbconvert_exporter": "python",
   "pygments_lexer": "ipython3",
   "version": "3.8.8"
  }
 },
 "nbformat": 4,
 "nbformat_minor": 5
}
