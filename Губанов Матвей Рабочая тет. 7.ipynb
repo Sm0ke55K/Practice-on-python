{
 "cells": [
  {
   "cell_type": "markdown",
   "id": "ee189ac9",
   "metadata": {},
   "source": [
    "<h1 style=\"text-align:\">Губанов Матвей Рабочая тетрадь № 7 </h1>\n",
    "<h1 style=\"text-align:\">Нейронные сети</h1></p><p>\n",
    "<b>Обучение персептрона</b></p><p>\n",
    "Персептрон представляет собой элементарную часть нейронной сети.\n",
    "Одиночный персептрон является линейным бинарным классификатором. В\n",
    "этой лекции мы рассмотрим процедуру обучения персептрона для\n",
    "классификации данных. Поскольку персептрон представляет собой\n",
    "бинарный классификатор, то мы будем рассматривать лишь два класса.\n",
    "</p>\n",
    "<p>Пусть мы рассматриваем некоторое множество (конечное или\n",
    "бесконечное) n-мерных векторов, которые будем обозначать 𝑥 =\n",
    "(𝑥1, 𝑥2, . . . , 𝑥𝑛)</p>\n",
    "<p>Будем считать, что это множество разбивается на два класса, которые\n",
    "мы будем обозначать +1 и -1. Поэтому возникает задача построения\n",
    "функции, которая задана на нашем множестве векторов, и принимает\n",
    "значения в множестве {+1, −1}. В качестве такой функции может выступать\n",
    "персептрон. С алгебраической точки зрения персептрон состоит из вектора\n",
    "весов 𝑤 = (𝑤0, 𝑤1, 𝑤2, . . . , 𝑤𝑛).</p>\n",
    "<p>При этом персептрон работает по формуле\n",
    "𝑦 = 𝑠𝑖𝑔𝑛(𝑤0 + 𝑥1𝑤1 + 𝑥2𝑤2 + . . . + 𝑥𝑛𝑤𝑛),\n",
    "где функция 𝑠𝑖𝑔𝑛(𝑡) равна +1, если 𝑡 ≥ 0, и равна −1, если 𝑡 < 0.\n",
    "</p>\n",
    "<p>Приведем алгоритм обучения персептрона. Пусть у нас есть набор\n",
    "обучающих данных {(𝑥, 𝑑)}, где 𝑥 - это различные вектора, а 𝑑 из множества {+1, −1} указывает к какому классу относится наш вектор.</p>\n",
    "<ol>\n",
    "    <li>Положим вектор весов 𝑤 равным нулю.</li>\n",
    "    <li>Повторять 𝑁 раз следующие шаги:</li>\n",
    "    <li>Для каждого тестового набора (𝑥, 𝑑):</li>\n",
    "    <li>Вычислить 𝑦 = 𝑠𝑖𝑛𝑔[(𝑥, 𝑤)].</li>\n",
    "    <li>Если 𝑦𝑑 < 0, то скорректировать веса 𝑤0 = 𝑤0 + 𝑎𝑑, 𝑤𝑖 =𝑤𝑖 + 𝑎𝑑𝑥𝑖, 𝑖 = 1,2, . . . , 𝑛.</li>\n",
    "</ol>\n",
    "    <p>Описанный алгоритм довольно легко программировать.</p></div>"
   ]
  },
  {
   "cell_type": "markdown",
   "id": "0de09dc3",
   "metadata": {},
   "source": [
    "### 1.1.1 Пример\n",
    "\n",
    "Задача:\n",
    "Рассмотрим программу обучения персептрона на языке Python. Сначала рассмотрим основной класс персептрона, который умеет учиться по тестовым данным:\n",
    "\n",
    "Решение"
   ]
  },
  {
   "cell_type": "code",
   "execution_count": 1,
   "id": "9c81aa8c",
   "metadata": {},
   "outputs": [
    {
     "name": "stdout",
     "output_type": "stream",
     "text": [
      "[0.1, -0.1]\n",
      "-1\n",
      "1\n",
      "1\n",
      "-1\n"
     ]
    }
   ],
   "source": [
    "#класс, который реализует персептрон и его обучение\n",
    "class Perceptron:\n",
    "    def __init__(self,N):\n",
    "        #создать нулевые веса\n",
    "        self.w=list()\n",
    "        for i in range(N):\n",
    "            self.w.append(0)\n",
    "    #метод для вычисления значения персептрона\n",
    "    def calc(self,x):\n",
    "        res=0\n",
    "        for i in range(len(self.w)):\n",
    "            res=res+self.w[i]*x[i]\n",
    "        return res\n",
    "    #пороговая функция активации персептрона\n",
    "    def sign(self,x):\n",
    "        if(self.calc(x)>=0):\n",
    "            return 1\n",
    "        else:\n",
    "            return -1\n",
    "    #обучение на одном примере\n",
    "    def learn(self,la,x,y):\n",
    "        #обучаем только когда результат неверный\n",
    "        if y*self.calc(x)<=0:\n",
    "            for i in range(len(self.w)):\n",
    "                self.w[i]=self.w[i]+la*y*x[i]\n",
    "    #обучение по всем данным T - кортеж примеров\n",
    "    def learning(self,la,T):\n",
    "        #цикл обучения\n",
    "        for n in range(100):\n",
    "            #обучение по всему набору примеров\n",
    "            for t in T:\n",
    "                self.learn(la,t[0],t[1])\n",
    "\n",
    "#создаём класс думерного персептрона\n",
    "perceptron=Perceptron(2)\n",
    "la=0.1#константа обучения\n",
    "T=list()\n",
    "T.append([[2,1],1])\n",
    "T.append([[3,2],1])\n",
    "T.append([[4,1],1])\n",
    "T.append([[1,2],-1])\n",
    "T.append([[2,3],-1])\n",
    "T.append([[5,7],-1])\n",
    "perceptron.learning(la,T)#обучение персептрона\n",
    "print(perceptron.w)#печатаем веса\n",
    "#проверим работу на тестовых примерах\n",
    "print(perceptron.sign([1.5,2]))\n",
    "print(perceptron.sign([3,1.5]))\n",
    "print(perceptron.sign([5,1]))\n",
    "print(perceptron.sign([5,10]))"
   ]
  },
  {
   "cell_type": "markdown",
   "id": "d8e39ab3",
   "metadata": {},
   "source": [
    "<p style='text-indent:25px'>Видим, что что наш персептрон отлично научился распознавать образы,\n",
    "относя к классу 1 те вектора, у которых первая компонента больше второй,\n",
    "и к классу -1 в противном случае. Хотя устройство персептронов довольно\n",
    "простое эти конструкции могут решать и практические задачи. Кроме того,\n",
    "из таких персептронов состоят нейронные сети.</p>"
   ]
  },
  {
   "cell_type": "markdown",
   "id": "9776337e",
   "metadata": {},
   "source": [
    "\n",
    "<b> Реализация нейронной сети на Python\n",
    "</b></p></div>\n",
    "<p  style=\"text-indent: 20px\">Нейронная сеть — это функциональная единица машинного или\n",
    "глубокого обучения. Она имитирует поведение человеческого мозга,\n",
    "поскольку основана на концепции биологических нейронных сетей.</p>\n",
    "<p  style=\"text-indent: 20px\">Наиболее распространенный тип нейронной сети, называемый\n",
    "многослойным персептроном (MLP), представляет собой функцию, которая\n",
    "отображает входные данные в выходные данные. MLP имеет один входной\n",
    "слой и один выходной слой. Между ними может быть один или несколько\n",
    "скрытых слоев. Входной слой имеет тот же набор нейронов, что и признаки.\n",
    "Скрытые слои также могут иметь более одного нейрона. Каждый нейрон\n",
    "представляет собой линейную функцию, к которой применяется функция\n",
    "активации для решения сложных задач. Выход каждого слоя подается в\n",
    "качестве входных данных для всех нейронов следующих слоев.\n",
    "</p>\n",
    "<p  style=\"text-indent: 20px\">Нейронные сети способны решать множество задач. В основном они\n",
    "состоят из таких компонентов:\n",
    "</p>\n",
    "<p  style=\"text-indent: 50px\">-входной слой (получение и передача данных);</p>\n",
    "    <p  style=\"text-indent: 50px\">-скрытый слой (вычисление);</p>\n",
    "    <p  style=\"margin-left: 50px\">-выходной слой. Чтобы реализовать нейросеть, необходимо понимать, как ведут себя нейроны.  Нейрон одновременно принимает несколько входов, обрабатывает эти данные и выдает один выход. Нейронная сеть представляет собой блоки ввода и вывода, где каждое соединение имеет соответствующие веса (это сила связи нейронов; чем вес больше, тем один нейрон сильнее влияет на другой). Данные всех входов умножаются на веса:</p>\n",
    "    <p  style=\"text-indent: 50px\">-𝑥 → 𝑥 ∗ 𝑤1;</p>\n",
    "    <p  style=\"text-indent: 50px\">-𝑦 → 𝑦 ∗ 𝑤2.</p>\n",
    "    <p  style=\"text-indent: 20px\">Входы после взвешивания суммируются с прибавлением значения\n",
    "порога «c»:</p>\n",
    "    <p style=\"text-align:center\">𝑥𝑤1 + 𝑦𝑤2 + c</p>\n",
    "    <p  style=\"text-indent: 20px\">Полученное значение пропускается через функцию активации\n",
    "(сигмоиду), которая преобразует входы в один выход:\n",
    "</p>\n",
    "    <p style=\"text-align:center\">𝑧 = 𝑓(𝑥𝑤1 + 𝑦𝑤2 + 𝑐).</p>\n",
    "    <p  style=\"text-indent: 20px\">Так выглядит сигмоида:</p>\n",
    "    <img src=\"sigmoid.png\"></img>\n",
    "    <p>Интервал результатов сигмоиды — от 0 до 1. Отрицательные числа стремятся к нулю, а положительные — к единице.</p>\n",
    "    <p>Например. Пусть нейрон имеет следующие значения: 𝑤 = [0,1] 𝑐 = 4.</p>\n",
    "    <p>Входной слой: 𝑥 = 2, 𝑦 = 3.</p>\n",
    "    <p style=\"text-align:center\">((𝑥𝑤1) + (𝑦𝑤2)) + 𝑐 = 20 + 31 + 4 = 7.</p>\n",
    "    <p style=\"text-align:center\">𝑧 = 𝑓(7) = 0.99.</p>\n",
    "</div>"
   ]
  },
  {
   "cell_type": "markdown",
   "id": "e1a91616",
   "metadata": {},
   "source": [
    "### 1.1.2 Пример\n",
    "Задача: </i></b>\n",
    "         <p>Нейросеть состоит из множества соединенных между собой нейронов.\n",
    "Пример несложной нейронной сети\n",
    "</p>\n",
    "<img src=\"neuro.png\"></img>\n",
    "        <p style=\"margin-left:30px\">где:</p>\n",
    "<p style=\"margin-left:30px\">𝑥1, 𝑥2 — входной слой;</p>\n",
    "<p style=\"margin-left:30px\">ℎ1, ℎ2 — скрытый слой с двумя нейронами;</p>\n",
    "            <p style=\"margin-left:30px\">𝑜1 — выходной слой.</p>\n",
    "        <p style=\"text-indent:30px\">Например. Представим, что нейроны из графика выше имеют веса\n",
    "[0, 1]. Пороговое значение (𝑏) у обоих нейронов равно 0 и они имеют\n",
    "идентичную сигмоиду.</p>\n",
    "        <p style=\"text-indent:30px\">При входных данных 𝑥 = [2, 3] получим:</p>\n",
    "        <p style=\"text-indent:20px\">ℎ1 = ℎ2 = 𝑓(𝑤𝑥 + 𝑏) = 𝑓((02) + (1 ∗ 3) + 0) = 𝑓(3) = 0.95.</p>\n",
    "        <p style=\"text-indent:15px\">𝑜1 = 𝑓(𝑤 ∗ [ℎ1, ℎ2] + 𝑏) = 𝑓((0ℎ1) + (1ℎ2) + 0) = 𝑓(0.95) = 0.72</p>\n",
    "        <p style=\"text-indent:30px\">Входные данные по нейронам передаются до тех пор, пока не\n",
    "получатся выходные значения.</p>\n",
    "   </div>\n",
    "    </div>  \n",
    "        <b><i style = \"padding: 3px;\"> Решение </i></b></div>"
   ]
  },
  {
   "cell_type": "code",
   "execution_count": 2,
   "id": "143600d4",
   "metadata": {},
   "outputs": [
    {
     "name": "stdout",
     "output_type": "stream",
     "text": [
      "0.9990889488055994\n"
     ]
    }
   ],
   "source": [
    "import numpy as np\n",
    "def sigmoid(x):\n",
    "    #Функция активации: f(x)=1/(1+e^(-x))\n",
    "    return 1/(1+np.exp(-x))\n",
    "class Neuron:\n",
    "    def __init__(self,weights,bias):\n",
    "        self.weights=weights\n",
    "        self.bias=bias\n",
    "    def feedforward(self,inputs):\n",
    "        total=np.dot(self.weights,inputs)+self.bias\n",
    "        return sigmoid(total)\n",
    "weights=np.array([0,1])#w1=0, w2=1\n",
    "bias=4                 #c=4\n",
    "n=Neuron(weights,bias)\n",
    "x=np.array([2,3])#x=2,y=3\n",
    "print(n.feedforward(x))"
   ]
  },
  {
   "cell_type": "code",
   "execution_count": 3,
   "id": "63a853cb",
   "metadata": {},
   "outputs": [
    {
     "name": "stdout",
     "output_type": "stream",
     "text": [
      "0.7216325609518421\n"
     ]
    }
   ],
   "source": [
    "import numpy as np\n",
    "\"\"\"\n",
    "    Данные нейросети:\n",
    "    -два входа\n",
    "    -два нейрона в скрытых слоях(h1,h2)\n",
    "    -выход(o1)\n",
    "    Нейроны имеют идентичные веса и пороги:\n",
    "    -w=[0,1]\n",
    "    -b=0\n",
    "\"\"\"  \n",
    "class OurNeuralNetwork:\n",
    "    def __init__(self):\n",
    "        weights=np.array([0,1])\n",
    "        bias=0\n",
    "        self.h1=Neuron(weights,bias)\n",
    "        self.h2=Neuron(weights,bias)\n",
    "        self.o1=Neuron(weights,bias)\n",
    "    def feedforward(self,x):\n",
    "        out_h1=self.h1.feedforward(x)\n",
    "        out_h2=self.h2.feedforward(x)\n",
    "        out_o1=self.o1.feedforward(np.array([out_h1,out_h2]))\n",
    "        return out_o1\n",
    "network=OurNeuralNetwork()\n",
    "x=np.array([2,3])\n",
    "print(network.feedforward(x))"
   ]
  },
  {
   "cell_type": "markdown",
   "id": "40a4d7ef",
   "metadata": {},
   "source": [
    "<b> Обучение нейронной сети\n",
    "</b></p></div>\n",
    "<p  style=\"text-indent: 20px\">Обучение нейросети — это подбор весов, которые соответствуют всем\n",
    "входам для решения поставленных задач</p>\n",
    "<p  style=\"text-indent: 20px\">Класс нейронной сети:\n",
    "</p>\n",
    "    <code>class NeuralNetwork:\n",
    "    def __init__(self,x,y):\n",
    "        self.input=x\n",
    "        self.weights1=np.random.rand(self.input.shape[1],4)\n",
    "        self.weights2=np.random.rand(4,1)\n",
    "        self.y=y\n",
    "        self.output=np.zeros(self.y.shape)</code>\n",
    "<p  style=\"text-indent: 20px\">Каждый этап процесса обучения состоит из:\n",
    "</p>\n",
    "    <p  style=\"text-indent: 30px\">-прямого распространения (прогнозируемый выход);</p>\n",
    "    <p  style=\"margin-left: 30px\">-обратного распространения (обновление весов и смещений).</p>\n",
    "    <p  style=\"text-indent: 10px\">Например, дана двуслойная нейросеть:</p>\n",
    "    <p style=\"text-align:center\">ŷ = 𝜎(𝑤2𝜎(𝑤1𝑥 + 𝑏1) + 𝑏2).</p>\n",
    "    <p  style=\"text-indent: 0px\">В данном случае на выход ŷ влияют только две переменные — 𝑤 (веса) и 𝑏\n",
    "(смещение). Настройку весов и смещений из данных входа или процесс\n",
    "обучения нейросети можно изобразить так:\n",
    "</p>\n",
    "    <img src=\"dunno.png\"></img>\n",
    "    <p><b>Прямое распространение.</b></p>\n",
    "<p>Как видно, формула прямого распространения представляет собой\n",
    "несложное вычисление:\n",
    "</p>\n",
    "    <p style=\"text-align:center\">ŷ = 𝜎(𝑤2𝜎(𝑤1𝑥 + 𝑏1) + 𝑏2)</p>\n",
    "    <p>Далее необходимо добавить в код функцию прямого распространения.\n",
    "Предположим, что смещения в этом случае будут равны 0.</p>\n",
    "    <code>class NeuralNetwork:\n",
    "    def __init__(self,x,y):\n",
    "        self.input=x\n",
    "        self.weights1=np.random.rand(self.input.shape[1],4)\n",
    "        self.weights2=np.random.rand(4,1)\n",
    "        self.y=y\n",
    "        self.output=np.zeros(self.y.shape)\n",
    "    def feedforward(self):\n",
    "        self.layer1=sigmoid(np.dot(self.input,self.weights1))\n",
    "        self.output=sigmoid(np.dot(self.layer1,self.weights2))</code>\n",
    "    <p><b>Обратное распространение</b></p>\n",
    "<p>Обратное распространение позволяет измерить производные в\n",
    "обратном порядке — от конца к началу, и скорректировать веса и смещения.\n",
    "Для этого необходимо узнать производную функции потери — тангенс угла\n",
    "наклона.\n",
    "</p>\n",
    "    <p>Производная функции по отношению к весам и смещениям позволяет узнать градиентный спуск. Производная функции потери не содержит весов и смещений, для ее вычисления необходимо добавить правило цепи:</p>\n",
    "    <p style=\"text-align:center\">𝐿𝑜𝑠𝑠 (𝑦, 𝑦̂) = ∑(𝑦 − 𝑦̂)2𝑛𝑖=1𝜕𝐿𝑜𝑠𝑠 (𝑦, 𝑦̂)𝜕𝑊=𝜕𝐿𝑜𝑠𝑠 (𝑦, 𝑦̂)𝜕𝑦̂∙𝜕𝑦̂𝜕𝑧 ∙𝜕𝑧𝜕𝑊 = 2(𝑦 − 𝑦̂) ∙ производную сигмоиды ∙ 𝑥 == 2(𝑦 − 𝑦̂) ∙ 𝑧(1 − 𝑧) ∙ 𝑥,\n",
    "где 𝑧 = 𝑊𝑥 + b</p>\n",
    "    <p style=\"text-indent:20px\">Благодаря этому правилу можно регулировать веса. Добавляем в код\n",
    "Python функцию обратного распространения:\n",
    "</p>\n",
    "    <code>class NeuralNetwork:\n",
    "    def __init__(self,x,y):\n",
    "        self.input=x\n",
    "        self.weights1=np.random.rand(self.input.shape[1],4)\n",
    "        self.weights2=np.random.rand(4,1)\n",
    "        self.y=y\n",
    "        self.output=np.zeros(self.y.shape)\n",
    "    def feedforward(self):\n",
    "        self.layer1=sigmoid(np.dot(self.input,self.weights1))\n",
    "        self.output=sigmoid(np.dot(self.layer1,self.weights2))\n",
    "    def backprop(self):\n",
    "        #применение правила цепи для нахождения производной функции потерь по весу2 и весу1\n",
    "        d_weights2=np.dot(self.layer1.T,(2*(self.y-self.output)*sigmoid_derivative(self.output)))\n",
    "        d_weights1=np.dot(self.input.T,(np.dot(2*(self.y-self.output)*sigmoid_derivative(self.output),self.weights2.T)*sigmoid_derivative(self.layer1)))\n",
    "        #обновление веса производной(наклона) функции потерь\n",
    "        self.weights1+=d_weights1\n",
    "        self.weights2+=d_weights2</code>\n",
    "    <p style=\"text-indent:20px\">Нейронные сети базируются на определенных алгоритмах и\n",
    "математических функциях. Сначала может казаться, что разобраться в них\n",
    "довольно сложно. Но существуют готовые библиотеки машинного обучения\n",
    "для построения и тренировки нейросетей, позволяющие не углубляться в их\n",
    "устройство.\n",
    "</p>\n",
    "</div>"
   ]
  },
  {
   "cell_type": "markdown",
   "id": "d62fab47",
   "metadata": {},
   "source": [
    "<b>Задание </b> </p>\n",
    "    </div>\n",
    "        <b><i style = \"padding: 3px;\"> Задача: </i></b>\n",
    "          Реализовать классы нейросетей по аналогии с классом OurNeuralNetwork.\n",
    "            <p>Данные нейросети:</p>\n",
    "            <p  style=\"text-indent: 20px\">-три входа (𝑥1, 𝑥2, 𝑥3);</p>\n",
    "            <p  style=\"text-indent: 20px\">-три нейрона в скрытых слоях (ℎ1, ℎ2, ℎ3);</p>\n",
    "            <p  style=\"text-indent: 20px\">-выход (𝑜1).</p>\n",
    "            <p>Нейроны имеют идентичные веса и пороги:</p>\n",
    "            <p  style=\"text-indent: 20px\">-𝑤 = [0.5, 0.5, 0.5]</p>\n",
    "            <p  style=\"text-indent: 20px\">-𝑏 = 0</p>\n",
    "            <p>Данные нейросети:</p>\n",
    "            <p  style=\"text-indent: 20px\">-два входа (𝑥1, 𝑥2);</p>\n",
    "            <p  style=\"text-indent: 20px\">-два нейрона в скрытых слоях (ℎ1, ℎ2);</p>\n",
    "            <p  style=\"text-indent: 20px\">-два выхода (𝑜1, 𝑜2).</p>\n",
    "            <p>Нейроны имеют идентичные веса и пороги:</p>\n",
    "            <p  style=\"text-indent: 20px\">-𝑤 = [1, 0];</p>\n",
    "            <p  style=\"text-indent: 20px\">-𝑏 = 1.</p>\n",
    "        </div>\n",
    "    </div>\n",
    "</div>"
   ]
  },
  {
   "cell_type": "code",
   "execution_count": 4,
   "id": "cf1de060",
   "metadata": {},
   "outputs": [
    {
     "name": "stdout",
     "output_type": "stream",
     "text": [
      "0.8151036049051821\n"
     ]
    }
   ],
   "source": [
    "class OurNeuralNetwork2:\n",
    "    def __init__(self):\n",
    "        weights=np.array([0.5,0.5,0.5])\n",
    "        bias=0\n",
    "        self.h1=Neuron(weights,bias)\n",
    "        self.h2=Neuron(weights,bias)\n",
    "        self.h3=Neuron(weights,bias)\n",
    "        self.o1=Neuron(weights,bias)\n",
    "    def feedforward(self,x):\n",
    "        out_h1=self.h1.feedforward(x)\n",
    "        out_h2=self.h2.feedforward(x)\n",
    "        out_h3=self.h3.feedforward(x)\n",
    "        out_o1=self.o1.feedforward(np.array([out_h1,out_h2,out_h3]))\n",
    "        return out_o1\n",
    "network=OurNeuralNetwork2()\n",
    "x=np.array([2,3,4])\n",
    "print(network.feedforward(x))"
   ]
  },
  {
   "cell_type": "code",
   "execution_count": 5,
   "id": "3796275f",
   "metadata": {},
   "outputs": [
    {
     "name": "stdout",
     "output_type": "stream",
     "text": [
      "(0.8757270529783324, 0.8757270529783324)\n"
     ]
    }
   ],
   "source": [
    "class OurNeuralNetwork3:\n",
    "    def __init__(self):\n",
    "        weights=np.array([1,0])\n",
    "        bias=1\n",
    "        self.h1=Neuron(weights,bias)\n",
    "        self.h2=Neuron(weights,bias)\n",
    "        self.o1=Neuron(weights,bias)\n",
    "        self.o2=Neuron(weights,bias)\n",
    "    def feedforward(self,x):\n",
    "        out_h1=self.h1.feedforward(x)\n",
    "        out_h2=self.h2.feedforward(x)\n",
    "        out_o1=self.o1.feedforward(np.array([out_h1,out_h2]))\n",
    "        out_o2=self.o2.feedforward(np.array([out_h2,out_h1]))\n",
    "        return out_o1, out_o2\n",
    "network=OurNeuralNetwork3()\n",
    "x=np.array([2,3])\n",
    "print(network.feedforward(x))"
   ]
  },
  {
   "cell_type": "markdown",
   "id": "16899c95",
   "metadata": {},
   "source": [
    "<b>Задание </b> </p>\n",
    "        <b><i style = \"padding: 3px;\"> Задача: </i></b>\n",
    "          Реализуйте классы нейронных сетей с использованием других функций\n",
    "активации.\n",
    "            <p style=\"text-indent:20px\"><b>Sigmoid</b></p>\n",
    "            <p style=\"text-indent:20px\"><b>tanh - tanh(x)</b></p>\n",
    "            <p style=\"text-indent:20px\"><b>ReLU - max(0,x)</b></p>\n",
    "        </div>\n",
    "    </div>\n",
    "</div>"
   ]
  },
  {
   "cell_type": "code",
   "execution_count": 6,
   "id": "1d609090",
   "metadata": {},
   "outputs": [
    {
     "name": "stdout",
     "output_type": "stream",
     "text": [
      "0.9999983369439447\n",
      "7\n"
     ]
    }
   ],
   "source": [
    "def tanh(x):\n",
    "    return np.tanh(x)\n",
    "def ReLU(x):\n",
    "    return max(0,x)\n",
    "class NeuronTan:\n",
    "    def __init__(self,weights,bias):\n",
    "        self.weights=weights\n",
    "        self.bias=bias\n",
    "    def feedforward(self,inputs):\n",
    "        total=np.dot(self.weights,inputs)+self.bias\n",
    "        return tanh(total)\n",
    "class NeuronRel:\n",
    "    def __init__(self,weights,bias):\n",
    "        self.weights=weights\n",
    "        self.bias=bias\n",
    "    def feedforward(self,inputs):\n",
    "        total=np.dot(self.weights,inputs)+self.bias\n",
    "        return ReLU(total)\n",
    "weights=np.array([0,1])#w1=0, w2=1\n",
    "bias=4                 #c=4\n",
    "n=NeuronTan(weights,bias)\n",
    "x=np.array([2,3])#x=2,y=3\n",
    "print(n.feedforward(x))\n",
    "\n",
    "k=NeuronRel(weights,bias)\n",
    "print(k.feedforward(x))"
   ]
  },
  {
   "cell_type": "markdown",
   "id": "c55027c5",
   "metadata": {},
   "source": [
    "<b>Введение в нейронные сети с помощью Scikit-Learn в Python</b></p></div>\n",
    "\n",
    "Теперь мы знаем, что такое нейронные сети и какие шаги необходимо\n",
    "выполнить, чтобы построить простую нейронную сеть с плотными связями.\n",
    "В этом разделе мы попытаемся построить простую нейронную сеть, которая\n",
    "предсказывает класс, к которому принадлежит данное растение ириса. Мы\n",
    "будем использовать библиотеку Python Scikit-Learn для создания нашей\n",
    "нейронной сети.\n",
    "</p>\n",
    "<p>Sklearn предоставляет 2 оценщика для задач классификации и\n",
    "регрессии соответственно:</p>\n",
    "    <p style=\"text-indent:20px\">-MLPClassifier;</p>\n",
    "    <p style=\"text-indent:20px\">-MLPRegressor</p>\n",
    "    <p>Начнем с импорта необходимых библиотек.\n",
    "</p>\n",
    "    <code>\n",
    "import numpy as np\n",
    "import pandas as pd\n",
    "import matplotlib.pyplot as plt\n",
    "import sklearn</code>\n",
    "    </div>\n",
    "        <p style = \"text-align: center;\"><b>MLPClassifier</b></p></div>\n",
    "        <p style=\"text-indent:20px\">Загрузка данных</p>\n",
    "        <p style=\"text-indent:20px\">Мы будем загружать два набора данных.</p>\n",
    "        <p style=\"text-indent:20px\">Набор данных цифр: мы будем использовать набор данных цифр,\n",
    "который имеет изображения размером 8x8 для цифр 0-9. Ниже мы будем\n",
    "использовать цифровые данные для задач классификации.</p>\n",
    "        <p style=\"text-indent:20px\">Набор данных о жилье в Бостоне: мы будем использовать набор\n",
    "данных о жилье в Бостоне, который содержит информацию о различных\n",
    "свойствах дома, таких как среднее количество комнат, уровень преступности\n",
    "на душу населения в городе и т. д. Мы будем использовать его для задач\n",
    "регрессии.\n",
    "</p>\n",
    "        <p style=\"text-indent:20px\">Sklearn предоставляет оба этих набора данных. Мы можем загрузить\n",
    "их, вызвав методы load_digits() и load_boston().</p>\n",
    "        </div>   "
   ]
  },
  {
   "cell_type": "code",
   "execution_count": 7,
   "id": "078b23a4",
   "metadata": {},
   "outputs": [
    {
     "name": "stdout",
     "output_type": "stream",
     "text": [
      "Dataset Sizes:  (1797, 64) (1797,)\n"
     ]
    }
   ],
   "source": [
    "import numpy as np\n",
    "import pandas as pd\n",
    "import matplotlib.pyplot as plt\n",
    "import sklearn\n",
    "from sklearn.datasets import load_digits, load_boston\n",
    "digits=load_digits()\n",
    "X_digits,Y_digits=digits.data,digits.target\n",
    "print('Dataset Sizes: ',X_digits.shape,Y_digits.shape)"
   ]
  },
  {
   "cell_type": "code",
   "execution_count": 8,
   "id": "acad11f2",
   "metadata": {},
   "outputs": [
    {
     "name": "stdout",
     "output_type": "stream",
     "text": [
      "Dataset Sizes:  (506, 13) (506,)\n"
     ]
    }
   ],
   "source": [
    "boston=load_boston()\n",
    "X_boston, Y_boston=boston.data,boston.target\n",
    "print('Dataset Sizes: ',X_boston.shape,Y_boston.shape)"
   ]
  },
  {
   "cell_type": "markdown",
   "id": "9d5685fc",
   "metadata": {},
   "source": [
    "<b>Классификация</b></p>\n",
    "        <p style=\"text-indent:20px\">MLPClassifier — это клвсс, доступный как часть модуля neuro_network\n",
    "sklearn для выполнения задач классификации с использованием\n",
    "многослойного персептрона.\n",
    "</p>\n",
    "        <p style=\"text-indent:20px\">Как обычно разделим набор данных на две части:</p>\n",
    "         <p style=\"text-indent:30px\">-данные обучения, которые будут использоваться для модели обучения;</p>\n",
    "    <p style=\"text-indent:30px\">-тестовые данные, по которым будет проверяться точность обученной модели.</p>\n",
    "        <p style=\"text-indent:20px\">Функция train_test_split модуля model_selection sklearn поможет нам\n",
    "разделить данные на два набора: 80% для обучения и 20% для тестирования.\n",
    "Мы также используем seed(random_state=123) с train_test_split, чтобы мы\n",
    "всегда получали одно и то же разделение и могли сравнивать и\n",
    "воспроизволить результаты в будущем.\n",
    "</p>\n",
    "            </div>\n",
    "        </div>"
   ]
  },
  {
   "cell_type": "code",
   "execution_count": 9,
   "id": "076aae30",
   "metadata": {},
   "outputs": [
    {
     "name": "stdout",
     "output_type": "stream",
     "text": [
      "Train/Test Sizes:  (1437, 64) (360, 64) (1437,) (360,)\n"
     ]
    }
   ],
   "source": [
    "from sklearn.model_selection import train_test_split\n",
    "from sklearn.datasets import load_digits, load_boston\n",
    "digits=load_digits()\n",
    "X_digits,Y_digits=digits.data,digits.target\n",
    "X_train, X_test, Y_train, Y_test=train_test_split(X_digits,Y_digits,train_size=0.80, test_size=0.20,stratify=Y_digits)\n",
    "print('Train/Test Sizes: ',X_train.shape,X_test.shape,Y_train.shape,Y_test.shape)"
   ]
  },
  {
   "cell_type": "code",
   "execution_count": 10,
   "id": "69a73017",
   "metadata": {},
   "outputs": [
    {
     "name": "stdout",
     "output_type": "stream",
     "text": [
      "[[ 0.  0.  0. ...  1.  0.  0.]\n",
      " [ 0.  0.  0. ...  4.  0.  0.]\n",
      " [ 0.  5. 16. ...  8.  6.  0.]\n",
      " ...\n",
      " [ 0.  0.  5. ...  1.  0.  0.]\n",
      " [ 0.  0. 10. ... 10.  0.  0.]\n",
      " [ 0.  0.  0. ...  6.  0.  0.]]\n",
      "[2 5 0 7 2 4 3 5 4 4 1 6 3 2 7]\n",
      "[2 5 0 7 2 0 3 5 4 4 1 6 3 2 7]\n",
      "Test Accuracy: 0.975\n",
      "Test Accuracy: 1.000\n"
     ]
    }
   ],
   "source": [
    "from sklearn.neural_network import MLPClassifier\n",
    "mlp_classifier=MLPClassifier()\n",
    "mlp_classifier.fit(X_train,Y_train)\n",
    "print(X_train)\n",
    "Y_preds=mlp_classifier.predict(X_test)\n",
    "print(Y_preds[:15])\n",
    "print(Y_test[:15])\n",
    "print('Test Accuracy: %.3f'%mlp_classifier.score(X_test,Y_test))\n",
    "print('Test Accuracy: %.3f'%mlp_classifier.score(X_train,Y_train))"
   ]
  },
  {
   "cell_type": "code",
   "execution_count": 11,
   "id": "26e229d9",
   "metadata": {},
   "outputs": [
    {
     "data": {
      "image/png": "[encoded data removed]",
      "text/plain": [
       "<Figure size 432x432 with 2 Axes>"
      ]
     },
     "metadata": {
      "needs_background": "light"
     },
     "output_type": "display_data"
    }
   ],
   "source": [
    "from sklearn.metrics import confusion_matrix\n",
    "def plot_confusion_matrix(Y_test,Y_preds):\n",
    "    conf_mat=confusion_matrix(Y_test,Y_preds)\n",
    "    #print(conf_mat)\n",
    "    fig=plt.figure(figsize=(6,6))\n",
    "    plt.matshow(conf_mat,cmap=plt.cm.Blues,fignum=1)\n",
    "    plt.yticks(range(10),range(10))\n",
    "    plt.xticks(range(10),range(10))\n",
    "    plt.colorbar()\n",
    "    for i in range(10):\n",
    "        for j in range(10):\n",
    "            plt.text(i-0.2,j+0.1,str(conf_mat[j,i]),color='tab:red')\n",
    "plot_confusion_matrix(Y_test,mlp_classifier.predict(X_test))"
   ]
  },
  {
   "cell_type": "markdown",
   "id": "3191e9b1",
   "metadata": {},
   "source": [
    "Ниже приведен список важных атрибутов, доступных с MLPClassifier,\n",
    "которые могут предоставить значимую информацию после обучения\n",
    "модели.\n",
    "</p>\n",
    "         <p style=\"text-indent:30px\">-loss_ — возвращает убыток после завершения процесса обучения.</p>\n",
    "    <p style=\"margin-left:30px\">-coefs_ — возвращает массив длины n_layers-1, где каждый элемент представляет веса, связанные с уровнем i.</p>\n",
    "    <p style=\"margin-left:30px\">-intercepts_ — возвращает массив длины n_layers-1, где каждый элемент представляет собой перехват, связанный с персептронами слоя i.</p>\n",
    "    <p style=\"text-indent:30px\">-n_iter_ — количество итераций, для которых выполнялась оценка.</p>\n",
    "        <p style=\"text-indent:20px\">Функция train_test_split модуля model_selection sklearn поможет нам\n",
    "разделить данные на два набора: 80% для обучения и 20% для тестирования.\n",
    "Мы также используем seed(random_state=123) с train_test_split, чтобы мы\n",
    "всегда получали одно и то же разделение и могли сравнивать и\n",
    "воспроизволить результаты в будущем.\n",
    "</p>\n",
    "            </div>\n",
    "        </div>"
   ]
  },
  {
   "cell_type": "code",
   "execution_count": 12,
   "id": "9ed5b923",
   "metadata": {},
   "outputs": [
    {
     "name": "stdout",
     "output_type": "stream",
     "text": [
      "Loss:  0.0031008975156624676\n",
      "Number of Coefs:  2\n",
      "Number of Intercepts:  2\n",
      "Number of Iterations for Which Estimator Ran:  144\n",
      "name of Outuput Layer Activation Function:  softmax\n"
     ]
    }
   ],
   "source": [
    "print(\"Loss: \", mlp_classifier.loss_)\n",
    "print(\"Number of Coefs: \",len(mlp_classifier.coefs_))\n",
    "print(\"Number of Intercepts: \",len(mlp_classifier.intercepts_))\n",
    "print(\"Number of Iterations for Which Estimator Ran: \",mlp_classifier.n_iter_)\n",
    "print(\"name of Outuput Layer Activation Function: \",mlp_classifier.out_activation_)"
   ]
  },
  {
   "cell_type": "markdown",
   "id": "4a0e3018",
   "metadata": {},
   "source": [
    "<b>MLPRegressor</b></p></div>\n",
    "MLPRegressor — это класс, доступный как часть библиотеки\n",
    "neuro_network sklearn для выполнения задач регрессии с использованием\n",
    "многослойного персептрона. Также разделим набор данных на две части:\n",
    "</p>\n",
    "    <p style=\"text-indent:20px\">-данные обучения (80%), которые будут использоваться для модели обучения;</p>\n",
    "    <p style=\"text-indent:20px\">-тестовые данные (20%), по которым будет проверяться точность обученной модели.</p>\n",
    "    </div>\n",
    "        </div>   "
   ]
  },
  {
   "cell_type": "code",
   "execution_count": 13,
   "id": "33e3b7f1",
   "metadata": {},
   "outputs": [
    {
     "name": "stdout",
     "output_type": "stream",
     "text": [
      "Train/Test Sizes:  (404, 13) (102, 13) (404,) (102,)\n"
     ]
    }
   ],
   "source": [
    "boston=load_boston()\n",
    "X_boston, Y_boston=boston.data,boston.target\n",
    "X_train, X_test, Y_train, Y_test=train_test_split(X_boston,Y_boston,train_size=0.80, test_size=0.20,random_state=123)\n",
    "print('Train/Test Sizes: ',X_train.shape,X_test.shape,Y_train.shape,Y_test.shape)"
   ]
  },
  {
   "cell_type": "code",
   "execution_count": 14,
   "id": "d827e26a",
   "metadata": {},
   "outputs": [
    {
     "name": "stdout",
     "output_type": "stream",
     "text": [
      "[ 7.32543601 24.33417853 32.46700507 15.19086054 25.6749167  25.07797685\n",
      " 27.20985668  2.62269853 15.25691994 28.02637784]\n",
      "[15.  26.6 45.4 20.8 34.9 21.9 28.7  7.2 20.  32.2]\n",
      "Test R^2 Score:0.462\n",
      "Training R^2 Score:0.510\n"
     ]
    }
   ],
   "source": [
    "from sklearn.neural_network import MLPRegressor\n",
    "mlp_regressor=MLPRegressor(random_state=123)\n",
    "mlp_regressor.fit(X_train,Y_train)\n",
    "Y_preds=mlp_regressor.predict(X_test)\n",
    "print(Y_preds[:10])\n",
    "print(Y_test[:10])\n",
    "##Метод Score оценивает точность моделей классификации\n",
    "print('Test R^2 Score:%.3f'%mlp_regressor.score(X_test,Y_test))\n",
    "print('Training R^2 Score:%.3f'%mlp_regressor.score(X_train,Y_train))"
   ]
  },
  {
   "cell_type": "code",
   "execution_count": 15,
   "id": "db217291",
   "metadata": {},
   "outputs": [
    {
     "name": "stdout",
     "output_type": "stream",
     "text": [
      "Loss:  28.538174061119626\n",
      "Number of Coefs:  2\n",
      "Number of Intercepts:  2\n",
      "Number of Iterations for Which Estimator Ran:  130\n",
      "name of Outuput Layer Activation Function:  identity\n"
     ]
    }
   ],
   "source": [
    "print(\"Loss: \", mlp_regressor.loss_)\n",
    "print(\"Number of Coefs: \",len(mlp_regressor.coefs_))\n",
    "print(\"Number of Intercepts: \",len(mlp_regressor.intercepts_))\n",
    "print(\"Number of Iterations for Which Estimator Ran: \",mlp_regressor.n_iter_)\n",
    "print(\"name of Outuput Layer Activation Function: \",mlp_regressor.out_activation_)"
   ]
  },
  {
   "cell_type": "markdown",
   "id": "02d4aa1e",
   "metadata": {},
   "source": [
    "<b>Задание</b> </p>\n",
    "Задача: </i></b>\n",
    "          <p style=\"text-indent:20px\">Используйте классы MLPClassified и MLPRegressor для классификации и\n",
    "регрессии произвольных данных из интернета. Проведите анализ\n",
    "атрибуты, полученных моделей.</p>\n",
    "            <p style=\"text-indent:20px\">Для классификации можете взять набор данных Ирисов:\n",
    "<a href=\"https://gist.githubusercontent.com/netj/8836201/raw/6f9306ad21398ea43cba4f\n",
    "    7d537619d0e07d5ae3/iris.csv\">Ириски</a>\n",
    ",а для регрессии датасет зависимости заработной платы от опыта работы:\n",
    "<a href=\"https://raw.githubusercontent.com/AnnaShestova/salary-years-simple-linearregression/master/Salary_Data.csv\">Опыт<a/></p>\n",
    "        </div>\n",
    "    </div>\n",
    "</div>"
   ]
  },
  {
   "cell_type": "code",
   "execution_count": 16,
   "id": "de0b67d6",
   "metadata": {},
   "outputs": [
    {
     "name": "stdout",
     "output_type": "stream",
     "text": [
      "Train/Test Sizes:  (120, 4) (30, 4) (120,) (30,)\n",
      "['Virginica' 'Versicolor' 'Setosa' 'Versicolor' 'Virginica' 'Versicolor'\n",
      " 'Versicolor' 'Setosa' 'Virginica' 'Versicolor' 'Setosa' 'Versicolor'\n",
      " 'Versicolor' 'Versicolor' 'Versicolor']\n",
      "149     Virginica\n",
      "64     Versicolor\n",
      "15         Setosa\n",
      "88     Versicolor\n",
      "101     Virginica\n",
      "80     Versicolor\n",
      "62     Versicolor\n",
      "25         Setosa\n",
      "117     Virginica\n",
      "52     Versicolor\n",
      "49         Setosa\n",
      "54     Versicolor\n",
      "85     Versicolor\n",
      "78     Versicolor\n",
      "51     Versicolor\n",
      "Name: variety, dtype: object\n",
      "Test Accuracy: 1.000\n",
      "Test Accuracy: 0.967\n"
     ]
    },
    {
     "name": "stderr",
     "output_type": "stream",
     "text": [
      "C:\\ProgramData\\Anaconda3\\lib\\site-packages\\sklearn\\neural_network\\_multilayer_perceptron.py:614: ConvergenceWarning: Stochastic Optimizer: Maximum iterations (200) reached and the optimization hasn't converged yet.\n",
      "  warnings.warn(\n"
     ]
    }
   ],
   "source": [
    "iris=pd.read_csv('https://gist.githubusercontent.com/netj/8836201/raw/6f9306ad21398ea43cba4f7d537619d0e07d5ae3/iris.csv')\n",
    "x_train, x_test, y_train, y_test=train_test_split(\n",
    "iris.iloc[:,:-1],\n",
    "iris.iloc[:,-1],\n",
    "test_size=0.20\n",
    ")\n",
    "print('Train/Test Sizes: ',x_train.shape,x_test.shape,y_train.shape,y_test.shape)\n",
    "mlp_classifier=MLPClassifier()\n",
    "mlp_classifier.fit(x_train,y_train)\n",
    "y_preds=mlp_classifier.predict(x_test)\n",
    "print(y_preds[:15])\n",
    "print(y_test[:15])\n",
    "print('Test Accuracy: %.3f'%mlp_classifier.score(x_test,y_test))\n",
    "print('Test Accuracy: %.3f'%mlp_classifier.score(x_train,y_train))"
   ]
  },
  {
   "cell_type": "code",
   "execution_count": 17,
   "id": "1cdfce39",
   "metadata": {},
   "outputs": [
    {
     "data": {
      "image/png": "[encoded data removed]",
      "text/plain": [
       "<Figure size 432x432 with 2 Axes>"
      ]
     },
     "metadata": {
      "needs_background": "light"
     },
     "output_type": "display_data"
    }
   ],
   "source": [
    "from sklearn.metrics import confusion_matrix\n",
    "def plot_confusion_matrix(y_test,y_preds):\n",
    "    conf_mat=confusion_matrix(y_test,y_preds)\n",
    "    #print(conf_mat)\n",
    "    fig=plt.figure(figsize=(6,6))\n",
    "    plt.matshow(conf_mat,cmap=plt.cm.Blues,fignum=1)\n",
    "    plt.yticks(range(3),range(3))\n",
    "    plt.xticks(range(3),range(3))\n",
    "    plt.colorbar()\n",
    "    for i in range(3):\n",
    "        for j in range(3):\n",
    "            plt.text(i-0.2,j+0.1,str(conf_mat[j,i]),color='tab:red')\n",
    "plot_confusion_matrix(y_test,mlp_classifier.predict(x_test))"
   ]
  },
  {
   "cell_type": "code",
   "execution_count": 18,
   "id": "bb5df6a6",
   "metadata": {},
   "outputs": [
    {
     "name": "stdout",
     "output_type": "stream",
     "text": [
      "(30, 2)\n"
     ]
    },
    {
     "data": {
      "text/html": [
       "<div>\n",
       "<style scoped>\n",
       "    .dataframe tbody tr th:only-of-type {\n",
       "        vertical-align: middle;\n",
       "    }\n",
       "\n",
       "    .dataframe tbody tr th {\n",
       "        vertical-align: top;\n",
       "    }\n",
       "\n",
       "    .dataframe thead th {\n",
       "        text-align: right;\n",
       "    }\n",
       "</style>\n",
       "<table border=\"1\" class=\"dataframe\">\n",
       "  <thead>\n",
       "    <tr style=\"text-align: right;\">\n",
       "      <th></th>\n",
       "      <th>YearsExperience</th>\n",
       "      <th>Salary</th>\n",
       "    </tr>\n",
       "  </thead>\n",
       "  <tbody>\n",
       "    <tr>\n",
       "      <th>count</th>\n",
       "      <td>30.000000</td>\n",
       "      <td>30.000000</td>\n",
       "    </tr>\n",
       "    <tr>\n",
       "      <th>mean</th>\n",
       "      <td>5.313333</td>\n",
       "      <td>76003.000000</td>\n",
       "    </tr>\n",
       "    <tr>\n",
       "      <th>std</th>\n",
       "      <td>2.837888</td>\n",
       "      <td>27414.429785</td>\n",
       "    </tr>\n",
       "    <tr>\n",
       "      <th>min</th>\n",
       "      <td>1.100000</td>\n",
       "      <td>37731.000000</td>\n",
       "    </tr>\n",
       "    <tr>\n",
       "      <th>25%</th>\n",
       "      <td>3.200000</td>\n",
       "      <td>56720.750000</td>\n",
       "    </tr>\n",
       "    <tr>\n",
       "      <th>50%</th>\n",
       "      <td>4.700000</td>\n",
       "      <td>65237.000000</td>\n",
       "    </tr>\n",
       "    <tr>\n",
       "      <th>75%</th>\n",
       "      <td>7.700000</td>\n",
       "      <td>100544.750000</td>\n",
       "    </tr>\n",
       "    <tr>\n",
       "      <th>max</th>\n",
       "      <td>10.500000</td>\n",
       "      <td>122391.000000</td>\n",
       "    </tr>\n",
       "  </tbody>\n",
       "</table>\n",
       "</div>"
      ],
      "text/plain": [
       "       YearsExperience         Salary\n",
       "count        30.000000      30.000000\n",
       "mean          5.313333   76003.000000\n",
       "std           2.837888   27414.429785\n",
       "min           1.100000   37731.000000\n",
       "25%           3.200000   56720.750000\n",
       "50%           4.700000   65237.000000\n",
       "75%           7.700000  100544.750000\n",
       "max          10.500000  122391.000000"
      ]
     },
     "execution_count": 18,
     "metadata": {},
     "output_type": "execute_result"
    }
   ],
   "source": [
    "# продолжение\n",
    "import pandas as pd\n",
    "import numpy as np\n",
    "import matplotlib.pyplot as pls\n",
    "url = r'https://raw.githubusercontent.com/AnnaShestova/salary-years-simple-linear-regression/master/Salary_Data.csv'\n",
    "dataset = pd.read_csv(url)\n",
    "dataset.head()\n",
    "\n",
    "print(dataset.shape)\n",
    "dataset.describe()"
   ]
  },
  {
   "cell_type": "code",
   "execution_count": 19,
   "id": "13c855bf",
   "metadata": {},
   "outputs": [
    {
     "name": "stdout",
     "output_type": "stream",
     "text": [
      "[[ 1.1]\n",
      " [ 1.3]\n",
      " [ 1.5]\n",
      " [ 2. ]\n",
      " [ 2.2]\n",
      " [ 2.9]\n",
      " [ 3. ]\n",
      " [ 3.2]\n",
      " [ 3.2]\n",
      " [ 3.7]\n",
      " [ 3.9]\n",
      " [ 4. ]\n",
      " [ 4. ]\n",
      " [ 4.1]\n",
      " [ 4.5]\n",
      " [ 4.9]\n",
      " [ 5.1]\n",
      " [ 5.3]\n",
      " [ 5.9]\n",
      " [ 6. ]\n",
      " [ 6.8]\n",
      " [ 7.1]\n",
      " [ 7.9]\n",
      " [ 8.2]\n",
      " [ 8.7]\n",
      " [ 9. ]\n",
      " [ 9.5]\n",
      " [ 9.6]\n",
      " [10.3]\n",
      " [10.5]]\n",
      "[ 39343.  46205.  37731.  43525.  39891.  56642.  60150.  54445.  64445.\n",
      "  57189.  63218.  55794.  56957.  57081.  61111.  67938.  66029.  83088.\n",
      "  81363.  93940.  91738.  98273. 101302. 113812. 109431. 105582. 116969.\n",
      " 112635. 122391. 121872.]\n"
     ]
    }
   ],
   "source": [
    "from sklearn.tree import DecisionTreeRegressor\n",
    "X = dataset.iloc[:, :-1].values\n",
    "y = dataset.iloc[:, 1].values\n",
    "print (X)\n",
    "print (y)\n",
    "\n",
    "X_train, X_test, y_train, y_test = train_test_split(X, y, test_size = 0.2, random_state = 0)"
   ]
  },
  {
   "cell_type": "code",
   "execution_count": 20,
   "id": "440f4b22",
   "metadata": {},
   "outputs": [
    {
     "name": "stdout",
     "output_type": "stream",
     "text": [
      "Train/Test Sizes: (404, 13) (102, 13) (404,) (102,)\n"
     ]
    }
   ],
   "source": [
    "X_train, X_test, Y_train, Y_test = train_test_split(X_boston, Y_boston, train_size=0.80, test_size=0.20, random_state=123)\n",
    "print('Train/Test Sizes:', X_train.shape, X_test.shape, Y_train.shape, Y_test.shape)"
   ]
  },
  {
   "cell_type": "code",
   "execution_count": 21,
   "id": "042b7617",
   "metadata": {},
   "outputs": [
    {
     "data": {
      "text/plain": [
       "MLPRegressor(random_state=123)"
      ]
     },
     "execution_count": 21,
     "metadata": {},
     "output_type": "execute_result"
    }
   ],
   "source": [
    "from sklearn.neural_network import MLPRegressor\n",
    "\n",
    "mlp_regressor = MLPRegressor(random_state=123)\n",
    "mlp_regressor.fit(X_train, Y_train)"
   ]
  },
  {
   "cell_type": "code",
   "execution_count": 22,
   "id": "083fe84a",
   "metadata": {},
   "outputs": [
    {
     "name": "stdout",
     "output_type": "stream",
     "text": [
      "[ 7.32543601 24.33417853 32.46700507 15.19086054 25.6749167  25.07797685\n",
      " 27.20985668  2.62269853 15.25691994 28.02637784]\n",
      "[15.  26.6 45.4 20.8 34.9 21.9 28.7  7.2 20.  32.2]\n",
      "Test Accuracy Score : 0.462\n",
      "Training Accuracy Score : 0.510\n"
     ]
    }
   ],
   "source": [
    "Y_preds = mlp_regressor.predict(X_test)\n",
    "\n",
    "print(Y_preds[:10])\n",
    "print(Y_test[:10])\n",
    "# метод score оценивает точность моделей классификации\n",
    "print('Test Accuracy Score : %.3f'%mlp_regressor.score(X_test, Y_test))\n",
    "print('Training Accuracy Score : %.3f'%mlp_regressor.score(X_train, Y_train))"
   ]
  },
  {
   "cell_type": "code",
   "execution_count": 23,
   "id": "e1785978",
   "metadata": {},
   "outputs": [
    {
     "name": "stdout",
     "output_type": "stream",
     "text": [
      "Loss: 28.538174061119626\n",
      "Number of Coefs: 2\n",
      "Number of Iterations for Which Estimator Ran: 130\n",
      "Name of Output Layer Activation Function: identity\n"
     ]
    }
   ],
   "source": [
    "print('Loss:', mlp_regressor.loss_)\n",
    "print('Number of Coefs:', len(mlp_regressor.coefs_))\n",
    "[weights.shape for weights in mlp_regressor.coefs_]\n",
    "print('Number of Iterations for Which Estimator Ran:', mlp_regressor.n_iter_)\n",
    "print('Name of Output Layer Activation Function:', mlp_regressor.out_activation_)"
   ]
  }
 ],
 "metadata": {
  "kernelspec": {
   "display_name": "Python 3",
   "language": "python",
   "name": "python3"
  },
  "language_info": {
   "codemirror_mode": {
    "name": "ipython",
    "version": 3
   },
   "file_extension": ".py",
   "mimetype": "text/x-python",
   "name": "python",
   "nbconvert_exporter": "python",
   "pygments_lexer": "ipython3",
   "version": "3.8.8"
  }
 },
 "nbformat": 4,
 "nbformat_minor": 5
}
