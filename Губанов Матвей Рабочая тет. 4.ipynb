{
 "cells": [
  {
   "cell_type": "markdown",
   "id": "96cc4d43",
   "metadata": {},
   "source": [
    "# Губанов Матвей Рабочая тетрадь №4  БББО-08-20"
   ]
  },
  {
   "cell_type": "markdown",
   "id": "9d5b6df3",
   "metadata": {},
   "source": [
    "Регрессия – это зависимость среднего значения какой-либо величины от некоторой другой величины или от нескольких других величин. В отличие от чисто функциональной зависимости y=f(x), когда каждому значению независимой переменной x соответствует одно определённое значение зависимой переменной у, при регрессионной связи одному и тому же значению независимой переменной (фактору) x могут соответствовать в зависимости от конкретного случая различные значения зависимой переменной (отклика) у.\n",
    "Изучение регрессии основано на том, что случайные величины Х и Y связаны между собой вероятностной зависимостью: при каждом конкретном значении X=x величина Y является случайной величиной с вполне определённым распределением вероятностей. Зависимость зависимой переменной – отклика от одной независимой переменной – фактора или нескольких факторов называется уравнением регрессии. По количеству факторов выделяют парную (однофакторную) и множественную (многофакторную) регрессию. Для парной будем рассматривать следующие методы регрессии: линейную, показательную, экспоненциальную, гиперболическую и параболическую.\n",
    "Регрессионный анализ – это раздел математической статистики, изучающий регрессионную зависимость между случайными величинами по статистическим данным. Цель регрессионного анализа состоит в определении общего вида уравнения регрессии, вычислении оценок неизвестных параметров, входящих в уравнение регрессии проверке статистических гипотез о регрессионной связи.\n",
    "Таким образом, регрессионный анализ – набор статистических методов исследования влияния одной или нескольких независимых переменных X_1,…,X_n на зависимую переменную Y. Независимые переменные иначе называют регрессорами или предикторами, а зависимые переменные – критериальными переменными.\n"
   ]
  },
  {
   "cell_type": "markdown",
   "id": "a22ff978",
   "metadata": {},
   "source": [
    "## 1.1. Теоретический материал – Линейные регрессионные модели"
   ]
  },
  {
   "cell_type": "markdown",
   "id": "c09a2731",
   "metadata": {},
   "source": [
    "<ul>Линейная регрессия\n",
    "\n",
    "Линейная регрессия (Linear regression) – модель зависимости переменной x от одной или нескольких других переменных (факторов, регрессоров, независимых переменных) с линейной функцией зависимости. Линейная регрессия относится к задаче определения «линии наилучшего соответствия» через набор точек данных и стала простым предшественником нелинейных методов, которые используют для обучения нейронных сетей.\n",
    "\n",
    "Цель линейной регрессии — поиск линии, которая наилучшим образом соответствует этим точкам. Напомним, что общее уравнение для прямой есть f (x) = b +m⋅x +, где m – наклон линии, а b – его сдвиг.\n",
    "\n",
    "<p>Функция потерь — метод наименьших квадратов</p>\n",
    "\n",
    "Функция потерь – это мера количества ошибок, которые наша линейная регрессия делает на наборе данных. Хотя есть разные функции потерь, все они вычисляют расстояние между предсказанным значением y(х) и его фактическим значением.\n",
    "\n",
    "Одна очень распространенная функция потерь называется средней квадратичной ошибкой MSE. Чтобы вычислить MSE, мы просто берем все значения ошибок, считаем их квадраты длин и усредняем.\n",
    "\n",
    "<p>Задача экраполяции</p>\n",
    "\n",
    "Допустим у нас есть много экспериментальных точек. Необходимо через них провести кривую, которая как можно ближе проходила к этим точкам. При этом необходимо минимизировать среднюю квадратичную ошибку (MSE).\n",
    "Для решения данной задачи в Python есть множество библиотек. Самыми распостраненными выступают:\n",
    "\n",
    "<p>numpy - numpy.linalg.lstsq</p>\n",
    "\n",
    "<p>scipy - scipy.linalg</p> \n",
    "(содержит все функции из numpy.linalg плюс часть новых функций, которых нет в numpy.linalg).\n",
    "</ul>"
   ]
  },
  {
   "cell_type": "markdown",
   "id": "db98d219",
   "metadata": {},
   "source": [
    "### 1.1.1 Пример"
   ]
  },
  {
   "cell_type": "markdown",
   "id": "3da114ba",
   "metadata": {},
   "source": [
    "Проведем прямую y = mx + b  через экспериментальные точки."
   ]
  },
  {
   "cell_type": "code",
   "execution_count": 1,
   "id": "ac780363",
   "metadata": {},
   "outputs": [
    {
     "name": "stdout",
     "output_type": "stream",
     "text": [
      "0.9999999999999997 -0.9499999999999992\n"
     ]
    },
    {
     "data": {
      "image/png": "[encoded data removed]",
      "text/plain": [
       "<Figure size 432x288 with 1 Axes>"
      ]
     },
     "metadata": {
      "needs_background": "light"
     },
     "output_type": "display_data"
    }
   ],
   "source": [
    "import numpy as np\n",
    "x = np.array([0, 1, 2, 3])\n",
    "y = np.array([-1, 0.2, 0.9, 2.1])\n",
    "\n",
    "##Перепишем линейное уравнение у = mx + с как у = Ар, где А = [[ x 1 ]] и р = [[m], [c]]\n",
    "##Построим А по X :\n",
    "\n",
    "A = np.vstack([x, np.ones(len(x))]).T\n",
    "A\n",
    "\n",
    "##Используем метод lstsq для решения его относительно вектора р.\n",
    "m, c = np.linalg.lstsq(A, y, rcond = None)[0]\n",
    "print(m, c)\n",
    "\n",
    "#Построим график полученной прямой и укажем на нем точки.\n",
    "import matplotlib.pyplot as plt\n",
    "plt.plot(x, y, 'o', label='Исходные данные', markersize=10)\n",
    "plt.plot(x, m*x + c, 'r', label=\"Линейная экстраполяция\")\n",
    "plt.legend()\n",
    "plt.show()"
   ]
  },
  {
   "cell_type": "markdown",
   "id": "eeb05c3e",
   "metadata": {},
   "source": [
    "### 1.1.2 Пример"
   ]
  },
  {
   "cell_type": "markdown",
   "id": "6c1cd7b2",
   "metadata": {},
   "source": [
    "Пусть x,y – вектора длиной n > 3 (точек > 3). Задача заключается в построении эстраполяционного полинома второго порядка (параболы). Таким образом, необходимо найти такие коэффициенты поринома a,b,c по методу наименьших квадратов. Данные мтогут быть получены в результате измерений. Покажем пример генерации данных случайным образом и загрузки их из файла."
   ]
  },
  {
   "cell_type": "code",
   "execution_count": 2,
   "id": "ddb7484d",
   "metadata": {},
   "outputs": [
    {
     "name": "stdout",
     "output_type": "stream",
     "text": [
      "[-5.01141882 -3.78938468 -3.05828387 -2.49743503 -1.20080445 -0.3465582\n",
      "  1.18618035  1.73320485  2.54098368  3.60172618  5.45212702]\n",
      "[25.3196303  15.91433469  9.06858957  3.70724578  1.00294082  0.1771239\n",
      "  0.59778525  4.21260342  8.59283757 15.67207084 24.92696356]\n"
     ]
    },
    {
     "data": {
      "image/png": "[encoded data removed]",
      "text/plain": [
       "<Figure size 432x288 with 1 Axes>"
      ]
     },
     "metadata": {
      "needs_background": "light"
     },
     "output_type": "display_data"
    }
   ],
   "source": [
    "from numpy import *\n",
    "from numpy.random import *\n",
    "#генерируем случайные х и у\n",
    "delta = 1.0\n",
    "x = linspace(-5,5,11)\n",
    "y = x**2+delta*(rand(11)-0.5)\n",
    "x += delta*(rand(11)-0.5)\n",
    "\n",
    "#записывае данные в файл\n",
    "x.tofile('x_data.txt', '\\n')\n",
    "y.tofile('y_data.txt', '\\n')\n",
    "\n",
    "# читаем данные из файлов\n",
    "x = fromfile('x_data.txt',float, sep='\\n')\n",
    "y = fromfile('y_data.txt',float, sep='\\n')\n",
    "print(x)\n",
    "print(y)\n",
    "\n",
    "# # Нахождение коэффициентов функции вида у = ах2 + bx + с методом наименьших квадратов\n",
    "# задаем вектор т = [x**2, х, E]\n",
    "m = stack((x**2, x, ones(11))).T\n",
    "# находим коэффициенты при составляющих вектора т\n",
    "s = np.linalg.lstsq(m, y, rcond = None)[0]\n",
    "\n",
    "# на отрезке [-5,5]\n",
    "x_prec = linspace(-5, 5, 101)\n",
    "# рисуем точки\n",
    "plt.plot(x, y, 'D')\n",
    "# рисуем кривую вида у = ax*2 + bx + с, подставляя из решения коэффициенты s[0], s[1], s[2]\n",
    "plt.plot(x_prec, s[0] * x_prec**2 + s[1] * x_prec+s[2],'-', lw=2)\n",
    "plt.grid()\n",
    "plt.savefig(\"парабола.png\")"
   ]
  },
  {
   "cell_type": "markdown",
   "id": "833d2880",
   "metadata": {},
   "source": [
    "### 1.1.3 Пример"
   ]
  },
  {
   "cell_type": "markdown",
   "id": "4ab93cb3",
   "metadata": {},
   "source": [
    "По данным предыдущего примера постройте эстраполяционного полинома третьего порядка"
   ]
  },
  {
   "cell_type": "code",
   "execution_count": 3,
   "id": "a185821d",
   "metadata": {},
   "outputs": [
    {
     "data": {
      "image/png": "[encoded data removed]",
      "text/plain": [
       "<Figure size 432x288 with 1 Axes>"
      ]
     },
     "metadata": {
      "needs_background": "light"
     },
     "output_type": "display_data"
    }
   ],
   "source": [
    "#Решение\n",
    "# Нахождение коэффициентов функции вида у = ах^3 + bx^2 + сx + d методом наименьших квадратов\n",
    "# задаем вектор т = [x**3, х, E]\n",
    "m = stack((x**3,x**2, x, ones(11))).T\n",
    "# находим коэффициенты при составляющих вектора т\n",
    "s = np.linalg.lstsq(m, y, rcond = None)[0]\n",
    "\n",
    "# на отрезке [-5,5]\n",
    "x_prec = linspace(-5, 5, 101)\n",
    "# рисуем точки\n",
    "plt.plot(x, y, 'D')\n",
    "# рисуем кривую вида у = ax^3 + bx^2 + сx + d, подставляя из решения коэффициенты s[0], s[1], s[2], s[3]\n",
    "plt.plot(x_prec, s[0] * x_prec**3 + s[1] * x_prec**2 + s[2] * x_prec + s[3], '-', lw=3)\n",
    "plt.grid()\n",
    "plt.savefig(\"пролином 3-й степени.png\")"
   ]
  },
  {
   "cell_type": "markdown",
   "id": "2f845c0b",
   "metadata": {},
   "source": [
    "### Задание:"
   ]
  },
  {
   "cell_type": "markdown",
   "id": "ec43d9d4",
   "metadata": {},
   "source": [
    "Представьте собственные данные и постройте эктраполяцию полиномами первой, второй и третьей степени."
   ]
  },
  {
   "cell_type": "code",
   "execution_count": 4,
   "id": "4c70b36c",
   "metadata": {},
   "outputs": [
    {
     "data": {
      "image/png": "[encoded data removed]",
      "text/plain": [
       "<Figure size 432x288 with 1 Axes>"
      ]
     },
     "metadata": {
      "needs_background": "light"
     },
     "output_type": "display_data"
    }
   ],
   "source": [
    "# Решение\n",
    "# Нахождение коэффициентов функции вида методом наименьших квадратов\n",
    "# задаем вектор т \n",
    "m1 =  stack((x, x, ones(11))).T\n",
    "m2 = stack((x**2, x, ones(11))).T\n",
    "m3 = stack((x**3,x**2, x, ones(11))).T\n",
    "\n",
    "s1 = np.linalg.lstsq(m1, y, rcond = None)[0]\n",
    "s2 = np.linalg.lstsq(m2, y, rcond = None)[0]\n",
    "s3 = np.linalg.lstsq(m3, y, rcond = None)[0]\n",
    "# на отрезке [-5,5]\n",
    "x_prec = linspace(-5, 5, 101)\n",
    "# рисуем точки\n",
    "plt.plot(x, y, 'D')\n",
    "# рисуем кривую вида у = ax^3 + bx^2 + сx + d,... подставляя из решения коэффициенты s[0], s[1], s[2], s[3]\n",
    "plt.plot(x_prec, s1[0] * x_prec**1 + s1[1])\n",
    "plt.plot(x_prec, s2[0] * x_prec**2 + s2[1] * x_prec+s2[2],'-', lw=2)\n",
    "plt.plot(x_prec, s3[0] * x_prec**3 + s3[1] * x_prec**2 + s3[2] * x_prec + s3[3], '-', lw=3)\n",
    "plt.grid()\n",
    "plt.savefig(\"пролином 1, 2, 3-й степени.png\")"
   ]
  },
  {
   "cell_type": "markdown",
   "id": "6f08992e",
   "metadata": {},
   "source": [
    "### 1.1.4 Пример"
   ]
  },
  {
   "cell_type": "markdown",
   "id": "45d472b7",
   "metadata": {},
   "source": [
    "Необходимо проверить гипотезу, что наши точечно заданная функция ложится на кривую вида f(x,b) = b_0  + b_1 exp(-b2x^2)"
   ]
  },
  {
   "cell_type": "code",
   "execution_count": 5,
   "id": "e19149c8",
   "metadata": {},
   "outputs": [
    {
     "name": "stdout",
     "output_type": "stream",
     "text": [
      "0.00021620683805722744\n",
      "0.1136173819252871\n"
     ]
    },
    {
     "data": {
      "image/png": "[encoded data removed]",
      "text/plain": [
       "<Figure size 432x288 with 1 Axes>"
      ]
     },
     "metadata": {
      "needs_background": "light"
     },
     "output_type": "display_data"
    },
    {
     "name": "stdout",
     "output_type": "stream",
     "text": [
      "[0.         0.10204082 0.20408163 0.30612245 0.40816327 0.51020408\n",
      " 0.6122449  0.71428571 0.81632653 0.91836735 1.02040816 1.12244898\n",
      " 1.2244898  1.32653061 1.42857143 1.53061224 1.63265306 1.73469388\n",
      " 1.83673469 1.93877551 2.04081633 2.14285714 2.24489796 2.34693878\n",
      " 2.44897959 2.55102041 2.65306122 2.75510204 2.85714286 2.95918367\n",
      " 3.06122449 3.16326531 3.26530612 3.36734694 3.46938776 3.57142857\n",
      " 3.67346939 3.7755102  3.87755102 3.97959184 4.08163265 4.18367347\n",
      " 4.28571429 4.3877551  4.48979592 4.59183673 4.69387755 4.79591837\n",
      " 4.89795918 5.        ]\n",
      "[1.01956928 0.98852622 0.9395604  0.91471044 1.01218237 0.86570175\n",
      " 0.8448563  0.80631439 0.83486408 0.70338037 0.73767805 0.68560675\n",
      " 0.62551468 0.58249405 0.48702878 0.56091564 0.42104025 0.44175581\n",
      " 0.37848263 0.3080284  0.31171087 0.33928942 0.26150501 0.26893386\n",
      " 0.24411855 0.24941152 0.29199051 0.13898655 0.19386984 0.30945403\n",
      " 0.16141011 0.28730679 0.19796365 0.21992772 0.20835564 0.2665111\n",
      " 0.22069309 0.18339121 0.22750787 0.36394048 0.20721899 0.1664747\n",
      " 0.27541314 0.29549656 0.27794031 0.25706333 0.28445462 0.28005163\n",
      " 0.29999536 0.2747058 ]\n"
     ]
    }
   ],
   "source": [
    "import scipy as sp\n",
    "#Добавим шума в данные, сделанные по функции f(x,b) с коэффициентами b = (0.25, 0.75, 0.5)\n",
    "beta = (0.25, 0.75, 0.5)\n",
    "def f(x, b0, b1, b2):\n",
    "    return b0 + b1 * np.exp(-b2 * x**2)\n",
    "# зададим массив точек xi\n",
    "xdata = np.linspace(0, 5, 50)\n",
    "# создаем теоретически правильные значения точек уi (без шума)\n",
    "y = f(xdata, *beta)\n",
    "# зашумляем эти данные\n",
    "ydata = y + 0.05 * np.random.randn(len(xdata))\n",
    "\n",
    "#Используем функцию для получения решения в виде коэффициентов функции f(x) для указанных xdata u data\n",
    "from scipy.optimize import curve_fit\n",
    "beta_opt, beta_cov = sp.optimize.curve_fit(f, xdata, ydata)\n",
    "beta_opt\n",
    "\n",
    "#Вычислим линейное отклонение\n",
    "lin_dev = sum(beta_cov[0])\n",
    "print(lin_dev)\n",
    "#Вычислим квадратичное отклонение\n",
    "residuals = ydata - f(xdata, *beta_opt)\n",
    "fres = sum(residuals**2)\n",
    "print(fres)\n",
    "\n",
    "fig, ax = plt.subplots()\n",
    "ax.scatter(xdata, ydata)\n",
    "ax.plot(xdata, y, 'r', lw=2)\n",
    "ax.plot(xdata, f(xdata, *beta_opt), 'b', lw=2)\n",
    "ax.set_xlim(0, 5)\n",
    "ax.set_xlabel(r\"$x$\", fontsize=18)\n",
    "ax.set_ylabel(r\"$f(x, \\beta)$\", fontsize=18)\n",
    "plt.show()\n",
    "\n",
    "print(xdata)\n",
    "print(ydata)"
   ]
  },
  {
   "cell_type": "markdown",
   "id": "41bfe2b2",
   "metadata": {},
   "source": [
    "### 1.1.5 Пример"
   ]
  },
  {
   "cell_type": "markdown",
   "id": "1a2cdab0",
   "metadata": {},
   "source": [
    "Необходимо проверить гипотезу, что наши точечно заданная функция ложится на кривые вида: \n",
    "1) f(x,b) = b_0  + b_1 x \n",
    "\n",
    "2) f(x,b) = b_0  + b_1 x + b_2 x^2 \n",
    "\n",
    "3) f(x,b) = b_0  + b_1 ln(x) \n",
    "\n",
    "4) f(x,b) = b_0   x^(b_1 )   \n"
   ]
  },
  {
   "cell_type": "code",
   "execution_count": 29,
   "id": "7c935d05",
   "metadata": {},
   "outputs": [
    {
     "name": "stdout",
     "output_type": "stream",
     "text": [
      "[0.25352876 0.74923931]\n",
      "0.00015322963724647304\n",
      "0.13473640818573682\n"
     ]
    },
    {
     "data": {
      "image/png": "[encoded data removed]",
      "text/plain": [
       "<Figure size 432x288 with 1 Axes>"
      ]
     },
     "metadata": {
      "needs_background": "light"
     },
     "output_type": "display_data"
    },
    {
     "name": "stdout",
     "output_type": "stream",
     "text": [
      "[0.24923926 0.74687328 0.5004261 ]\n",
      "9.060981974388945e-05\n",
      "0.07555910544959252\n"
     ]
    },
    {
     "data": {
      "image/png": "[encoded data removed]",
      "text/plain": [
       "<Figure size 432x288 with 1 Axes>"
      ]
     },
     "metadata": {
      "needs_background": "light"
     },
     "output_type": "display_data"
    },
    {
     "name": "stdout",
     "output_type": "stream",
     "text": [
      "[1.01435181 1.9867134 ]\n",
      "4.811678896117383e-05\n",
      "0.11126724662292745\n"
     ]
    },
    {
     "data": {
      "image/png": "[encoded data removed]",
      "text/plain": [
       "<Figure size 432x288 with 1 Axes>"
      ]
     },
     "metadata": {
      "needs_background": "light"
     },
     "output_type": "display_data"
    },
    {
     "name": "stdout",
     "output_type": "stream",
     "text": [
      "[1.00032397 1.99982794]\n",
      "8.282605239475931e-07\n",
      "0.2773430757502184\n"
     ]
    },
    {
     "data": {
      "image/png": "[encoded data removed]",
      "text/plain": [
       "<Figure size 432x288 with 1 Axes>"
      ]
     },
     "metadata": {
      "needs_background": "light"
     },
     "output_type": "display_data"
    }
   ],
   "source": [
    "#решение\n",
    "#1\n",
    "#Добавим шума в данные, сделанные по функции f(x,b) с коэффициентами b = (0.25, 0.75)\n",
    "beta = (0.25, 0.75)\n",
    "def f(x, b0, b1):\n",
    "    return b0 + b1 * x\n",
    "# зададим массив точек хi\n",
    "xdata = np.linspace(0, 5, 50)\n",
    "# создаем теоретически правильные значения точек уі (без шума)\n",
    "y = f(xdata, *beta)\n",
    "# зашумляем эти данные\n",
    "ydata = y + 0.05 * np.random.randn(len(xdata))\n",
    "beta_opt, beta_cov = sp.optimize.curve_fit(f, xdata, ydata)\n",
    "print(beta_opt)\n",
    "#Вычислим линейное отклонение\n",
    "lin_dev = sum(beta_cov[0])\n",
    "print(lin_dev)\n",
    "\n",
    "#Вычислим квадратичное отклонение\n",
    "residuals = ydata - f(xdata, *beta_opt)\n",
    "fres = sum(residuals**2)\n",
    "print(fres)\n",
    "\n",
    "fig, ax = plt.subplots()\n",
    "ax.scatter(xdata, ydata)\n",
    "ax.plot(xdata, y, 'r', lw=2)\n",
    "ax.plot(xdata, f(xdata, *beta_opt), 'b', lw=2)\n",
    "ax.set_xlim(0, 5)\n",
    "ax.set_xlabel(r\"$x$\", fontsize=18)\n",
    "ax.set_ylabel(r\"$f(x, \\beta)$\", fontsize=18)\n",
    "plt.show()\n",
    "\n",
    "#решение\n",
    "#2\n",
    "#Добавим шума в данные, сделанные по функции f(x,b) с коэффициентами b = (0.25, 0.75, 0.5)\n",
    "beta = (0.25, 0.75, 0.5)\n",
    "def f(x, b0, b1, b2):\n",
    "    return b0 + b1 * x + b2 * x * x\n",
    "# зададим массив точек хi\n",
    "xdata = np.linspace(0, 5, 50)\n",
    "# создаем теоретически правильные значения точек уі (без шума)\n",
    "y = f(xdata, *beta)\n",
    "# зашумляем эти данные\n",
    "ydata = y + 0.05 * np.random.randn(len(xdata))\n",
    "beta_opt, beta_cov = sp.optimize.curve_fit(f, xdata, ydata)\n",
    "print(beta_opt)\n",
    "#Вычислим линейное отклонение\n",
    "lin_dev = sum(beta_cov[0])\n",
    "print(lin_dev)\n",
    "\n",
    "#Вычислим квадратичное отклонение\n",
    "residuals = ydata - f(xdata, *beta_opt)\n",
    "fres = sum(residuals**2)\n",
    "print(fres)\n",
    "\n",
    "fig, ax = plt.subplots()\n",
    "ax.scatter(xdata, ydata)\n",
    "ax.plot(xdata, y, 'r', lw=2)\n",
    "ax.plot(xdata, f(xdata, *beta_opt), 'b', lw=2)\n",
    "ax.set_xlim(0, 5)\n",
    "ax.set_xlabel(r\"$x$\", fontsize=18)\n",
    "ax.set_ylabel(r\"$f(x, \\beta)$\", fontsize=18)\n",
    "plt.show()\n",
    "\n",
    "#решение\n",
    "#3\n",
    "#Добавим шума в данные, сделанные по функции f(x,b) с коэффициентами b = (1, 2)\n",
    "beta = (1, 2)\n",
    "def f(x, b0, b1):\n",
    "    return b0 + b1 * np.log(x)\n",
    "# зададим массив точек хi\n",
    "xdata = np.linspace(1, 5, 50)\n",
    "# создаем теоретически правильные значения точек уі (без шума)\n",
    "y = f(xdata, *beta)\n",
    "# зашумляем эти данные\n",
    "ydata = y + 0.05 * np.random.randn(len(xdata))\n",
    "beta_opt, beta_cov = sp.optimize.curve_fit(f, xdata, ydata)\n",
    "print(beta_opt)\n",
    "#Вычислим линейное отклонение\n",
    "lin_dev = sum(beta_cov[0])\n",
    "print(lin_dev)\n",
    "\n",
    "#Вычислим квадратичное отклонение\n",
    "residuals = ydata - f(xdata, *beta_opt)\n",
    "fres = sum(residuals**2)\n",
    "print(fres)\n",
    "\n",
    "fig, ax = plt.subplots()\n",
    "ax.scatter(xdata, ydata)\n",
    "ax.plot(xdata, y, 'r', lw=2)\n",
    "ax.plot(xdata, f(xdata, *beta_opt), 'b', lw=2)\n",
    "ax.set_xlim(0, 5)\n",
    "ax.set_xlabel(r\"$x$\", fontsize=18)\n",
    "ax.set_ylabel(r\"$f(x, \\beta)$\", fontsize=18)\n",
    "plt.show()\n",
    "\n",
    "#решение\n",
    "#4\n",
    "#Добавим шума в данные, сделанные по функции f(x,b) с коэффициентами b = (1, 2)\n",
    "beta = (1, 2)\n",
    "def f(x, b0, b1):\n",
    "    return b0 * x ** b1\n",
    "# зададим массив точек хi\n",
    "xdata = np.linspace(1, 5, 50)\n",
    "# создаем теоретически правильные значения точек уі (без шума)\n",
    "y = f(xdata, *beta)\n",
    "# зашумляем эти данные\n",
    "ydata = y + 0.05 * np.random.randn(len(xdata))\n",
    "beta_opt, beta_cov = sp.optimize.curve_fit(f, xdata, ydata)\n",
    "print(beta_opt)\n",
    "#Вычислим линейное отклонение\n",
    "lin_dev = sum(beta_cov[0])\n",
    "print(lin_dev)\n",
    "\n",
    "#Вычислим квадратичное отклонение\n",
    "residuals = ydata - f(xdata, *beta_opt)\n",
    "fres = sum(residuals**2)\n",
    "print(fres)\n",
    "\n",
    "fig, ax = plt.subplots()\n",
    "ax.scatter(xdata, ydata)\n",
    "ax.plot(xdata, y, 'r', lw=2)\n",
    "ax.plot(xdata, f(xdata, *beta_opt), 'b', lw=2)\n",
    "ax.set_xlim(0, 5)\n",
    "ax.set_xlabel(r\"$x$\", fontsize=18)\n",
    "ax.set_ylabel(r\"$f(x, \\beta)$\", fontsize=18)\n",
    "plt.show()"
   ]
  },
  {
   "cell_type": "markdown",
   "id": "f205987e",
   "metadata": {},
   "source": [
    "### Задание 1.1.6:\n",
    "Подставьте собственные данные и поэкспериментируйте с представленными функциями. Проанализируйте динамику изменения данных."
   ]
  },
  {
   "cell_type": "code",
   "execution_count": 41,
   "id": "5fbf0004",
   "metadata": {},
   "outputs": [
    {
     "name": "stdout",
     "output_type": "stream",
     "text": [
      "[0.20884964 0.49758161]\n",
      "0.00010684034804734332\n",
      "0.31231714679231565\n"
     ]
    },
    {
     "data": {
      "image/png": "[encoded data removed]",
      "text/plain": [
       "<Figure size 432x288 with 1 Axes>"
      ]
     },
     "metadata": {
      "needs_background": "light"
     },
     "output_type": "display_data"
    },
    {
     "name": "stdout",
     "output_type": "stream",
     "text": [
      "[0.28286148 0.72503019 1.00343187]\n",
      "0.00012227508295713013\n",
      "0.14688136349996178\n"
     ]
    },
    {
     "data": {
      "image/png": "[encoded data removed]",
      "text/plain": [
       "<Figure size 432x288 with 1 Axes>"
      ]
     },
     "metadata": {
      "needs_background": "light"
     },
     "output_type": "display_data"
    },
    {
     "name": "stdout",
     "output_type": "stream",
     "text": [
      "[2.0050685 2.9906557]\n",
      "4.17424245604919e-05\n",
      "0.0965269062598765\n"
     ]
    },
    {
     "data": {
      "image/png": "[encoded data removed]",
      "text/plain": [
       "<Figure size 432x288 with 1 Axes>"
      ]
     },
     "metadata": {
      "needs_background": "light"
     },
     "output_type": "display_data"
    },
    {
     "name": "stdout",
     "output_type": "stream",
     "text": [
      "[1.00016553 3.99985757]\n",
      "8.213520686003453e-08\n",
      "0.044071993550600964\n"
     ]
    },
    {
     "data": {
      "image/png": "[encoded data removed]",
      "text/plain": [
       "<Figure size 432x288 with 1 Axes>"
      ]
     },
     "metadata": {
      "needs_background": "light"
     },
     "output_type": "display_data"
    }
   ],
   "source": [
    "import numpy as np\n",
    "import scipy as sp\n",
    "\n",
    "beta = (0.20, 0.50)\n",
    "def f(x, b0, b1):\n",
    "    return b0 + b1 * x - 1\n",
    "# зададим массив точек хi\n",
    "xdata = np.linspace(0, 10, 100)\n",
    "# создаем теоретически правильные значения точек уі (без шума)\n",
    "y = f(xdata, *beta)\n",
    "# зашумляем эти данные\n",
    "ydata = y + 0.05 * np.random.randn(len(xdata))\n",
    "beta_opt, beta_cov = sp.optimize.curve_fit(f, xdata, ydata)\n",
    "print(beta_opt)\n",
    "#Вычислим линейное отклонение\n",
    "lin_dev = sum(beta_cov[0])\n",
    "print(lin_dev)\n",
    "\n",
    "#Вычислим квадратичное отклонение\n",
    "residuals = ydata - f(xdata, *beta_opt)\n",
    "fres = sum(residuals**2)\n",
    "print(fres)\n",
    "\n",
    "fig, ax = plt.subplots()\n",
    "ax.scatter(xdata, ydata)\n",
    "ax.plot(xdata, y, 'r', lw=2)\n",
    "ax.plot(xdata, f(xdata, *beta_opt), 'b', lw=2)\n",
    "ax.set_xlim(0, 5)\n",
    "ax.set_xlabel(r\"$x$\", fontsize=18)\n",
    "ax.set_ylabel(r\"$f(x, \\beta)$\", fontsize=18)\n",
    "plt.show()\n",
    "\n",
    "\n",
    "beta = (0.25, 0.75, 1)\n",
    "def f(x, b0, b1, b2):\n",
    "    return b0 + b1 * x + b2 * x * x\n",
    "# зададим массив точек хi\n",
    "xdata = np.linspace(0, 5, 60)\n",
    "# создаем теоретически правильные значения точек уі (без шума)\n",
    "y = f(xdata, *beta)\n",
    "# зашумляем эти данные\n",
    "ydata = y + 0.05 * np.random.randn(len(xdata))\n",
    "beta_opt, beta_cov = sp.optimize.curve_fit(f, xdata, ydata)\n",
    "print(beta_opt)\n",
    "#Вычислим линейное отклонение\n",
    "lin_dev = sum(beta_cov[0])\n",
    "print(lin_dev)\n",
    "\n",
    "#Вычислим квадратичное отклонение\n",
    "residuals = ydata - f(xdata, *beta_opt)\n",
    "fres = sum(residuals**2)\n",
    "print(fres)\n",
    "\n",
    "fig, ax = plt.subplots()\n",
    "ax.scatter(xdata, ydata)\n",
    "ax.plot(xdata, y, 'r', lw=2)\n",
    "ax.plot(xdata, f(xdata, *beta_opt), 'b', lw=2)\n",
    "ax.set_xlim(0, 5)\n",
    "ax.set_xlabel(r\"$x$\", fontsize=18)\n",
    "ax.set_ylabel(r\"$f(x, \\beta)$\", fontsize=18)\n",
    "plt.show()\n",
    "\n",
    "\n",
    "beta = (2, 3)\n",
    "def f(x, b0, b1):\n",
    "    return b0 + b1 * np.log(x)\n",
    "# зададим массив точек хi\n",
    "xdata = np.linspace(1, 5, 50)\n",
    "# создаем теоретически правильные значения точек уі (без шума)\n",
    "y = f(xdata, *beta)\n",
    "# зашумляем эти данные\n",
    "ydata = y + 0.05 * np.random.randn(len(xdata))\n",
    "beta_opt, beta_cov = sp.optimize.curve_fit(f, xdata, ydata)\n",
    "print(beta_opt)\n",
    "#Вычислим линейное отклонение\n",
    "lin_dev = sum(beta_cov[0])\n",
    "print(lin_dev)\n",
    "\n",
    "#Вычислим квадратичное отклонение\n",
    "residuals = ydata - f(xdata, *beta_opt)\n",
    "fres = sum(residuals**2)\n",
    "print(fres)\n",
    "\n",
    "fig, ax = plt.subplots()\n",
    "ax.scatter(xdata, ydata)\n",
    "ax.plot(xdata, y, 'r', lw=2)\n",
    "ax.plot(xdata, f(xdata, *beta_opt), 'b', lw=2)\n",
    "ax.set_xlim(0, 5)\n",
    "ax.set_xlabel(r\"$x$\", fontsize=18)\n",
    "ax.set_ylabel(r\"$f(x, \\beta)$\", fontsize=18)\n",
    "plt.show()\n",
    "\n",
    "\n",
    "beta = (1, 4)\n",
    "def f(x, b0, b1):\n",
    "    return b0 * x ** b1\n",
    "# зададим массив точек хi\n",
    "xdata = np.linspace(1, 5, 25)\n",
    "# создаем теоретически правильные значения точек уі (без шума)\n",
    "y = f(xdata, *beta)\n",
    "# зашумляем эти данные\n",
    "ydata = y + 0.05 * np.random.randn(len(xdata))\n",
    "beta_opt, beta_cov = sp.optimize.curve_fit(f, xdata, ydata)\n",
    "print(beta_opt)\n",
    "#Вычислим линейное отклонение\n",
    "lin_dev = sum(beta_cov[0])\n",
    "print(lin_dev)\n",
    "\n",
    "#Вычислим квадратичное отклонение\n",
    "residuals = ydata - f(xdata, *beta_opt)\n",
    "fres = sum(residuals**2)\n",
    "print(fres)\n",
    "\n",
    "fig, ax = plt.subplots()\n",
    "ax.scatter(xdata, ydata)\n",
    "ax.plot(xdata, y, 'r', lw=2)\n",
    "ax.plot(xdata, f(xdata, *beta_opt), 'b', lw=2)\n",
    "ax.set_xlim(0, 5)\n",
    "ax.set_xlabel(r\"$x$\", fontsize=18)\n",
    "ax.set_ylabel(r\"$f(x, \\beta)$\", fontsize=18)\n",
    "plt.show()"
   ]
  },
  {
   "cell_type": "markdown",
   "id": "5cf3ae80",
   "metadata": {},
   "source": [
    "## 1.2. Теоретический материал – Задачи регрессии\n",
    "Линейная регрессия - это широко используемый метод статистического анализа, который использует регрессионный анализ в математической статистике для определения количественной взаимосвязи между двумя или более переменными. Если регрессионный анализ включает две или более независимых переменных, а связь между зависимой и независимой переменными является линейной, тогда имееи дело с множественной линейной регрессией.\n",
    "\n",
    "В этом разделе мы увидим, как библиотеку Scikit-Learn в Python для машинного обучения можно использовать для реализации функций регрессии. Мы начнем с простой линейной регрессии с участием двух переменных, а затем перейдем к линейной регрессии с участием нескольких переменных.\n"
   ]
  },
  {
   "cell_type": "markdown",
   "id": "e61a5e7e",
   "metadata": {},
   "source": [
    "### 1.2.1 Пример\n",
    "Построим простую линейную регрессию в Python с использованием библиотеки scikit-learn"
   ]
  },
  {
   "cell_type": "code",
   "execution_count": 1,
   "id": "7222bba1",
   "metadata": {},
   "outputs": [
    {
     "name": "stdout",
     "output_type": "stream",
     "text": [
      "(20, 2)\n"
     ]
    },
    {
     "data": {
      "image/png": "[encoded data removed]",
      "text/plain": [
       "<Figure size 432x288 with 1 Axes>"
      ]
     },
     "metadata": {
      "needs_background": "light"
     },
     "output_type": "display_data"
    },
    {
     "data": {
      "text/html": [
       "<div>\n",
       "<style scoped>\n",
       "    .dataframe tbody tr th:only-of-type {\n",
       "        vertical-align: middle;\n",
       "    }\n",
       "\n",
       "    .dataframe tbody tr th {\n",
       "        vertical-align: top;\n",
       "    }\n",
       "\n",
       "    .dataframe thead th {\n",
       "        text-align: right;\n",
       "    }\n",
       "</style>\n",
       "<table border=\"1\" class=\"dataframe\">\n",
       "  <thead>\n",
       "    <tr style=\"text-align: right;\">\n",
       "      <th></th>\n",
       "      <th>Учебное время</th>\n",
       "      <th>Оценка</th>\n",
       "    </tr>\n",
       "  </thead>\n",
       "  <tbody>\n",
       "    <tr>\n",
       "      <th>0</th>\n",
       "      <td>0.50</td>\n",
       "      <td>10</td>\n",
       "    </tr>\n",
       "    <tr>\n",
       "      <th>1</th>\n",
       "      <td>0.75</td>\n",
       "      <td>22</td>\n",
       "    </tr>\n",
       "    <tr>\n",
       "      <th>2</th>\n",
       "      <td>1.00</td>\n",
       "      <td>13</td>\n",
       "    </tr>\n",
       "    <tr>\n",
       "      <th>3</th>\n",
       "      <td>1.25</td>\n",
       "      <td>43</td>\n",
       "    </tr>\n",
       "    <tr>\n",
       "      <th>4</th>\n",
       "      <td>1.50</td>\n",
       "      <td>20</td>\n",
       "    </tr>\n",
       "  </tbody>\n",
       "</table>\n",
       "</div>"
      ],
      "text/plain": [
       "   Учебное время  Оценка\n",
       "0           0.50      10\n",
       "1           0.75      22\n",
       "2           1.00      13\n",
       "3           1.25      43\n",
       "4           1.50      20"
      ]
     },
     "execution_count": 1,
     "metadata": {},
     "output_type": "execute_result"
    }
   ],
   "source": [
    "#Импортируем необходимые библиотеки\n",
    "#используем pandas и питру для обработки данных,\n",
    "#matplotlib для визуализации и sklearn для обучения наборов данных и импорта моделей.\n",
    "import pandas as pd\n",
    "import numpy as np\n",
    "import matplotlib.pyplot as plt\n",
    "from pandas import DataFrame,Series\n",
    "from sklearn.model_selection import train_test_split\n",
    "from sklearn.linear_model import LinearRegression\n",
    "\n",
    "#создадим набор данных для описания взаимосвязи между временем обучения студентов и успеваемостью\n",
    "my_dict = {'Учебное время': [0.50,0.75,1.00,1.25,1.50,1.75,1.75,2.00,2.25,2.50,2.75,3.00,3.25,3.50,4.00,4.25,4.50,4.75,\n",
    "                            5.00,5.50],\n",
    "            \"Оценка\": [10,22,13,43,20,22,33,50,62,48,55,75,62,73,81,76,64,82,90,93]}\n",
    "dataset = pd.DataFrame(my_dict)\n",
    "\n",
    "#Исследуем набор данных\n",
    "print(dataset.shape)\n",
    "dataset.describe()\n",
    "\n",
    "# Нарисуем точечную диаграмму\n",
    "plt.scatter (dataset['Учебное время'], dataset[\"Оценка\"], color = 'b', label = \"данные экзамена\")\n",
    "plt.xlabel(\"Часы\")\n",
    "plt.ylabel(\"Оценка\")\n",
    "plt.show()\n",
    "\n",
    "dataset.head()"
   ]
  },
  {
   "cell_type": "code",
   "execution_count": 50,
   "id": "67d95822",
   "metadata": {},
   "outputs": [
    {
     "data": {
      "text/html": [
       "<div>\n",
       "<style scoped>\n",
       "    .dataframe tbody tr th:only-of-type {\n",
       "        vertical-align: middle;\n",
       "    }\n",
       "\n",
       "    .dataframe tbody tr th {\n",
       "        vertical-align: top;\n",
       "    }\n",
       "\n",
       "    .dataframe thead th {\n",
       "        text-align: right;\n",
       "    }\n",
       "</style>\n",
       "<table border=\"1\" class=\"dataframe\">\n",
       "  <thead>\n",
       "    <tr style=\"text-align: right;\">\n",
       "      <th></th>\n",
       "      <th>Учебное время</th>\n",
       "      <th>Оценка</th>\n",
       "    </tr>\n",
       "  </thead>\n",
       "  <tbody>\n",
       "    <tr>\n",
       "      <th>count</th>\n",
       "      <td>20.000000</td>\n",
       "      <td>20.000000</td>\n",
       "    </tr>\n",
       "    <tr>\n",
       "      <th>mean</th>\n",
       "      <td>2.787500</td>\n",
       "      <td>53.700000</td>\n",
       "    </tr>\n",
       "    <tr>\n",
       "      <th>std</th>\n",
       "      <td>1.507165</td>\n",
       "      <td>26.435821</td>\n",
       "    </tr>\n",
       "    <tr>\n",
       "      <th>min</th>\n",
       "      <td>0.500000</td>\n",
       "      <td>10.000000</td>\n",
       "    </tr>\n",
       "    <tr>\n",
       "      <th>25%</th>\n",
       "      <td>1.687500</td>\n",
       "      <td>30.250000</td>\n",
       "    </tr>\n",
       "    <tr>\n",
       "      <th>50%</th>\n",
       "      <td>2.625000</td>\n",
       "      <td>58.500000</td>\n",
       "    </tr>\n",
       "    <tr>\n",
       "      <th>75%</th>\n",
       "      <td>4.062500</td>\n",
       "      <td>75.250000</td>\n",
       "    </tr>\n",
       "    <tr>\n",
       "      <th>max</th>\n",
       "      <td>5.500000</td>\n",
       "      <td>93.000000</td>\n",
       "    </tr>\n",
       "  </tbody>\n",
       "</table>\n",
       "</div>"
      ],
      "text/plain": [
       "       Учебное время     Оценка\n",
       "count      20.000000  20.000000\n",
       "mean        2.787500  53.700000\n",
       "std         1.507165  26.435821\n",
       "min         0.500000  10.000000\n",
       "25%         1.687500  30.250000\n",
       "50%         2.625000  58.500000\n",
       "75%         4.062500  75.250000\n",
       "max         5.500000  93.000000"
      ]
     },
     "execution_count": 50,
     "metadata": {},
     "output_type": "execute_result"
    }
   ],
   "source": [
    "dataset.describe()"
   ]
  },
  {
   "cell_type": "markdown",
   "id": "a440b076",
   "metadata": {},
   "source": [
    "После того как мы получили представление о данных, разделим информацию на «атрибуты» и «метки». Атрибуты – это независимые переменные, а метки – это зависимые переменные, значения которых должны быть предсказаны. В нашем наборе всего два столбца и необходимо предсказать оценку в зависимости от количества часов. Чтобы извлечь атрибуты и метки, выполните следующий скрипт:"
   ]
  },
  {
   "cell_type": "code",
   "execution_count": 59,
   "id": "d8d202f9",
   "metadata": {},
   "outputs": [
    {
     "name": "stdout",
     "output_type": "stream",
     "text": [
      "[[0.5 ]\n",
      " [0.75]\n",
      " [1.  ]\n",
      " [1.25]\n",
      " [1.5 ]\n",
      " [1.75]\n",
      " [1.75]\n",
      " [2.  ]\n",
      " [2.25]\n",
      " [2.5 ]\n",
      " [2.75]\n",
      " [3.  ]\n",
      " [3.25]\n",
      " [3.5 ]\n",
      " [4.  ]\n",
      " [4.25]\n",
      " [4.5 ]\n",
      " [4.75]\n",
      " [5.  ]\n",
      " [5.5 ]]\n",
      "[10 22 13 43 20 22 33 50 62 48 55 75 62 73 81 76 64 82 90 93]\n",
      "5.475400029908791\n",
      "[17.02706744]\n"
     ]
    }
   ],
   "source": [
    "X = dataset.iloc[:, :-1].values\n",
    "y = dataset.iloc[:, 1].values\n",
    "print(X)\n",
    "print(y)\n",
    "\n",
    "# Теперь, когда у нас есть атрибуты и метки, необходимо разделить их на а обучающий и тестовый наборы.\n",
    "# Приведенный фрагмент разделяет 80% данных на обучающий набор, а 20% данных - на набор тестов\n",
    "X_train, X_test, y_train, y_test = train_test_split(X, y, test_size = 0.2, random_state = 0)\n",
    "\n",
    "# далее можно обучить алгоритм линейной регрессии\n",
    "# необходимо импортировать класс LinearRegression, создать его экземпляр и вызвать метод fit()\n",
    "regressor = LinearRegression()\n",
    "regressor.fit(X_train, y_train)\n",
    "\n",
    "#приведем получившиеся коэффициенты для линии регрессии\n",
    "print(regressor.intercept_)\n",
    "print(regressor.coef_)"
   ]
  },
  {
   "cell_type": "markdown",
   "id": "ed52ed1e",
   "metadata": {},
   "source": [
    "Получившийся результат можно интерпретировать следующим образом: с каждым затраченным часом на обучение результат экзамена повышается приблизительно на 17 баллов. Далее можно построить прогнозы. Для этого мы будем использовать наши тестовые данные и посмотрим, насколько точно наш алгоритм предсказывает процентную оценку. Чтобы сделать прогноз на тестовых данных необходимо выполнить следующий код:"
   ]
  },
  {
   "cell_type": "code",
   "execution_count": 61,
   "id": "05c58594",
   "metadata": {},
   "outputs": [
    {
     "data": {
      "image/png": "[encoded data removed]",
      "text/plain": [
       "<Figure size 432x288 with 1 Axes>"
      ]
     },
     "metadata": {
      "needs_background": "light"
     },
     "output_type": "display_data"
    },
    {
     "data": {
      "image/png": "[encoded data removed]",
      "text/plain": [
       "<Figure size 432x288 with 1 Axes>"
      ]
     },
     "metadata": {
      "needs_background": "light"
     },
     "output_type": "display_data"
    }
   ],
   "source": [
    "y_pred = regressor.predict(X_test)\n",
    "# сравним фактические значения с прогнозируемыми\n",
    "df = pd.DataFrame({'Actual': y_test, 'Predicted': y_pred})\n",
    "df\n",
    "\n",
    "# визуализируем результат сравнения в виде гистограммы\n",
    "df.plot(kind='bar')\n",
    "plt.grid(which='major', linestyle='-', linewidth='0.5', color='green')\n",
    "plt.grid(which='minor', linestyle=':', linewidth='0.5', color='black')\n",
    "plt.show()\n",
    "\n",
    "#построим линию регрессии с тестовыми данными\n",
    "plt.scatter(X_test, y_test, color='gray')\n",
    "plt.plot(X_test, y_pred, color='red', linewidth=2)\n",
    "plt.show()"
   ]
  },
  {
   "cell_type": "code",
   "execution_count": 62,
   "id": "eae7a05b",
   "metadata": {},
   "outputs": [
    {
     "data": {
      "text/html": [
       "<div>\n",
       "<style scoped>\n",
       "    .dataframe tbody tr th:only-of-type {\n",
       "        vertical-align: middle;\n",
       "    }\n",
       "\n",
       "    .dataframe tbody tr th {\n",
       "        vertical-align: top;\n",
       "    }\n",
       "\n",
       "    .dataframe thead th {\n",
       "        text-align: right;\n",
       "    }\n",
       "</style>\n",
       "<table border=\"1\" class=\"dataframe\">\n",
       "  <thead>\n",
       "    <tr style=\"text-align: right;\">\n",
       "      <th></th>\n",
       "      <th>Actual</th>\n",
       "      <th>Predicted</th>\n",
       "    </tr>\n",
       "  </thead>\n",
       "  <tbody>\n",
       "    <tr>\n",
       "      <th>0</th>\n",
       "      <td>90</td>\n",
       "      <td>90.610737</td>\n",
       "    </tr>\n",
       "    <tr>\n",
       "      <th>1</th>\n",
       "      <td>22</td>\n",
       "      <td>18.245701</td>\n",
       "    </tr>\n",
       "    <tr>\n",
       "      <th>2</th>\n",
       "      <td>93</td>\n",
       "      <td>99.124271</td>\n",
       "    </tr>\n",
       "    <tr>\n",
       "      <th>3</th>\n",
       "      <td>62</td>\n",
       "      <td>43.786302</td>\n",
       "    </tr>\n",
       "  </tbody>\n",
       "</table>\n",
       "</div>"
      ],
      "text/plain": [
       "   Actual  Predicted\n",
       "0      90  90.610737\n",
       "1      22  18.245701\n",
       "2      93  99.124271\n",
       "3      62  43.786302"
      ]
     },
     "execution_count": 62,
     "metadata": {},
     "output_type": "execute_result"
    }
   ],
   "source": [
    "df"
   ]
  },
  {
   "cell_type": "markdown",
   "id": "69233b3d",
   "metadata": {},
   "source": [
    "### Задание:\n",
    "Постройте модель линейной регрессии для произвольных данных из двух столбцов. Для примера можно взять точечную зависимость заработной платы от опыта работы:\n",
    "(https://raw.githubusercontent.com/AnnaShestova/salary-years-simple-linear-regression/master/Salary_Data.csv). \n",
    "Найдите коэффициенты линии регрессии. Постройте прогноз.\n",
    "\n",
    "Решение:"
   ]
  },
  {
   "cell_type": "code",
   "execution_count": 72,
   "id": "97021a43",
   "metadata": {},
   "outputs": [
    {
     "name": "stdout",
     "output_type": "stream",
     "text": [
      "(30, 2)\n"
     ]
    },
    {
     "data": {
      "image/png": "[encoded data removed]",
      "text/plain": [
       "<Figure size 432x288 with 1 Axes>"
      ]
     },
     "metadata": {
      "needs_background": "light"
     },
     "output_type": "display_data"
    },
    {
     "data": {
      "text/html": [
       "<div>\n",
       "<style scoped>\n",
       "    .dataframe tbody tr th:only-of-type {\n",
       "        vertical-align: middle;\n",
       "    }\n",
       "\n",
       "    .dataframe tbody tr th {\n",
       "        vertical-align: top;\n",
       "    }\n",
       "\n",
       "    .dataframe thead th {\n",
       "        text-align: right;\n",
       "    }\n",
       "</style>\n",
       "<table border=\"1\" class=\"dataframe\">\n",
       "  <thead>\n",
       "    <tr style=\"text-align: right;\">\n",
       "      <th></th>\n",
       "      <th>Опыт работы</th>\n",
       "      <th>Заработная плата</th>\n",
       "    </tr>\n",
       "  </thead>\n",
       "  <tbody>\n",
       "    <tr>\n",
       "      <th>0</th>\n",
       "      <td>1.1</td>\n",
       "      <td>39343.0</td>\n",
       "    </tr>\n",
       "    <tr>\n",
       "      <th>1</th>\n",
       "      <td>1.3</td>\n",
       "      <td>46205.0</td>\n",
       "    </tr>\n",
       "    <tr>\n",
       "      <th>2</th>\n",
       "      <td>1.5</td>\n",
       "      <td>37731.0</td>\n",
       "    </tr>\n",
       "    <tr>\n",
       "      <th>3</th>\n",
       "      <td>2.0</td>\n",
       "      <td>43525.0</td>\n",
       "    </tr>\n",
       "    <tr>\n",
       "      <th>4</th>\n",
       "      <td>2.2</td>\n",
       "      <td>39891.0</td>\n",
       "    </tr>\n",
       "  </tbody>\n",
       "</table>\n",
       "</div>"
      ],
      "text/plain": [
       "   Опыт работы  Заработная плата\n",
       "0          1.1           39343.0\n",
       "1          1.3           46205.0\n",
       "2          1.5           37731.0\n",
       "3          2.0           43525.0\n",
       "4          2.2           39891.0"
      ]
     },
     "execution_count": 72,
     "metadata": {},
     "output_type": "execute_result"
    }
   ],
   "source": [
    "import pandas as pd\n",
    "import numpy as np\n",
    "import matplotlib.pyplot as plt\n",
    "from pandas import DataFrame,Series\n",
    "from sklearn.model_selection import train_test_split\n",
    "from sklearn.linear_model import LinearRegression\n",
    "\n",
    "#создадим набор данных для описания взаимосвязи между временем обучения студентов и успеваемостью\n",
    "my_dict = {'Опыт работы': [1.1, 1.3, 1.5, 2.0, 2.2, 2.9, 3.0, 3.2, 3.2, 3.7, 3.9, 4.0, 4.0, 4.1, 4.5, 4.9,\n",
    "                           5.1, 5.3, 5.9, 6.0, 6.8, 7.1, 7.9, 8.2, 8.7, 9.0, 9.5, 9.6, 10.3, 10.5],\n",
    "           \n",
    "            \"Заработная плата\": [39343.00, 46205.00, 37731.00, 43525.00, 39891.00, 56642.00, 60150.00, \n",
    "                                 54445.00, 64445.00, 57189.00, 63218.00, 55794.00, 56957.00, 57081.00, \n",
    "                                 61111.00, 67938.00, 66029.00, 83088.00, 81363.00, 93940.00, 91738.00, \n",
    "                                 98273.00, 101302.00, 113812.00, 109431.00, 105582.00, 116969.00, 112635.00,\n",
    "                                 122391.00, 121872.00]}\n",
    "dataset = pd.DataFrame(my_dict)\n",
    "\n",
    "#Исследуем набор данных\n",
    "print(dataset.shape)\n",
    "dataset.describe()\n",
    "\n",
    "# Нарисуем точечную диаграмму\n",
    "plt.scatter (dataset['Опыт работы'], dataset[\"Заработная плата\"], color = 'b', label = \"данные экзамена\")\n",
    "plt.plot(dataset['Опыт работы'], dataset[\"Заработная плата\"], color='red', linewidth=2)\n",
    "plt.xlabel(\"Опыт работы\")\n",
    "plt.ylabel(\"Заработная плата\")\n",
    "plt.show()\n",
    "\n",
    "dataset.head()"
   ]
  },
  {
   "cell_type": "code",
   "execution_count": 67,
   "id": "0b3fa4b7",
   "metadata": {},
   "outputs": [
    {
     "name": "stdout",
     "output_type": "stream",
     "text": [
      "[[ 1.1]\n",
      " [ 1.3]\n",
      " [ 1.5]\n",
      " [ 2. ]\n",
      " [ 2.2]\n",
      " [ 2.9]\n",
      " [ 3. ]\n",
      " [ 3.2]\n",
      " [ 3.2]\n",
      " [ 3.7]\n",
      " [ 3.9]\n",
      " [ 4. ]\n",
      " [ 4. ]\n",
      " [ 4.1]\n",
      " [ 4.5]\n",
      " [ 4.9]\n",
      " [ 5.1]\n",
      " [ 5.3]\n",
      " [ 5.9]\n",
      " [ 6. ]\n",
      " [ 6.8]\n",
      " [ 7.1]\n",
      " [ 7.9]\n",
      " [ 8.2]\n",
      " [ 8.7]\n",
      " [ 9. ]\n",
      " [ 9.5]\n",
      " [ 9.6]\n",
      " [10.3]\n",
      " [10.5]]\n",
      "[ 39343.  46205.  37731.  43525.  39891.  56642.  60150.  54445.  64445.\n",
      "  57189.  63218.  55794.  56957.  57081.  61111.  67938.  66029.  83088.\n",
      "  81363.  93940.  91738.  98273. 101302. 113812. 109431. 105582. 116969.\n",
      " 112635. 122391. 121872.]\n",
      "26780.09915062818\n",
      "[9312.57512673]\n"
     ]
    }
   ],
   "source": [
    "X = dataset.iloc[:, :-1].values\n",
    "y = dataset.iloc[:, 1].values\n",
    "print(X)\n",
    "print(y)\n",
    "\n",
    "# Теперь, когда у нас есть атрибуты и метки, необходимо разделить их на а обучающий и тестовый наборы.\n",
    "# Приведенный фрагмент разделяет 80% данных на обучающий набор, а 20% данных - на набор тестов\n",
    "X_train, X_test, y_train, y_test = train_test_split(X, y, test_size = 0.2, random_state = 0)\n",
    "\n",
    "# далее можно обучить алгоритм линейной регрессии\n",
    "# необходимо импортировать класс LinearRegression, создать его экземпляр и вызвать метод fit()\n",
    "regressor = LinearRegression()\n",
    "regressor.fit(X_train, y_train)\n",
    "\n",
    "#приведем получившиеся коэффициенты для линии регрессии\n",
    "print(regressor.intercept_)\n",
    "print(regressor.coef_)"
   ]
  },
  {
   "cell_type": "code",
   "execution_count": 68,
   "id": "db108906",
   "metadata": {},
   "outputs": [
    {
     "data": {
      "image/png": "[encoded data removed]",
      "text/plain": [
       "<Figure size 432x288 with 1 Axes>"
      ]
     },
     "metadata": {
      "needs_background": "light"
     },
     "output_type": "display_data"
    },
    {
     "data": {
      "image/png": "[encoded data removed]",
      "text/plain": [
       "<Figure size 432x288 with 1 Axes>"
      ]
     },
     "metadata": {
      "needs_background": "light"
     },
     "output_type": "display_data"
    }
   ],
   "source": [
    "y_pred = regressor.predict(X_test)\n",
    "# сравним фактические значения с прогнозируемыми\n",
    "df = pd.DataFrame({'Actual': y_test, 'Predicted': y_pred})\n",
    "df\n",
    "\n",
    "# визуализируем результат сравнения в виде гистограммы\n",
    "df.plot(kind='bar')\n",
    "plt.grid(which='major', linestyle='-', linewidth='0.5', color='green')\n",
    "plt.grid(which='minor', linestyle=':', linewidth='0.5', color='black')\n",
    "plt.show()\n",
    "\n",
    "#построим линию регрессии с тестовыми данными\n",
    "plt.scatter(X_test, y_test, color='gray')\n",
    "plt.plot(X_test, y_pred, color='red', linewidth=2)\n",
    "plt.show()"
   ]
  },
  {
   "cell_type": "markdown",
   "id": "cd1c7897",
   "metadata": {},
   "source": [
    "## 1.3. Теоретический материал – Множественная регрессия\n",
    "В предыдущем примере мы проиллюстрировали линейную регрессию с двумя переменными. Однако, почти все реальные задачи имеют больше параметров. Линейная регрессия с участием нескольких переменных называется «множественной линейной регрессией» или многомерной линейной регрессией. Шаги для выполнения множественной линейной регрессии аналогичны шагам для простой . Разница заключается в оценке. Вы можете использовать множественную регрессию, чтобы узнать, какой фактор оказывает наибольшее влияние на прогнозируемый результат или как различные переменные связаны друг с другом."
   ]
  },
  {
   "cell_type": "markdown",
   "id": "58af73b9",
   "metadata": {},
   "source": [
    "### 1.3.1 Пример\n",
    "Для решения задачи множественной регрессии можно задействовать уже известный метод numpy.linalg.lstsq."
   ]
  },
  {
   "cell_type": "code",
   "execution_count": 74,
   "id": "4febf3e4",
   "metadata": {},
   "outputs": [
    {
     "name": "stdout",
     "output_type": "stream",
     "text": [
      "[ 0.1338682   0.26840334 -0.02874936  1.5122571 ]\n"
     ]
    }
   ],
   "source": [
    "import numpy as np\n",
    "y = [1,2,3,4,3,4,5,3,5,5,4,5,4,5,4,5,6,0,6,3,1,3,1]\n",
    "X = [[0,2,4,1,5,4,5,9,9,9,3,7,8,8,6,6,5,5,5,6,6,5,5],\n",
    "     [4,1,2,3,4,5,6,7,5,8,7,8,7,8,7,8,6,8,9,2,1,5,6],\n",
    "     [4,1,2,5,6,7,8,9,7,8,7,8,7,4,3,1,2,3,4,1,3,9,7]]\n",
    "X = np.transpose(X) # transpose so input vectors\n",
    "X = np.c_[X, np.ones(X.shape[0])] # add bias term\n",
    "linreg = np.linalg.lstsq(X, y, rcond = None)[0]\n",
    "print(linreg)"
   ]
  },
  {
   "cell_type": "markdown",
   "id": "45be4505",
   "metadata": {},
   "source": [
    "Кроме этого можно использовать возможности библиотеки sсikit-learn. Рассмотрим пример.\n",
    "\n",
    "### 1.3.2 Пример\n",
    "Для данных из предыдущей задачи построить модель множественной линейной регрессии с использованием средств библиотеки sсikit-learn."
   ]
  },
  {
   "cell_type": "code",
   "execution_count": 94,
   "id": "f0ab5f67",
   "metadata": {},
   "outputs": [
    {
     "name": "stdout",
     "output_type": "stream",
     "text": [
      "(23, 4)\n",
      "Mean Squared Error: 1.327269924234307\n"
     ]
    }
   ],
   "source": [
    "# Импортируем необходимые библиотеки\n",
    "import pandas as pd\n",
    "import numpy as np\n",
    "import matplotlib.pyplot as plt\n",
    "import seaborn as seabornInstance\n",
    "from sklearn.model_selection import train_test_split\n",
    "from sklearn.linear_model import LinearRegression\n",
    "from sklearn import metrics\n",
    "\n",
    "y = [1,2,3,4,3,4,5,3,5,5,4,5,4,5,4,5,6,0,6,3,1,3,1]\n",
    "X = [[0,2,4,1,5,4,5,9,9,9,3,7,8,8,6,6,5,5,5,6,6,5,5],\n",
    "     [4,1,2,3,4,5,6,7,5,8,7,8,7,8,7,8,6,8,9,2,1,5,6],\n",
    "     [4,1,2,5,6,7,8,9,7,8,7,8,7,4,3,1,2,3,4,1,3,9,7]]\n",
    "\n",
    "\n",
    "# формируем DataFrame из двух списков\n",
    "new_y = np.array(y)\n",
    "new_y = new_y.transpose()\n",
    "df1 = pd.DataFrame(new_y)\n",
    "new_X = np.array(X)\n",
    "new_X = new_X.transpose()\n",
    "df2 = pd. DataFrame(new_X)\n",
    "df1 = df1.rename(columns = {0: 'y'}, inplace = False)\n",
    "df2 = df2.rename(columns = {0: 'x1', 1: 'x2', 2: 'x3'}, inplace = False)\n",
    "frames = [df1, df2]\n",
    "dataset = pd.concat([df1, df2], axis=1, join=\"inner\")\n",
    "dataset.head()\n",
    "\n",
    "# изучим данные\n",
    "print(dataset.shape)\n",
    "dataset.describe()\n",
    "\n",
    "# разделим данные на метки и атрибуты\n",
    "X = dataset[['x1', 'x2', 'x3']]\n",
    "y = dataset['y']\n",
    "\n",
    "# разделим данные на обучающую и тестовую выборки\n",
    "X_train, X_test, y_train, y_test = train_test_split(X, y, test_size=0.2, random_state = 0)\n",
    "\n",
    "# для обучения алгоритма мы выполняем тот же код, что и раньше, используя метод fit() класса Linear Regression\n",
    "regressor = LinearRegression()\n",
    "regressor.fit(X_train, y_train)\n",
    "\n",
    "# выведем коэффициенты модели\n",
    "coeff_df = pd.DataFrame(regressor.coef_, X.columns, columns=['Coefficient'])\n",
    "coeff_df\n",
    "\n",
    "# Чтобы сделать прогнозы на тестовых данных, выполните следующий код\n",
    "y_pred = regressor.predict(X_test)\n",
    "df = pd.DataFrame({'Actual': y_test, 'Predicted': y_pred})\n",
    "df\n",
    "\n",
    "# Последний шаг - оценить производительность алгоритма. Мы сделаем это, найдя значения для MSE\n",
    "print('Mean Squared Error:', metrics.mean_squared_error(y_test, y_pred))"
   ]
  },
  {
   "cell_type": "code",
   "execution_count": 83,
   "id": "04aedc19",
   "metadata": {},
   "outputs": [
    {
     "data": {
      "text/html": [
       "<div>\n",
       "<style scoped>\n",
       "    .dataframe tbody tr th:only-of-type {\n",
       "        vertical-align: middle;\n",
       "    }\n",
       "\n",
       "    .dataframe tbody tr th {\n",
       "        vertical-align: top;\n",
       "    }\n",
       "\n",
       "    .dataframe thead th {\n",
       "        text-align: right;\n",
       "    }\n",
       "</style>\n",
       "<table border=\"1\" class=\"dataframe\">\n",
       "  <thead>\n",
       "    <tr style=\"text-align: right;\">\n",
       "      <th></th>\n",
       "      <th>y</th>\n",
       "      <th>x1</th>\n",
       "      <th>x2</th>\n",
       "      <th>x3</th>\n",
       "    </tr>\n",
       "  </thead>\n",
       "  <tbody>\n",
       "    <tr>\n",
       "      <th>0</th>\n",
       "      <td>1</td>\n",
       "      <td>0</td>\n",
       "      <td>4</td>\n",
       "      <td>4</td>\n",
       "    </tr>\n",
       "    <tr>\n",
       "      <th>1</th>\n",
       "      <td>2</td>\n",
       "      <td>2</td>\n",
       "      <td>1</td>\n",
       "      <td>1</td>\n",
       "    </tr>\n",
       "    <tr>\n",
       "      <th>2</th>\n",
       "      <td>3</td>\n",
       "      <td>4</td>\n",
       "      <td>2</td>\n",
       "      <td>2</td>\n",
       "    </tr>\n",
       "    <tr>\n",
       "      <th>3</th>\n",
       "      <td>4</td>\n",
       "      <td>1</td>\n",
       "      <td>3</td>\n",
       "      <td>5</td>\n",
       "    </tr>\n",
       "    <tr>\n",
       "      <th>4</th>\n",
       "      <td>3</td>\n",
       "      <td>5</td>\n",
       "      <td>4</td>\n",
       "      <td>6</td>\n",
       "    </tr>\n",
       "  </tbody>\n",
       "</table>\n",
       "</div>"
      ],
      "text/plain": [
       "   y  x1  x2  x3\n",
       "0  1   0   4   4\n",
       "1  2   2   1   1\n",
       "2  3   4   2   2\n",
       "3  4   1   3   5\n",
       "4  3   5   4   6"
      ]
     },
     "execution_count": 83,
     "metadata": {},
     "output_type": "execute_result"
    }
   ],
   "source": [
    "dataset.head()"
   ]
  },
  {
   "cell_type": "code",
   "execution_count": 84,
   "id": "c21946ec",
   "metadata": {},
   "outputs": [
    {
     "data": {
      "text/html": [
       "<div>\n",
       "<style scoped>\n",
       "    .dataframe tbody tr th:only-of-type {\n",
       "        vertical-align: middle;\n",
       "    }\n",
       "\n",
       "    .dataframe tbody tr th {\n",
       "        vertical-align: top;\n",
       "    }\n",
       "\n",
       "    .dataframe thead th {\n",
       "        text-align: right;\n",
       "    }\n",
       "</style>\n",
       "<table border=\"1\" class=\"dataframe\">\n",
       "  <thead>\n",
       "    <tr style=\"text-align: right;\">\n",
       "      <th></th>\n",
       "      <th>y</th>\n",
       "      <th>x1</th>\n",
       "      <th>x2</th>\n",
       "      <th>x3</th>\n",
       "    </tr>\n",
       "  </thead>\n",
       "  <tbody>\n",
       "    <tr>\n",
       "      <th>count</th>\n",
       "      <td>23.000000</td>\n",
       "      <td>23.000000</td>\n",
       "      <td>23.000000</td>\n",
       "      <td>23.000000</td>\n",
       "    </tr>\n",
       "    <tr>\n",
       "      <th>mean</th>\n",
       "      <td>3.565217</td>\n",
       "      <td>5.347826</td>\n",
       "      <td>5.521739</td>\n",
       "      <td>5.043478</td>\n",
       "    </tr>\n",
       "    <tr>\n",
       "      <th>std</th>\n",
       "      <td>1.674029</td>\n",
       "      <td>2.404706</td>\n",
       "      <td>2.428422</td>\n",
       "      <td>2.704849</td>\n",
       "    </tr>\n",
       "    <tr>\n",
       "      <th>min</th>\n",
       "      <td>0.000000</td>\n",
       "      <td>0.000000</td>\n",
       "      <td>1.000000</td>\n",
       "      <td>1.000000</td>\n",
       "    </tr>\n",
       "    <tr>\n",
       "      <th>25%</th>\n",
       "      <td>3.000000</td>\n",
       "      <td>4.500000</td>\n",
       "      <td>4.000000</td>\n",
       "      <td>3.000000</td>\n",
       "    </tr>\n",
       "    <tr>\n",
       "      <th>50%</th>\n",
       "      <td>4.000000</td>\n",
       "      <td>5.000000</td>\n",
       "      <td>6.000000</td>\n",
       "      <td>5.000000</td>\n",
       "    </tr>\n",
       "    <tr>\n",
       "      <th>75%</th>\n",
       "      <td>5.000000</td>\n",
       "      <td>6.500000</td>\n",
       "      <td>7.500000</td>\n",
       "      <td>7.000000</td>\n",
       "    </tr>\n",
       "    <tr>\n",
       "      <th>max</th>\n",
       "      <td>6.000000</td>\n",
       "      <td>9.000000</td>\n",
       "      <td>9.000000</td>\n",
       "      <td>9.000000</td>\n",
       "    </tr>\n",
       "  </tbody>\n",
       "</table>\n",
       "</div>"
      ],
      "text/plain": [
       "               y         x1         x2         x3\n",
       "count  23.000000  23.000000  23.000000  23.000000\n",
       "mean    3.565217   5.347826   5.521739   5.043478\n",
       "std     1.674029   2.404706   2.428422   2.704849\n",
       "min     0.000000   0.000000   1.000000   1.000000\n",
       "25%     3.000000   4.500000   4.000000   3.000000\n",
       "50%     4.000000   5.000000   6.000000   5.000000\n",
       "75%     5.000000   6.500000   7.500000   7.000000\n",
       "max     6.000000   9.000000   9.000000   9.000000"
      ]
     },
     "execution_count": 84,
     "metadata": {},
     "output_type": "execute_result"
    }
   ],
   "source": [
    "dataset.describe()"
   ]
  },
  {
   "cell_type": "code",
   "execution_count": 90,
   "id": "06ddb22d",
   "metadata": {},
   "outputs": [
    {
     "data": {
      "text/html": [
       "<div>\n",
       "<style scoped>\n",
       "    .dataframe tbody tr th:only-of-type {\n",
       "        vertical-align: middle;\n",
       "    }\n",
       "\n",
       "    .dataframe tbody tr th {\n",
       "        vertical-align: top;\n",
       "    }\n",
       "\n",
       "    .dataframe thead th {\n",
       "        text-align: right;\n",
       "    }\n",
       "</style>\n",
       "<table border=\"1\" class=\"dataframe\">\n",
       "  <thead>\n",
       "    <tr style=\"text-align: right;\">\n",
       "      <th></th>\n",
       "      <th>Coefficient</th>\n",
       "    </tr>\n",
       "  </thead>\n",
       "  <tbody>\n",
       "    <tr>\n",
       "      <th>x1</th>\n",
       "      <td>0.223219</td>\n",
       "    </tr>\n",
       "    <tr>\n",
       "      <th>x2</th>\n",
       "      <td>0.136709</td>\n",
       "    </tr>\n",
       "    <tr>\n",
       "      <th>x3</th>\n",
       "      <td>-0.063757</td>\n",
       "    </tr>\n",
       "  </tbody>\n",
       "</table>\n",
       "</div>"
      ],
      "text/plain": [
       "    Coefficient\n",
       "x1     0.223219\n",
       "x2     0.136709\n",
       "x3    -0.063757"
      ]
     },
     "execution_count": 90,
     "metadata": {},
     "output_type": "execute_result"
    }
   ],
   "source": [
    "coeff_df"
   ]
  },
  {
   "cell_type": "code",
   "execution_count": 91,
   "id": "8ed616f1",
   "metadata": {},
   "outputs": [
    {
     "data": {
      "text/html": [
       "<div>\n",
       "<style scoped>\n",
       "    .dataframe tbody tr th:only-of-type {\n",
       "        vertical-align: middle;\n",
       "    }\n",
       "\n",
       "    .dataframe tbody tr th {\n",
       "        vertical-align: top;\n",
       "    }\n",
       "\n",
       "    .dataframe thead th {\n",
       "        text-align: right;\n",
       "    }\n",
       "</style>\n",
       "<table border=\"1\" class=\"dataframe\">\n",
       "  <thead>\n",
       "    <tr style=\"text-align: right;\">\n",
       "      <th></th>\n",
       "      <th>Actual</th>\n",
       "      <th>Predicted</th>\n",
       "    </tr>\n",
       "  </thead>\n",
       "  <tbody>\n",
       "    <tr>\n",
       "      <th>11</th>\n",
       "      <td>5</td>\n",
       "      <td>4.119478</td>\n",
       "    </tr>\n",
       "    <tr>\n",
       "      <th>10</th>\n",
       "      <td>4</td>\n",
       "      <td>3.153648</td>\n",
       "    </tr>\n",
       "    <tr>\n",
       "      <th>21</th>\n",
       "      <td>3</td>\n",
       "      <td>3.199155</td>\n",
       "    </tr>\n",
       "    <tr>\n",
       "      <th>14</th>\n",
       "      <td>4</td>\n",
       "      <td>4.078333</td>\n",
       "    </tr>\n",
       "    <tr>\n",
       "      <th>20</th>\n",
       "      <td>1</td>\n",
       "      <td>3.258079</td>\n",
       "    </tr>\n",
       "  </tbody>\n",
       "</table>\n",
       "</div>"
      ],
      "text/plain": [
       "    Actual  Predicted\n",
       "11       5   4.119478\n",
       "10       4   3.153648\n",
       "21       3   3.199155\n",
       "14       4   4.078333\n",
       "20       1   3.258079"
      ]
     },
     "execution_count": 91,
     "metadata": {},
     "output_type": "execute_result"
    }
   ],
   "source": [
    "df"
   ]
  },
  {
   "cell_type": "code",
   "execution_count": 92,
   "id": "3892069e",
   "metadata": {},
   "outputs": [
    {
     "name": "stdout",
     "output_type": "stream",
     "text": [
      "Mean Squared Error: 1.327269924234307\n"
     ]
    }
   ],
   "source": [
    "print('Mean Squared Error:', metrics.mean_squared_error(y_test, y_pred))"
   ]
  },
  {
   "cell_type": "markdown",
   "id": "d1606c95",
   "metadata": {},
   "source": [
    "### Задание\n",
    "Постройте модель множественной линейной регрессии для произвольных данных из нескольких столбцов. Для примера можно взять потребления газа (в миллионах галлонов) в 48 штатах США или набор данных о качестве красного вина (1) и (2) соответственно. Найдите коэффициенты множественной регрессии. Постройте прогноз.\n",
    "\n",
    "1. https://raw.githubusercontent.com/likarajo/petrol_consumption/master/data/petrol_consumption.csv\n",
    "\n",
    "2. https://raw.githubusercontent.com/aniruddhachoudhury/Red-Wine-Quality/master/winequality-red.csv\n"
   ]
  },
  {
   "cell_type": "code",
   "execution_count": 12,
   "id": "b1de9cde",
   "metadata": {},
   "outputs": [
    {
     "name": "stdout",
     "output_type": "stream",
     "text": [
      "(1599, 2)\n",
      "Mean Squared Error: 1.50129172425466\n"
     ]
    }
   ],
   "source": [
    "import pandas as pd\n",
    "import numpy as np\n",
    "import matplotlib.pyplot as plt\n",
    "import seaborn as seabornInstance\n",
    "from sklearn.model_selection import train_test_split\n",
    "from sklearn.linear_model import LinearRegression\n",
    "from sklearn import metrics\n",
    "\n",
    "DataFrame = pd.read_csv('https://raw.githubusercontent.com/aniruddhachoudhury/Red-Wine-Quality/master/winequality-red.csv')\n",
    "\n",
    "y = DataFrame[\"residual sugar\"]\n",
    "X = DataFrame[\"quality\"]\n",
    "\n",
    "new_y = np.array(y)\n",
    "new_y = new_y.transpose()\n",
    "df1 = pd.DataFrame(new_y)\n",
    "new_X = np.array(X)\n",
    "new_X = new_X.transpose()\n",
    "df2 = pd. DataFrame(new_X)\n",
    "df1 = df1.rename(columns = {0: 'y'}, inplace = False)\n",
    "df2 = df2.rename(columns = {0: 'x1'}, inplace = False)\n",
    "frames = [df1, df2]\n",
    "dataset = pd.concat([df1, df2], axis=1, join=\"inner\")\n",
    "dataset.head()\n",
    "\n",
    "print(dataset.shape)\n",
    "dataset.describe()\n",
    "\n",
    "X = dataset[['x1']]\n",
    "y = dataset['y']\n",
    "\n",
    "X_train, X_test, y_train, y_test = train_test_split(X, y, test_size=0.2, random_state = 0)\n",
    "\n",
    "regressor = LinearRegression()\n",
    "regressor.fit(X_train, y_train)\n",
    "\n",
    "coeff_df = pd.DataFrame(regressor.coef_, X.columns, columns=['Coefficient'])\n",
    "\n",
    "y_pred = regressor.predict(X_test)\n",
    "df = pd.DataFrame({'Residual sugar': y_test, 'Quality': y_pred})\n",
    "print('Mean Squared Error:', metrics.mean_squared_error(y_test, y_pred))"
   ]
  },
  {
   "cell_type": "code",
   "execution_count": 9,
   "id": "45c43128",
   "metadata": {},
   "outputs": [
    {
     "data": {
      "text/html": [
       "<div>\n",
       "<style scoped>\n",
       "    .dataframe tbody tr th:only-of-type {\n",
       "        vertical-align: middle;\n",
       "    }\n",
       "\n",
       "    .dataframe tbody tr th {\n",
       "        vertical-align: top;\n",
       "    }\n",
       "\n",
       "    .dataframe thead th {\n",
       "        text-align: right;\n",
       "    }\n",
       "</style>\n",
       "<table border=\"1\" class=\"dataframe\">\n",
       "  <thead>\n",
       "    <tr style=\"text-align: right;\">\n",
       "      <th></th>\n",
       "      <th>Residual sugar</th>\n",
       "      <th>Quality</th>\n",
       "    </tr>\n",
       "  </thead>\n",
       "  <tbody>\n",
       "    <tr>\n",
       "      <th>1109</th>\n",
       "      <td>2.10</td>\n",
       "      <td>2.561559</td>\n",
       "    </tr>\n",
       "    <tr>\n",
       "      <th>1032</th>\n",
       "      <td>4.10</td>\n",
       "      <td>2.537812</td>\n",
       "    </tr>\n",
       "    <tr>\n",
       "      <th>1002</th>\n",
       "      <td>2.05</td>\n",
       "      <td>2.585306</td>\n",
       "    </tr>\n",
       "    <tr>\n",
       "      <th>487</th>\n",
       "      <td>1.80</td>\n",
       "      <td>2.561559</td>\n",
       "    </tr>\n",
       "    <tr>\n",
       "      <th>979</th>\n",
       "      <td>1.40</td>\n",
       "      <td>2.537812</td>\n",
       "    </tr>\n",
       "    <tr>\n",
       "      <th>...</th>\n",
       "      <td>...</td>\n",
       "      <td>...</td>\n",
       "    </tr>\n",
       "    <tr>\n",
       "      <th>794</th>\n",
       "      <td>2.30</td>\n",
       "      <td>2.561559</td>\n",
       "    </tr>\n",
       "    <tr>\n",
       "      <th>813</th>\n",
       "      <td>2.10</td>\n",
       "      <td>2.514065</td>\n",
       "    </tr>\n",
       "    <tr>\n",
       "      <th>1322</th>\n",
       "      <td>1.80</td>\n",
       "      <td>2.537812</td>\n",
       "    </tr>\n",
       "    <tr>\n",
       "      <th>704</th>\n",
       "      <td>1.60</td>\n",
       "      <td>2.514065</td>\n",
       "    </tr>\n",
       "    <tr>\n",
       "      <th>1023</th>\n",
       "      <td>2.30</td>\n",
       "      <td>2.561559</td>\n",
       "    </tr>\n",
       "  </tbody>\n",
       "</table>\n",
       "<p>320 rows × 2 columns</p>\n",
       "</div>"
      ],
      "text/plain": [
       "      Residual sugar   Quality\n",
       "1109            2.10  2.561559\n",
       "1032            4.10  2.537812\n",
       "1002            2.05  2.585306\n",
       "487             1.80  2.561559\n",
       "979             1.40  2.537812\n",
       "...              ...       ...\n",
       "794             2.30  2.561559\n",
       "813             2.10  2.514065\n",
       "1322            1.80  2.537812\n",
       "704             1.60  2.514065\n",
       "1023            2.30  2.561559\n",
       "\n",
       "[320 rows x 2 columns]"
      ]
     },
     "execution_count": 9,
     "metadata": {},
     "output_type": "execute_result"
    }
   ],
   "source": [
    "df"
   ]
  },
  {
   "cell_type": "code",
   "execution_count": 17,
   "id": "5a501bc0",
   "metadata": {},
   "outputs": [
    {
     "data": {
      "text/html": [
       "<div>\n",
       "<style scoped>\n",
       "    .dataframe tbody tr th:only-of-type {\n",
       "        vertical-align: middle;\n",
       "    }\n",
       "\n",
       "    .dataframe tbody tr th {\n",
       "        vertical-align: top;\n",
       "    }\n",
       "\n",
       "    .dataframe thead th {\n",
       "        text-align: right;\n",
       "    }\n",
       "</style>\n",
       "<table border=\"1\" class=\"dataframe\">\n",
       "  <thead>\n",
       "    <tr style=\"text-align: right;\">\n",
       "      <th></th>\n",
       "      <th>fixed acidity</th>\n",
       "      <th>volatile acidity</th>\n",
       "      <th>citric acid</th>\n",
       "      <th>residual sugar</th>\n",
       "      <th>chlorides</th>\n",
       "      <th>free sulfur dioxide</th>\n",
       "      <th>total sulfur dioxide</th>\n",
       "      <th>density</th>\n",
       "      <th>pH</th>\n",
       "      <th>sulphates</th>\n",
       "      <th>alcohol</th>\n",
       "      <th>quality</th>\n",
       "    </tr>\n",
       "  </thead>\n",
       "  <tbody>\n",
       "    <tr>\n",
       "      <th>count</th>\n",
       "      <td>1599.000000</td>\n",
       "      <td>1599.000000</td>\n",
       "      <td>1599.000000</td>\n",
       "      <td>1599.000000</td>\n",
       "      <td>1599.000000</td>\n",
       "      <td>1599.000000</td>\n",
       "      <td>1599.000000</td>\n",
       "      <td>1599.000000</td>\n",
       "      <td>1599.000000</td>\n",
       "      <td>1599.000000</td>\n",
       "      <td>1599.000000</td>\n",
       "      <td>1599.000000</td>\n",
       "    </tr>\n",
       "    <tr>\n",
       "      <th>mean</th>\n",
       "      <td>8.319637</td>\n",
       "      <td>0.527821</td>\n",
       "      <td>0.270976</td>\n",
       "      <td>2.538806</td>\n",
       "      <td>0.087467</td>\n",
       "      <td>15.874922</td>\n",
       "      <td>46.467792</td>\n",
       "      <td>0.996747</td>\n",
       "      <td>3.311113</td>\n",
       "      <td>0.658149</td>\n",
       "      <td>10.422983</td>\n",
       "      <td>5.636023</td>\n",
       "    </tr>\n",
       "    <tr>\n",
       "      <th>std</th>\n",
       "      <td>1.741096</td>\n",
       "      <td>0.179060</td>\n",
       "      <td>0.194801</td>\n",
       "      <td>1.409928</td>\n",
       "      <td>0.047065</td>\n",
       "      <td>10.460157</td>\n",
       "      <td>32.895324</td>\n",
       "      <td>0.001887</td>\n",
       "      <td>0.154386</td>\n",
       "      <td>0.169507</td>\n",
       "      <td>1.065668</td>\n",
       "      <td>0.807569</td>\n",
       "    </tr>\n",
       "    <tr>\n",
       "      <th>min</th>\n",
       "      <td>4.600000</td>\n",
       "      <td>0.120000</td>\n",
       "      <td>0.000000</td>\n",
       "      <td>0.900000</td>\n",
       "      <td>0.012000</td>\n",
       "      <td>1.000000</td>\n",
       "      <td>6.000000</td>\n",
       "      <td>0.990070</td>\n",
       "      <td>2.740000</td>\n",
       "      <td>0.330000</td>\n",
       "      <td>8.400000</td>\n",
       "      <td>3.000000</td>\n",
       "    </tr>\n",
       "    <tr>\n",
       "      <th>25%</th>\n",
       "      <td>7.100000</td>\n",
       "      <td>0.390000</td>\n",
       "      <td>0.090000</td>\n",
       "      <td>1.900000</td>\n",
       "      <td>0.070000</td>\n",
       "      <td>7.000000</td>\n",
       "      <td>22.000000</td>\n",
       "      <td>0.995600</td>\n",
       "      <td>3.210000</td>\n",
       "      <td>0.550000</td>\n",
       "      <td>9.500000</td>\n",
       "      <td>5.000000</td>\n",
       "    </tr>\n",
       "    <tr>\n",
       "      <th>50%</th>\n",
       "      <td>7.900000</td>\n",
       "      <td>0.520000</td>\n",
       "      <td>0.260000</td>\n",
       "      <td>2.200000</td>\n",
       "      <td>0.079000</td>\n",
       "      <td>14.000000</td>\n",
       "      <td>38.000000</td>\n",
       "      <td>0.996750</td>\n",
       "      <td>3.310000</td>\n",
       "      <td>0.620000</td>\n",
       "      <td>10.200000</td>\n",
       "      <td>6.000000</td>\n",
       "    </tr>\n",
       "    <tr>\n",
       "      <th>75%</th>\n",
       "      <td>9.200000</td>\n",
       "      <td>0.640000</td>\n",
       "      <td>0.420000</td>\n",
       "      <td>2.600000</td>\n",
       "      <td>0.090000</td>\n",
       "      <td>21.000000</td>\n",
       "      <td>62.000000</td>\n",
       "      <td>0.997835</td>\n",
       "      <td>3.400000</td>\n",
       "      <td>0.730000</td>\n",
       "      <td>11.100000</td>\n",
       "      <td>6.000000</td>\n",
       "    </tr>\n",
       "    <tr>\n",
       "      <th>max</th>\n",
       "      <td>15.900000</td>\n",
       "      <td>1.580000</td>\n",
       "      <td>1.000000</td>\n",
       "      <td>15.500000</td>\n",
       "      <td>0.611000</td>\n",
       "      <td>72.000000</td>\n",
       "      <td>289.000000</td>\n",
       "      <td>1.003690</td>\n",
       "      <td>4.010000</td>\n",
       "      <td>2.000000</td>\n",
       "      <td>14.900000</td>\n",
       "      <td>8.000000</td>\n",
       "    </tr>\n",
       "  </tbody>\n",
       "</table>\n",
       "</div>"
      ],
      "text/plain": [
       "       fixed acidity  volatile acidity  citric acid  residual sugar  \\\n",
       "count    1599.000000       1599.000000  1599.000000     1599.000000   \n",
       "mean        8.319637          0.527821     0.270976        2.538806   \n",
       "std         1.741096          0.179060     0.194801        1.409928   \n",
       "min         4.600000          0.120000     0.000000        0.900000   \n",
       "25%         7.100000          0.390000     0.090000        1.900000   \n",
       "50%         7.900000          0.520000     0.260000        2.200000   \n",
       "75%         9.200000          0.640000     0.420000        2.600000   \n",
       "max        15.900000          1.580000     1.000000       15.500000   \n",
       "\n",
       "         chlorides  free sulfur dioxide  total sulfur dioxide      density  \\\n",
       "count  1599.000000          1599.000000           1599.000000  1599.000000   \n",
       "mean      0.087467            15.874922             46.467792     0.996747   \n",
       "std       0.047065            10.460157             32.895324     0.001887   \n",
       "min       0.012000             1.000000              6.000000     0.990070   \n",
       "25%       0.070000             7.000000             22.000000     0.995600   \n",
       "50%       0.079000            14.000000             38.000000     0.996750   \n",
       "75%       0.090000            21.000000             62.000000     0.997835   \n",
       "max       0.611000            72.000000            289.000000     1.003690   \n",
       "\n",
       "                pH    sulphates      alcohol      quality  \n",
       "count  1599.000000  1599.000000  1599.000000  1599.000000  \n",
       "mean      3.311113     0.658149    10.422983     5.636023  \n",
       "std       0.154386     0.169507     1.065668     0.807569  \n",
       "min       2.740000     0.330000     8.400000     3.000000  \n",
       "25%       3.210000     0.550000     9.500000     5.000000  \n",
       "50%       3.310000     0.620000    10.200000     6.000000  \n",
       "75%       3.400000     0.730000    11.100000     6.000000  \n",
       "max       4.010000     2.000000    14.900000     8.000000  "
      ]
     },
     "execution_count": 17,
     "metadata": {},
     "output_type": "execute_result"
    }
   ],
   "source": [
    "DataFrame.describe()"
   ]
  },
  {
   "cell_type": "code",
   "execution_count": 10,
   "id": "89d6b0be",
   "metadata": {},
   "outputs": [
    {
     "data": {
      "image/png": "[encoded data removed]",
      "text/plain": [
       "<Figure size 432x288 with 1 Axes>"
      ]
     },
     "metadata": {
      "needs_background": "light"
     },
     "output_type": "display_data"
    }
   ],
   "source": [
    "plt.scatter(X_test, y_test, color='gray')\n",
    "plt.plot(X_test, y_pred, color='red', linewidth=2)\n",
    "plt.show()"
   ]
  },
  {
   "attachments": {
    "image-2.png": {
     "image/png": "[encoded data removed]"
    },
    "image.png": {
     "image/png": "[encoded data removed]"
    }
   },
   "cell_type": "markdown",
   "id": "985dccf9",
   "metadata": {},
   "source": [
    "### Задание*\n",
    "Задача: Экспериментально получены N − значений величины Y при различных значениях величины X. Построить полиномы первой и второй степени, аппроксимирующие результаты эксперимента, с применением метода наименьших квадратов. Результаты выводятся в виде таблиц значений и графиков, полученных полиномов. \n",
    "![image.png](attachment:image.png)\n",
    "![image-2.png](attachment:image-2.png)"
   ]
  },
  {
   "cell_type": "code",
   "execution_count": 2,
   "id": "62c2d83d",
   "metadata": {},
   "outputs": [
    {
     "data": {
      "image/png": "[encoded data removed]",
      "text/plain": [
       "<Figure size 432x288 with 1 Axes>"
      ]
     },
     "metadata": {
      "needs_background": "light"
     },
     "output_type": "display_data"
    }
   ],
   "source": [
    "import numpy as np\n",
    "import matplotlib.pyplot as plt\n",
    "\n",
    "x = np.array([3.0, 3.2, 3.4, 3.6, 3.8, 4.0])\n",
    "y = np.array([2.0, 3.0, 3.0, 3.0, 2.0, 4.0])\n",
    "\n",
    "plt.plot(x, y, 'o', markersize=10)\n",
    "plt.show()"
   ]
  },
  {
   "cell_type": "code",
   "execution_count": 17,
   "id": "cc0c1d03",
   "metadata": {},
   "outputs": [
    {
     "name": "stdout",
     "output_type": "stream",
     "text": [
      "3.0\n"
     ]
    },
    {
     "data": {
      "image/png": "[encoded data removed]",
      "text/plain": [
       "<Figure size 432x288 with 1 Axes>"
      ]
     },
     "metadata": {
      "needs_background": "light"
     },
     "output_type": "display_data"
    },
    {
     "name": "stdout",
     "output_type": "stream",
     "text": [
      "[3. 3. 3. 3. 3.]\n"
     ]
    }
   ],
   "source": [
    "import pandas as pd\n",
    "import numpy as np\n",
    "import matplotlib.pyplot as plt\n",
    "import seaborn as seabornInstance\n",
    "from sklearn.model_selection import train_test_split\n",
    "from sklearn.linear_model import LinearRegression\n",
    "from sklearn import metrics\n",
    "\n",
    "y = [3.0, 3.2, 3.4, 3.6, 3.8, 4.0,]\n",
    "X = [2.0, 3.0, 3.0, 3.0, 2.0, 4.0]\n",
    "\n",
    "new_y = np.array(y)\n",
    "new_y = new_y.transpose()\n",
    "df1 = pd.DataFrame(new_y)\n",
    "new_X = np.array(X)\n",
    "new_X = new_X.transpose()\n",
    "df2 = pd.DataFrame(new_X)\n",
    "df1 = df1.rename(columns = {0: 'y'}, inplace = False)\n",
    "df2 = df2.rename(columns = {0:'x1'}, inplace = False)\n",
    "\n",
    "frames = [df1, df2]\n",
    "dataset = pd.concat([df1, df2], axis=1, join=\"inner\")\n",
    "\n",
    "X = dataset.iloc[:, :-1].values\n",
    "y = dataset.iloc[:, 1].values\n",
    "## print(X)\n",
    "#print(y)\n",
    "\n",
    "X_train, X_test, y_train, y_test = train_test_split(X, y, test_size = 0.8,random_state = 3)\n",
    "\n",
    "regressor = LinearRegression()\n",
    "regressor.fit(X_train, y_train)\n",
    "\n",
    "print(regressor.intercept_)\n",
    "## print(regressor.coef_)\n",
    "\n",
    "y_pred = regressor.predict(X_test)\n",
    "\n",
    "df = pd.DataFrame({'Actual': y_test, 'Predicted': y_pred})\n",
    "\n",
    "plt.scatter(X_test, y_test, color='gray')\n",
    "plt.plot(X_test, y_pred, color='red', linewidth=2)\n",
    "plt.show()\n",
    "\n",
    "print(y_pred)"
   ]
  },
  {
   "cell_type": "code",
   "execution_count": null,
   "id": "d8d1d55d",
   "metadata": {},
   "outputs": [],
   "source": []
  }
 ],
 "metadata": {
  "kernelspec": {
   "display_name": "Python 3 (ipykernel)",
   "language": "python",
   "name": "python3"
  },
  "language_info": {
   "codemirror_mode": {
    "name": "ipython",
    "version": 3
   },
   "file_extension": ".py",
   "mimetype": "text/x-python",
   "name": "python",
   "nbconvert_exporter": "python",
   "pygments_lexer": "ipython3",
   "version": "3.9.7"
  }
 },
 "nbformat": 4,
 "nbformat_minor": 5
}
