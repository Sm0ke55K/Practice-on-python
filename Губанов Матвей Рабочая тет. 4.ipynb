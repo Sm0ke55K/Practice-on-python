{
 "cells": [
  {
   "cell_type": "markdown",
   "id": "96cc4d43",
   "metadata": {},
   "source": [
    "# Губанов Матвей Рабочая тетрадь №4  БББО-08-20"
   ]
  },
  {
   "cell_type": "markdown",
   "id": "9d5b6df3",
   "metadata": {},
   "source": [
    "Регрессия – это зависимость среднего значения какой-либо величины от некоторой другой величины или от нескольких других величин. В отличие от чисто функциональной зависимости y=f(x), когда каждому значению независимой переменной x соответствует одно определённое значение зависимой переменной у, при регрессионной связи одному и тому же значению независимой переменной (фактору) x могут соответствовать в зависимости от конкретного случая различные значения зависимой переменной (отклика) у.\n",
    "Изучение регрессии основано на том, что случайные величины Х и Y связаны между собой вероятностной зависимостью: при каждом конкретном значении X=x величина Y является случайной величиной с вполне определённым распределением вероятностей. Зависимость зависимой переменной – отклика от одной независимой переменной – фактора или нескольких факторов называется уравнением регрессии. По количеству факторов выделяют парную (однофакторную) и множественную (многофакторную) регрессию. Для парной будем рассматривать следующие методы регрессии: линейную, показательную, экспоненциальную, гиперболическую и параболическую.\n",
    "Регрессионный анализ – это раздел математической статистики, изучающий регрессионную зависимость между случайными величинами по статистическим данным. Цель регрессионного анализа состоит в определении общего вида уравнения регрессии, вычислении оценок неизвестных параметров, входящих в уравнение регрессии проверке статистических гипотез о регрессионной связи.\n",
    "Таким образом, регрессионный анализ – набор статистических методов исследования влияния одной или нескольких независимых переменных X_1,…,X_n на зависимую переменную Y. Независимые переменные иначе называют регрессорами или предикторами, а зависимые переменные – критериальными переменными.\n"
   ]
  },
  {
   "cell_type": "markdown",
   "id": "a22ff978",
   "metadata": {},
   "source": [
    "## 1.1. Теоретический материал – Линейные регрессионные модели"
   ]
  },
  {
   "cell_type": "markdown",
   "id": "c09a2731",
   "metadata": {},
   "source": [
    "<ul>Линейная регрессия\n",
    "\n",
    "Линейная регрессия (Linear regression) – модель зависимости переменной x от одной или нескольких других переменных (факторов, регрессоров, независимых переменных) с линейной функцией зависимости. Линейная регрессия относится к задаче определения «линии наилучшего соответствия» через набор точек данных и стала простым предшественником нелинейных методов, которые используют для обучения нейронных сетей.\n",
    "\n",
    "Цель линейной регрессии — поиск линии, которая наилучшим образом соответствует этим точкам. Напомним, что общее уравнение для прямой есть f (x) = b +m⋅x +, где m – наклон линии, а b – его сдвиг.\n",
    "\n",
    "<p>Функция потерь — метод наименьших квадратов</p>\n",
    "\n",
    "Функция потерь – это мера количества ошибок, которые наша линейная регрессия делает на наборе данных. Хотя есть разные функции потерь, все они вычисляют расстояние между предсказанным значением y(х) и его фактическим значением.\n",
    "\n",
    "Одна очень распространенная функция потерь называется средней квадратичной ошибкой MSE. Чтобы вычислить MSE, мы просто берем все значения ошибок, считаем их квадраты длин и усредняем.\n",
    "\n",
    "<p>Задача экраполяции</p>\n",
    "\n",
    "Допустим у нас есть много экспериментальных точек. Необходимо через них провести кривую, которая как можно ближе проходила к этим точкам. При этом необходимо минимизировать среднюю квадратичную ошибку (MSE).\n",
    "Для решения данной задачи в Python есть множество библиотек. Самыми распостраненными выступают:\n",
    "\n",
    "<p>numpy - numpy.linalg.lstsq</p>\n",
    "\n",
    "<p>scipy - scipy.linalg</p> \n",
    "(содержит все функции из numpy.linalg плюс часть новых функций, которых нет в numpy.linalg).\n",
    "</ul>"
   ]
  },
  {
   "cell_type": "markdown",
   "id": "db98d219",
   "metadata": {},
   "source": [
    "### 1.1.1 Пример"
   ]
  },
  {
   "cell_type": "markdown",
   "id": "3da114ba",
   "metadata": {},
   "source": [
    "Проведем прямую y = mx + b  через экспериментальные точки."
   ]
  },
  {
   "cell_type": "code",
   "execution_count": 1,
   "id": "ac780363",
   "metadata": {},
   "outputs": [
    {
     "name": "stdout",
     "output_type": "stream",
     "text": [
      "0.9999999999999997 -0.949999999999999\n"
     ]
    },
    {
     "data": {
      "image/png": "[encoded data removed]",
      "text/plain": [
       "<Figure size 432x288 with 1 Axes>"
      ]
     },
     "metadata": {
      "needs_background": "light"
     },
     "output_type": "display_data"
    }
   ],
   "source": [
    "import numpy as np\n",
    "x = np.array([0, 1, 2, 3])\n",
    "y = np.array([-1, 0.2, 0.9, 2.1])\n",
    "\n",
    "##Перепишем линейное уравнение у = mx + с как у = Ар, где А = [[ x 1 ]] и р = [[m], [c]]\n",
    "##Построим А по X :\n",
    "\n",
    "A = np.vstack([x, np.ones(len(x))]).T\n",
    "A\n",
    "\n",
    "##Используем метод lstsq для решения его относительно вектора р.\n",
    "m, c = np.linalg.lstsq(A, y, rcond = None)[0]\n",
    "print(m, c)\n",
    "\n",
    "#Построим график полученной прямой и укажем на нем точки.\n",
    "import matplotlib.pyplot as plt\n",
    "plt.plot(x, y, 'o', label='Исходные данные', markersize=10)\n",
    "plt.plot(x, m*x + c, 'r', label=\"Линейная экстраполяция\")\n",
    "plt.legend()\n",
    "plt.show()"
   ]
  },
  {
   "cell_type": "markdown",
   "id": "eeb05c3e",
   "metadata": {},
   "source": [
    "### 1.1.2 Пример"
   ]
  },
  {
   "cell_type": "markdown",
   "id": "6c1cd7b2",
   "metadata": {},
   "source": [
    "Пусть x,y – вектора длиной n > 3 (точек > 3). Задача заключается в построении эстраполяционного полинома второго порядка (параболы). Таким образом, необходимо найти такие коэффициенты поринома a,b,c по методу наименьших квадратов. Данные мтогут быть получены в результате измерений. Покажем пример генерации данных случайным образом и загрузки их из файла."
   ]
  },
  {
   "cell_type": "code",
   "execution_count": 2,
   "id": "ddb7484d",
   "metadata": {},
   "outputs": [
    {
     "name": "stdout",
     "output_type": "stream",
     "text": [
      "[-5.11793327 -3.67189068 -2.84706448 -2.44239489 -0.91138082  0.37238723\n",
      "  0.59235576  2.23074847  2.94208972  3.9245143   5.37175266]\n",
      "[24.91238973 15.85902252  8.97417617  3.95566071  1.04322772 -0.30497715\n",
      "  0.53422965  4.34946423  9.37557325 15.82901689 24.96469717]\n",
      "[[26.19324095 -5.11793327  1.        ]\n",
      " [13.48278115 -3.67189068  1.        ]\n",
      " [ 8.10577613 -2.84706448  1.        ]\n",
      " [ 5.96529282 -2.44239489  1.        ]\n",
      " [ 0.830615   -0.91138082  1.        ]\n",
      " [ 0.13867225  0.37238723  1.        ]\n",
      " [ 0.35088534  0.59235576  1.        ]\n",
      " [ 4.97623874  2.23074847  1.        ]\n",
      " [ 8.65589195  2.94208972  1.        ]\n",
      " [15.40181251  3.9245143   1.        ]\n",
      " [28.85572669  5.37175266  1.        ]]\n",
      "[ 0.92902837 -0.14629628  0.41973825]\n"
     ]
    },
    {
     "data": {
      "image/png": "[encoded data removed]",
      "text/plain": [
       "<Figure size 432x288 with 1 Axes>"
      ]
     },
     "metadata": {
      "needs_background": "light"
     },
     "output_type": "display_data"
    }
   ],
   "source": [
    "from numpy import *\n",
    "from numpy.random import *\n",
    "#генерируем случайные х и у\n",
    "delta = 1.0\n",
    "x = linspace(-5,5,11)\n",
    "y = x**2+delta*(rand(11)-0.5)\n",
    "x += delta*(rand(11)-0.5)\n",
    "\n",
    "#записывае данные в файл\n",
    "x.tofile('x_data.txt', '\\n')\n",
    "y.tofile('y_data.txt', '\\n')\n",
    "\n",
    "# читаем данные из файлов\n",
    "x = fromfile('x_data.txt',float, sep='\\n')\n",
    "y = fromfile('y_data.txt',float, sep='\\n')\n",
    "print(x)\n",
    "print(y)\n",
    "\n",
    "# # Нахождение коэффициентов функции вида у = ах2 + bx + с методом наименьших квадратов\n",
    "# задаем вектор т = [x**2, х, E]\n",
    "m = stack((x**2, x, ones(11))).T\n",
    "# находим коэффициенты при составляющих вектора т\n",
    "s = np.linalg.lstsq(m, y, rcond = None)[0]\n",
    "\n",
    "# на отрезке [-5,5]\n",
    "x_prec = linspace(-5, 5, 101)\n",
    "# рисуем точки\n",
    "plt.plot(x, y, 'D')\n",
    "# рисуем кривую вида у = ax*2 + bx + с, подставляя из решения коэффициенты s[0], s[1], s[2]\n",
    "plt.plot(x_prec, s[0] * x_prec**2 + s[1] * x_prec+s[2],'-', lw=2)\n",
    "plt.grid()\n",
    "plt.savefig(\"парабола.png\")\n",
    "\n",
    "print(m)\n",
    "print(s)"
   ]
  },
  {
   "cell_type": "code",
   "execution_count": 3,
   "id": "b4433f30",
   "metadata": {},
   "outputs": [],
   "source": [
    "m = stack((x**2, x, ones(11))).T"
   ]
  },
  {
   "cell_type": "markdown",
   "id": "833d2880",
   "metadata": {},
   "source": [
    "### 1.1.3 Пример"
   ]
  },
  {
   "cell_type": "markdown",
   "id": "4ab93cb3",
   "metadata": {},
   "source": [
    "По данным предыдущего примера постройте эстраполяционного полинома третьего порядка"
   ]
  },
  {
   "cell_type": "code",
   "execution_count": 4,
   "id": "a185821d",
   "metadata": {},
   "outputs": [
    {
     "data": {
      "image/png": "[encoded data removed]",
      "text/plain": [
       "<Figure size 432x288 with 1 Axes>"
      ]
     },
     "metadata": {
      "needs_background": "light"
     },
     "output_type": "display_data"
    }
   ],
   "source": [
    "#Решение\n",
    "# Нахождение коэффициентов функции вида у = ах^3 + bx^2 + сx + d методом наименьших квадратов\n",
    "# задаем вектор т = [x**3, х, E]\n",
    "m = stack((x**3,x**2, x, ones(11))).T\n",
    "# находим коэффициенты при составляющих вектора т\n",
    "s = np.linalg.lstsq(m, y, rcond = None)[0]\n",
    "\n",
    "# на отрезке [-5,5]\n",
    "x_prec = linspace(-5, 5, 101)\n",
    "# рисуем точки\n",
    "plt.plot(x, y, 'D')\n",
    "# рисуем кривую вида у = ax^3 + bx^2 + сx + d, подставляя из решения коэффициенты s[0], s[1], s[2], s[3]\n",
    "plt.plot(x_prec, s[0] * x_prec**3 + s[1] * x_prec**2 + s[2] * x_prec + s[3], '-', lw=3)\n",
    "plt.grid()\n",
    "plt.savefig(\"пролином 3-й степени.png\")"
   ]
  },
  {
   "cell_type": "markdown",
   "id": "2f845c0b",
   "metadata": {},
   "source": [
    "### Задание:"
   ]
  },
  {
   "cell_type": "markdown",
   "id": "ec43d9d4",
   "metadata": {},
   "source": [
    "Представьте собственные данные и постройте эктраполяцию полиномами первой, второй и третьей степени."
   ]
  },
  {
   "cell_type": "code",
   "execution_count": 5,
   "id": "4c70b36c",
   "metadata": {},
   "outputs": [
    {
     "data": {
      "image/png": "[encoded data removed]",
      "text/plain": [
       "<Figure size 432x288 with 1 Axes>"
      ]
     },
     "metadata": {
      "needs_background": "light"
     },
     "output_type": "display_data"
    }
   ],
   "source": [
    "# Решение\n",
    "# Нахождение коэффициентов функции вида методом наименьших квадратов\n",
    "# задаем вектор т \n",
    "m1 =  stack((x, x, ones(11))).T\n",
    "m2 = stack((x**2, x, ones(11))).T\n",
    "m3 = stack((x**3,x**2, x, ones(11))).T\n",
    "\n",
    "s1 = np.linalg.lstsq(m1, y, rcond = None)[0]\n",
    "s2 = np.linalg.lstsq(m2, y, rcond = None)[0]\n",
    "s3 = np.linalg.lstsq(m3, y, rcond = None)[0]\n",
    "# на отрезке [-5,5]\n",
    "x_prec = linspace(-5, 5, 101)\n",
    "# рисуем точки\n",
    "plt.plot(x, y, 'D')\n",
    "# рисуем кривую вида у = ax^3 + bx^2 + сx + d,... подставляя из решения коэффициенты s[0], s[1], s[2], s[3]\n",
    "plt.plot(x_prec, s1[0] * x_prec**1 + s1[1])\n",
    "plt.plot(x_prec, s2[0] * x_prec**2 + s2[1] * x_prec+s2[2],'-', lw=2)\n",
    "plt.plot(x_prec, s3[0] * x_prec**3 + s3[1] * x_prec**2 + s3[2] * x_prec + s3[3], '-', lw=3)\n",
    "plt.grid()\n",
    "plt.savefig(\"пролином 1, 2, 3-й степени.png\")"
   ]
  },
  {
   "cell_type": "markdown",
   "id": "6f08992e",
   "metadata": {},
   "source": [
    "### 1.1.4 Пример"
   ]
  },
  {
   "cell_type": "markdown",
   "id": "45d472b7",
   "metadata": {},
   "source": [
    "Необходимо проверить гипотезу, что наши точечно заданная функция ложится на кривую вида f(x,b) = b_0  + b_1 exp(-b2x^2)"
   ]
  },
  {
   "cell_type": "code",
   "execution_count": 6,
   "id": "e19149c8",
   "metadata": {},
   "outputs": [
    {
     "name": "stdout",
     "output_type": "stream",
     "text": [
      "0.0003203758566394526\n",
      "0.17101333146147538\n"
     ]
    },
    {
     "data": {
      "image/png": "[encoded data removed]",
      "text/plain": [
       "<Figure size 432x288 with 1 Axes>"
      ]
     },
     "metadata": {
      "needs_background": "light"
     },
     "output_type": "display_data"
    },
    {
     "name": "stdout",
     "output_type": "stream",
     "text": [
      "[0.         0.10204082 0.20408163 0.30612245 0.40816327 0.51020408\n",
      " 0.6122449  0.71428571 0.81632653 0.91836735 1.02040816 1.12244898\n",
      " 1.2244898  1.32653061 1.42857143 1.53061224 1.63265306 1.73469388\n",
      " 1.83673469 1.93877551 2.04081633 2.14285714 2.24489796 2.34693878\n",
      " 2.44897959 2.55102041 2.65306122 2.75510204 2.85714286 2.95918367\n",
      " 3.06122449 3.16326531 3.26530612 3.36734694 3.46938776 3.57142857\n",
      " 3.67346939 3.7755102  3.87755102 3.97959184 4.08163265 4.18367347\n",
      " 4.28571429 4.3877551  4.48979592 4.59183673 4.69387755 4.79591837\n",
      " 4.89795918 5.        ]\n",
      "[1.05085763 0.83906434 0.99791137 1.01322739 0.95215723 0.86288899\n",
      " 0.89684062 0.86908753 0.77916491 0.79558105 0.68187363 0.68698528\n",
      " 0.68884786 0.60842943 0.661126   0.46732603 0.47886822 0.36060286\n",
      " 0.38676522 0.38219539 0.41869553 0.2038044  0.22252754 0.31254289\n",
      " 0.25222828 0.35984128 0.27512174 0.26468538 0.32177729 0.22942643\n",
      " 0.2334812  0.31425003 0.34462312 0.19119258 0.22921727 0.34692822\n",
      " 0.17331406 0.24452428 0.31598529 0.18874554 0.33774786 0.26173308\n",
      " 0.20969025 0.21286896 0.22323693 0.25704645 0.18901121 0.32020978\n",
      " 0.18550053 0.21399181]\n"
     ]
    }
   ],
   "source": [
    "import scipy as sp\n",
    "#Добавим шума в данные, сделанные по функции f(x,b) с коэффициентами b = (0.25, 0.75, 0.5)\n",
    "beta = (0.25, 0.75, 0.5)\n",
    "def f(x, b0, b1, b2):\n",
    "    return b0 + b1 * np.exp(-b2 * x**2)\n",
    "# зададим массив точек xi\n",
    "xdata = np.linspace(0, 5, 50)\n",
    "# создаем теоретически правильные значения точек уi (без шума)\n",
    "y = f(xdata, *beta)\n",
    "# зашумляем эти данные\n",
    "ydata = y + 0.05 * np.random.randn(len(xdata))\n",
    "\n",
    "#Используем функцию для получения решения в виде коэффициентов функции f(x) для указанных xdata u data\n",
    "from scipy.optimize import curve_fit\n",
    "beta_opt, beta_cov = sp.optimize.curve_fit(f, xdata, ydata)\n",
    "beta_opt\n",
    "\n",
    "#Вычислим линейное отклонение\n",
    "lin_dev = sum(beta_cov[0])\n",
    "print(lin_dev)\n",
    "#Вычислим квадратичное отклонение\n",
    "residuals = ydata - f(xdata, *beta_opt)\n",
    "fres = sum(residuals**2)\n",
    "print(fres)\n",
    "\n",
    "fig, ax = plt.subplots()\n",
    "ax.scatter(xdata, ydata)\n",
    "ax.plot(xdata, y, 'r', lw=2)\n",
    "ax.plot(xdata, f(xdata, *beta_opt), 'b', lw=2)\n",
    "ax.set_xlim(0, 5)\n",
    "ax.set_xlabel(r\"$x$\", fontsize=18)\n",
    "ax.set_ylabel(r\"$f(x, \\beta)$\", fontsize=18)\n",
    "plt.show()\n",
    "\n",
    "print(xdata)\n",
    "print(ydata)"
   ]
  },
  {
   "cell_type": "markdown",
   "id": "41bfe2b2",
   "metadata": {},
   "source": [
    "### 1.1.5 Пример"
   ]
  },
  {
   "cell_type": "markdown",
   "id": "1a2cdab0",
   "metadata": {},
   "source": [
    "Необходимо проверить гипотезу, что наши точечно заданная функция ложится на кривые вида: \n",
    "1) f(x,b) = b_0  + b_1 x \n",
    "\n",
    "2) f(x,b) = b_0  + b_1 x + b_2 x^2 \n",
    "\n",
    "3) f(x,b) = b_0  + b_1 ln(x) \n",
    "\n",
    "4) f(x,b) = b_0   x^(b_1 )   \n"
   ]
  },
  {
   "cell_type": "code",
   "execution_count": 7,
   "id": "7c935d05",
   "metadata": {},
   "outputs": [
    {
     "name": "stdout",
     "output_type": "stream",
     "text": [
      "[0.25398033 0.75167694]\n",
      "8.573694178172557e-05\n",
      "0.07538938119195271\n"
     ]
    },
    {
     "data": {
      "image/png": "[encoded data removed]",
      "text/plain": [
       "<Figure size 432x288 with 1 Axes>"
      ]
     },
     "metadata": {
      "needs_background": "light"
     },
     "output_type": "display_data"
    },
    {
     "name": "stdout",
     "output_type": "stream",
     "text": [
      "[0.26955425 0.73866235 0.5014769 ]\n",
      "0.00018480957129799751\n",
      "0.1541118425078916\n"
     ]
    },
    {
     "data": {
      "image/png": "[encoded data removed]",
      "text/plain": [
       "<Figure size 432x288 with 1 Axes>"
      ]
     },
     "metadata": {
      "needs_background": "light"
     },
     "output_type": "display_data"
    },
    {
     "name": "stdout",
     "output_type": "stream",
     "text": [
      "[0.97043947 2.0342216 ]\n",
      "5.636599366886345e-05\n",
      "0.1303430484169305\n"
     ]
    },
    {
     "data": {
      "image/png": "[encoded data removed]",
      "text/plain": [
       "<Figure size 432x288 with 1 Axes>"
      ]
     },
     "metadata": {
      "needs_background": "light"
     },
     "output_type": "display_data"
    },
    {
     "name": "stdout",
     "output_type": "stream",
     "text": [
      "[1.00752296 1.99587816]\n",
      "4.532342366002134e-06\n",
      "0.1052326106159909\n"
     ]
    },
    {
     "data": {
      "image/png": "[encoded data removed]",
      "text/plain": [
       "<Figure size 432x288 with 1 Axes>"
      ]
     },
     "metadata": {
      "needs_background": "light"
     },
     "output_type": "display_data"
    }
   ],
   "source": [
    "#решение\n",
    "#1\n",
    "#Добавим шума в данные, сделанные по функции f(x,b) с коэффициентами b = (0.25, 0.75)\n",
    "beta = (0.25, 0.75)\n",
    "def f(x, b0, b1):\n",
    "    return b0 + b1 * x\n",
    "# зададим массив точек хi\n",
    "xdata = np.linspace(0, 5, 50)\n",
    "# создаем теоретически правильные значения точек уі (без шума)\n",
    "y = f(xdata, *beta)\n",
    "# зашумляем эти данные\n",
    "ydata = y + 0.05 * np.random.randn(len(xdata))\n",
    "beta_opt, beta_cov = sp.optimize.curve_fit(f, xdata, ydata)\n",
    "print(beta_opt)\n",
    "#Вычислим линейное отклонение\n",
    "lin_dev = sum(beta_cov[0])\n",
    "print(lin_dev)\n",
    "\n",
    "#Вычислим квадратичное отклонение\n",
    "residuals = ydata - f(xdata, *beta_opt)\n",
    "fres = sum(residuals**2)\n",
    "print(fres)\n",
    "\n",
    "fig, ax = plt.subplots()\n",
    "ax.scatter(xdata, ydata)\n",
    "ax.plot(xdata, y, 'r', lw=2)\n",
    "ax.plot(xdata, f(xdata, *beta_opt), 'b', lw=2)\n",
    "ax.set_xlim(0, 5)\n",
    "ax.set_xlabel(r\"$x$\", fontsize=18)\n",
    "ax.set_ylabel(r\"$f(x, \\beta)$\", fontsize=18)\n",
    "plt.show()\n",
    "\n",
    "#решение\n",
    "#2\n",
    "#Добавим шума в данные, сделанные по функции f(x,b) с коэффициентами b = (0.25, 0.75, 0.5)\n",
    "beta = (0.25, 0.75, 0.5)\n",
    "def f(x, b0, b1, b2):\n",
    "    return b0 + b1 * x + b2 * x * x\n",
    "# зададим массив точек хi\n",
    "xdata = np.linspace(0, 5, 50)\n",
    "# создаем теоретически правильные значения точек уі (без шума)\n",
    "y = f(xdata, *beta)\n",
    "# зашумляем эти данные\n",
    "ydata = y + 0.05 * np.random.randn(len(xdata))\n",
    "beta_opt, beta_cov = sp.optimize.curve_fit(f, xdata, ydata)\n",
    "print(beta_opt)\n",
    "#Вычислим линейное отклонение\n",
    "lin_dev = sum(beta_cov[0])\n",
    "print(lin_dev)\n",
    "\n",
    "#Вычислим квадратичное отклонение\n",
    "residuals = ydata - f(xdata, *beta_opt)\n",
    "fres = sum(residuals**2)\n",
    "print(fres)\n",
    "\n",
    "fig, ax = plt.subplots()\n",
    "ax.scatter(xdata, ydata)\n",
    "ax.plot(xdata, y, 'r', lw=2)\n",
    "ax.plot(xdata, f(xdata, *beta_opt), 'b', lw=2)\n",
    "ax.set_xlim(0, 5)\n",
    "ax.set_xlabel(r\"$x$\", fontsize=18)\n",
    "ax.set_ylabel(r\"$f(x, \\beta)$\", fontsize=18)\n",
    "plt.show()\n",
    "\n",
    "#решение\n",
    "#3\n",
    "#Добавим шума в данные, сделанные по функции f(x,b) с коэффициентами b = (1, 2)\n",
    "beta = (1, 2)\n",
    "def f(x, b0, b1):\n",
    "    return b0 + b1 * np.log(x)\n",
    "# зададим массив точек хi\n",
    "xdata = np.linspace(1, 5, 50)\n",
    "# создаем теоретически правильные значения точек уі (без шума)\n",
    "y = f(xdata, *beta)\n",
    "# зашумляем эти данные\n",
    "ydata = y + 0.05 * np.random.randn(len(xdata))\n",
    "beta_opt, beta_cov = sp.optimize.curve_fit(f, xdata, ydata)\n",
    "print(beta_opt)\n",
    "#Вычислим линейное отклонение\n",
    "lin_dev = sum(beta_cov[0])\n",
    "print(lin_dev)\n",
    "\n",
    "#Вычислим квадратичное отклонение\n",
    "residuals = ydata - f(xdata, *beta_opt)\n",
    "fres = sum(residuals**2)\n",
    "print(fres)\n",
    "\n",
    "fig, ax = plt.subplots()\n",
    "ax.scatter(xdata, ydata)\n",
    "ax.plot(xdata, y, 'r', lw=2)\n",
    "ax.plot(xdata, f(xdata, *beta_opt), 'b', lw=2)\n",
    "ax.set_xlim(0, 5)\n",
    "ax.set_xlabel(r\"$x$\", fontsize=18)\n",
    "ax.set_ylabel(r\"$f(x, \\beta)$\", fontsize=18)\n",
    "plt.show()\n",
    "\n",
    "#решение\n",
    "#4\n",
    "#Добавим шума в данные, сделанные по функции f(x,b) с коэффициентами b = (1, 2)\n",
    "beta = (1, 2)\n",
    "def f(x, b0, b1):\n",
    "    return b0 * x ** b1\n",
    "# зададим массив точек хi\n",
    "xdata = np.linspace(1, 5, 50)\n",
    "# создаем теоретически правильные значения точек уі (без шума)\n",
    "y = f(xdata, *beta)\n",
    "# зашумляем эти данные\n",
    "ydata = y + 0.05 * np.random.randn(len(xdata))\n",
    "beta_opt, beta_cov = sp.optimize.curve_fit(f, xdata, ydata)\n",
    "print(beta_opt)\n",
    "#Вычислим линейное отклонение\n",
    "lin_dev = sum(beta_cov[0])\n",
    "print(lin_dev)\n",
    "\n",
    "#Вычислим квадратичное отклонение\n",
    "residuals = ydata - f(xdata, *beta_opt)\n",
    "fres = sum(residuals**2)\n",
    "print(fres)\n",
    "\n",
    "fig, ax = plt.subplots()\n",
    "ax.scatter(xdata, ydata)\n",
    "ax.plot(xdata, y, 'r', lw=2)\n",
    "ax.plot(xdata, f(xdata, *beta_opt), 'b', lw=2)\n",
    "ax.set_xlim(0, 5)\n",
    "ax.set_xlabel(r\"$x$\", fontsize=18)\n",
    "ax.set_ylabel(r\"$f(x, \\beta)$\", fontsize=18)\n",
    "plt.show()"
   ]
  },
  {
   "cell_type": "markdown",
   "id": "f205987e",
   "metadata": {},
   "source": [
    "### Задание 1.1.6:\n",
    "Подставьте собственные данные и поэкспериментируйте с представленными функциями. Проанализируйте динамику изменения данных."
   ]
  },
  {
   "cell_type": "code",
   "execution_count": 8,
   "id": "5fbf0004",
   "metadata": {},
   "outputs": [
    {
     "name": "stdout",
     "output_type": "stream",
     "text": [
      "[0.20873431 0.49683225]\n",
      "6.79484766703669e-05\n",
      "0.19862787317261846\n"
     ]
    },
    {
     "data": {
      "image/png": "[encoded data removed]",
      "text/plain": [
       "<Figure size 432x288 with 1 Axes>"
      ]
     },
     "metadata": {
      "needs_background": "light"
     },
     "output_type": "display_data"
    },
    {
     "name": "stdout",
     "output_type": "stream",
     "text": [
      "[0.25635621 0.74967636 0.9998263 ]\n",
      "9.581117616983358e-05\n",
      "0.11509193365570165\n"
     ]
    },
    {
     "data": {
      "image/png": "[encoded data removed]",
      "text/plain": [
       "<Figure size 432x288 with 1 Axes>"
      ]
     },
     "metadata": {
      "needs_background": "light"
     },
     "output_type": "display_data"
    },
    {
     "name": "stdout",
     "output_type": "stream",
     "text": [
      "[2.02020349 2.98958248]\n",
      "9.018533451831897e-05\n",
      "0.20854830100349436\n"
     ]
    },
    {
     "data": {
      "image/png": "[encoded data removed]",
      "text/plain": [
       "<Figure size 432x288 with 1 Axes>"
      ]
     },
     "metadata": {
      "needs_background": "light"
     },
     "output_type": "display_data"
    },
    {
     "name": "stdout",
     "output_type": "stream",
     "text": [
      "[0.99902145 4.00065216]\n",
      "1.6342915163123348e-07\n",
      "0.08806170653678873\n"
     ]
    },
    {
     "data": {
      "image/png": "[encoded data removed]",
      "text/plain": [
       "<Figure size 432x288 with 1 Axes>"
      ]
     },
     "metadata": {
      "needs_background": "light"
     },
     "output_type": "display_data"
    }
   ],
   "source": [
    "import numpy as np\n",
    "import scipy as sp\n",
    "\n",
    "beta = (0.20, 0.50)\n",
    "def f(x, b0, b1):\n",
    "    return b0 + b1 * x - 1\n",
    "# зададим массив точек хi\n",
    "xdata = np.linspace(0, 10, 100)\n",
    "# создаем теоретически правильные значения точек уі (без шума)\n",
    "y = f(xdata, *beta)\n",
    "# зашумляем эти данные\n",
    "ydata = y + 0.05 * np.random.randn(len(xdata))\n",
    "beta_opt, beta_cov = sp.optimize.curve_fit(f, xdata, ydata)\n",
    "print(beta_opt)\n",
    "#Вычислим линейное отклонение\n",
    "lin_dev = sum(beta_cov[0])\n",
    "print(lin_dev)\n",
    "\n",
    "#Вычислим квадратичное отклонение\n",
    "residuals = ydata - f(xdata, *beta_opt)\n",
    "fres = sum(residuals**2)\n",
    "print(fres)\n",
    "\n",
    "fig, ax = plt.subplots()\n",
    "ax.scatter(xdata, ydata)\n",
    "ax.plot(xdata, y, 'r', lw=2)\n",
    "ax.plot(xdata, f(xdata, *beta_opt), 'b', lw=2)\n",
    "ax.set_xlim(0, 5)\n",
    "ax.set_xlabel(r\"$x$\", fontsize=18)\n",
    "ax.set_ylabel(r\"$f(x, \\beta)$\", fontsize=18)\n",
    "plt.show()\n",
    "\n",
    "\n",
    "beta = (0.25, 0.75, 1)\n",
    "def f(x, b0, b1, b2):\n",
    "    return b0 + b1 * x + b2 * x * x\n",
    "# зададим массив точек хi\n",
    "xdata = np.linspace(0, 5, 60)\n",
    "# создаем теоретически правильные значения точек уі (без шума)\n",
    "y = f(xdata, *beta)\n",
    "# зашумляем эти данные\n",
    "ydata = y + 0.05 * np.random.randn(len(xdata))\n",
    "beta_opt, beta_cov = sp.optimize.curve_fit(f, xdata, ydata)\n",
    "print(beta_opt)\n",
    "#Вычислим линейное отклонение\n",
    "lin_dev = sum(beta_cov[0])\n",
    "print(lin_dev)\n",
    "\n",
    "#Вычислим квадратичное отклонение\n",
    "residuals = ydata - f(xdata, *beta_opt)\n",
    "fres = sum(residuals**2)\n",
    "print(fres)\n",
    "\n",
    "fig, ax = plt.subplots()\n",
    "ax.scatter(xdata, ydata)\n",
    "ax.plot(xdata, y, 'r', lw=2)\n",
    "ax.plot(xdata, f(xdata, *beta_opt), 'b', lw=2)\n",
    "ax.set_xlim(0, 5)\n",
    "ax.set_xlabel(r\"$x$\", fontsize=18)\n",
    "ax.set_ylabel(r\"$f(x, \\beta)$\", fontsize=18)\n",
    "plt.show()\n",
    "\n",
    "\n",
    "beta = (2, 3)\n",
    "def f(x, b0, b1):\n",
    "    return b0 + b1 * np.log(x)\n",
    "# зададим массив точек хi\n",
    "xdata = np.linspace(1, 5, 50)\n",
    "# создаем теоретически правильные значения точек уі (без шума)\n",
    "y = f(xdata, *beta)\n",
    "# зашумляем эти данные\n",
    "ydata = y + 0.05 * np.random.randn(len(xdata))\n",
    "beta_opt, beta_cov = sp.optimize.curve_fit(f, xdata, ydata)\n",
    "print(beta_opt)\n",
    "#Вычислим линейное отклонение\n",
    "lin_dev = sum(beta_cov[0])\n",
    "print(lin_dev)\n",
    "\n",
    "#Вычислим квадратичное отклонение\n",
    "residuals = ydata - f(xdata, *beta_opt)\n",
    "fres = sum(residuals**2)\n",
    "print(fres)\n",
    "\n",
    "fig, ax = plt.subplots()\n",
    "ax.scatter(xdata, ydata)\n",
    "ax.plot(xdata, y, 'r', lw=2)\n",
    "ax.plot(xdata, f(xdata, *beta_opt), 'b', lw=2)\n",
    "ax.set_xlim(0, 5)\n",
    "ax.set_xlabel(r\"$x$\", fontsize=18)\n",
    "ax.set_ylabel(r\"$f(x, \\beta)$\", fontsize=18)\n",
    "plt.show()\n",
    "\n",
    "\n",
    "beta = (1, 4)\n",
    "def f(x, b0, b1):\n",
    "    return b0 * x ** b1\n",
    "# зададим массив точек хi\n",
    "xdata = np.linspace(1, 5, 25)\n",
    "# создаем теоретически правильные значения точек уі (без шума)\n",
    "y = f(xdata, *beta)\n",
    "# зашумляем эти данные\n",
    "ydata = y + 0.05 * np.random.randn(len(xdata))\n",
    "beta_opt, beta_cov = sp.optimize.curve_fit(f, xdata, ydata)\n",
    "print(beta_opt)\n",
    "#Вычислим линейное отклонение\n",
    "lin_dev = sum(beta_cov[0])\n",
    "print(lin_dev)\n",
    "\n",
    "#Вычислим квадратичное отклонение\n",
    "residuals = ydata - f(xdata, *beta_opt)\n",
    "fres = sum(residuals**2)\n",
    "print(fres)\n",
    "\n",
    "fig, ax = plt.subplots()\n",
    "ax.scatter(xdata, ydata)\n",
    "ax.plot(xdata, y, 'r', lw=2)\n",
    "ax.plot(xdata, f(xdata, *beta_opt), 'b', lw=2)\n",
    "ax.set_xlim(0, 5)\n",
    "ax.set_xlabel(r\"$x$\", fontsize=18)\n",
    "ax.set_ylabel(r\"$f(x, \\beta)$\", fontsize=18)\n",
    "plt.show()"
   ]
  },
  {
   "cell_type": "markdown",
   "id": "5cf3ae80",
   "metadata": {},
   "source": [
    "## 1.2. Теоретический материал – Задачи регрессии\n",
    "Линейная регрессия - это широко используемый метод статистического анализа, который использует регрессионный анализ в математической статистике для определения количественной взаимосвязи между двумя или более переменными. Если регрессионный анализ включает две или более независимых переменных, а связь между зависимой и независимой переменными является линейной, тогда имееи дело с множественной линейной регрессией.\n",
    "\n",
    "В этом разделе мы увидим, как библиотеку Scikit-Learn в Python для машинного обучения можно использовать для реализации функций регрессии. Мы начнем с простой линейной регрессии с участием двух переменных, а затем перейдем к линейной регрессии с участием нескольких переменных.\n"
   ]
  },
  {
   "cell_type": "markdown",
   "id": "e61a5e7e",
   "metadata": {},
   "source": [
    "### 1.2.1 Пример\n",
    "Построим простую линейную регрессию в Python с использованием библиотеки scikit-learn"
   ]
  },
  {
   "cell_type": "code",
   "execution_count": 9,
   "id": "7222bba1",
   "metadata": {},
   "outputs": [
    {
     "name": "stdout",
     "output_type": "stream",
     "text": [
      "(20, 2)\n"
     ]
    },
    {
     "data": {
      "image/png": "[encoded data removed]",
      "text/plain": [
       "<Figure size 432x288 with 1 Axes>"
      ]
     },
     "metadata": {
      "needs_background": "light"
     },
     "output_type": "display_data"
    },
    {
     "data": {
      "text/html": [
       "<div>\n",
       "<style scoped>\n",
       "    .dataframe tbody tr th:only-of-type {\n",
       "        vertical-align: middle;\n",
       "    }\n",
       "\n",
       "    .dataframe tbody tr th {\n",
       "        vertical-align: top;\n",
       "    }\n",
       "\n",
       "    .dataframe thead th {\n",
       "        text-align: right;\n",
       "    }\n",
       "</style>\n",
       "<table border=\"1\" class=\"dataframe\">\n",
       "  <thead>\n",
       "    <tr style=\"text-align: right;\">\n",
       "      <th></th>\n",
       "      <th>Учебное время</th>\n",
       "      <th>Оценка</th>\n",
       "    </tr>\n",
       "  </thead>\n",
       "  <tbody>\n",
       "    <tr>\n",
       "      <th>0</th>\n",
       "      <td>0.50</td>\n",
       "      <td>10</td>\n",
       "    </tr>\n",
       "    <tr>\n",
       "      <th>1</th>\n",
       "      <td>0.75</td>\n",
       "      <td>22</td>\n",
       "    </tr>\n",
       "    <tr>\n",
       "      <th>2</th>\n",
       "      <td>1.00</td>\n",
       "      <td>13</td>\n",
       "    </tr>\n",
       "    <tr>\n",
       "      <th>3</th>\n",
       "      <td>1.25</td>\n",
       "      <td>43</td>\n",
       "    </tr>\n",
       "    <tr>\n",
       "      <th>4</th>\n",
       "      <td>1.50</td>\n",
       "      <td>20</td>\n",
       "    </tr>\n",
       "  </tbody>\n",
       "</table>\n",
       "</div>"
      ],
      "text/plain": [
       "   Учебное время  Оценка\n",
       "0           0.50      10\n",
       "1           0.75      22\n",
       "2           1.00      13\n",
       "3           1.25      43\n",
       "4           1.50      20"
      ]
     },
     "execution_count": 9,
     "metadata": {},
     "output_type": "execute_result"
    }
   ],
   "source": [
    "#Импортируем необходимые библиотеки\n",
    "#используем pandas и питру для обработки данных,\n",
    "#matplotlib для визуализации и sklearn для обучения наборов данных и импорта моделей.\n",
    "import pandas as pd\n",
    "import numpy as np\n",
    "import matplotlib.pyplot as plt\n",
    "from pandas import DataFrame,Series\n",
    "from sklearn.model_selection import train_test_split\n",
    "from sklearn.linear_model import LinearRegression\n",
    "\n",
    "#создадим набор данных для описания взаимосвязи между временем обучения студентов и успеваемостью\n",
    "my_dict = {'Учебное время': [0.50,0.75,1.00,1.25,1.50,1.75,1.75,2.00,2.25,2.50,2.75,3.00,3.25,3.50,4.00,4.25,4.50,4.75,\n",
    "                            5.00,5.50],\n",
    "            \"Оценка\": [10,22,13,43,20,22,33,50,62,48,55,75,62,73,81,76,64,82,90,93]}\n",
    "dataset = pd.DataFrame(my_dict)\n",
    "\n",
    "#Исследуем набор данных\n",
    "print(dataset.shape)\n",
    "dataset.describe()\n",
    "\n",
    "# Нарисуем точечную диаграмму\n",
    "plt.scatter (dataset['Учебное время'], dataset[\"Оценка\"], color = 'b', label = \"данные экзамена\")\n",
    "plt.xlabel(\"Часы\")\n",
    "plt.ylabel(\"Оценка\")\n",
    "plt.show()\n",
    "\n",
    "dataset.head()"
   ]
  },
  {
   "cell_type": "code",
   "execution_count": 10,
   "id": "67d95822",
   "metadata": {},
   "outputs": [
    {
     "data": {
      "text/html": [
       "<div>\n",
       "<style scoped>\n",
       "    .dataframe tbody tr th:only-of-type {\n",
       "        vertical-align: middle;\n",
       "    }\n",
       "\n",
       "    .dataframe tbody tr th {\n",
       "        vertical-align: top;\n",
       "    }\n",
       "\n",
       "    .dataframe thead th {\n",
       "        text-align: right;\n",
       "    }\n",
       "</style>\n",
       "<table border=\"1\" class=\"dataframe\">\n",
       "  <thead>\n",
       "    <tr style=\"text-align: right;\">\n",
       "      <th></th>\n",
       "      <th>Учебное время</th>\n",
       "      <th>Оценка</th>\n",
       "    </tr>\n",
       "  </thead>\n",
       "  <tbody>\n",
       "    <tr>\n",
       "      <th>count</th>\n",
       "      <td>20.000000</td>\n",
       "      <td>20.000000</td>\n",
       "    </tr>\n",
       "    <tr>\n",
       "      <th>mean</th>\n",
       "      <td>2.787500</td>\n",
       "      <td>53.700000</td>\n",
       "    </tr>\n",
       "    <tr>\n",
       "      <th>std</th>\n",
       "      <td>1.507165</td>\n",
       "      <td>26.435821</td>\n",
       "    </tr>\n",
       "    <tr>\n",
       "      <th>min</th>\n",
       "      <td>0.500000</td>\n",
       "      <td>10.000000</td>\n",
       "    </tr>\n",
       "    <tr>\n",
       "      <th>25%</th>\n",
       "      <td>1.687500</td>\n",
       "      <td>30.250000</td>\n",
       "    </tr>\n",
       "    <tr>\n",
       "      <th>50%</th>\n",
       "      <td>2.625000</td>\n",
       "      <td>58.500000</td>\n",
       "    </tr>\n",
       "    <tr>\n",
       "      <th>75%</th>\n",
       "      <td>4.062500</td>\n",
       "      <td>75.250000</td>\n",
       "    </tr>\n",
       "    <tr>\n",
       "      <th>max</th>\n",
       "      <td>5.500000</td>\n",
       "      <td>93.000000</td>\n",
       "    </tr>\n",
       "  </tbody>\n",
       "</table>\n",
       "</div>"
      ],
      "text/plain": [
       "       Учебное время     Оценка\n",
       "count      20.000000  20.000000\n",
       "mean        2.787500  53.700000\n",
       "std         1.507165  26.435821\n",
       "min         0.500000  10.000000\n",
       "25%         1.687500  30.250000\n",
       "50%         2.625000  58.500000\n",
       "75%         4.062500  75.250000\n",
       "max         5.500000  93.000000"
      ]
     },
     "execution_count": 10,
     "metadata": {},
     "output_type": "execute_result"
    }
   ],
   "source": [
    "dataset.describe()"
   ]
  },
  {
   "cell_type": "markdown",
   "id": "a440b076",
   "metadata": {},
   "source": [
    "После того как мы получили представление о данных, разделим информацию на «атрибуты» и «метки». Атрибуты – это независимые переменные, а метки – это зависимые переменные, значения которых должны быть предсказаны. В нашем наборе всего два столбца и необходимо предсказать оценку в зависимости от количества часов. Чтобы извлечь атрибуты и метки, выполните следующий скрипт:"
   ]
  },
  {
   "cell_type": "code",
   "execution_count": 11,
   "id": "d8d202f9",
   "metadata": {},
   "outputs": [
    {
     "name": "stdout",
     "output_type": "stream",
     "text": [
      "[[0.5 ]\n",
      " [0.75]\n",
      " [1.  ]\n",
      " [1.25]\n",
      " [1.5 ]\n",
      " [1.75]\n",
      " [1.75]\n",
      " [2.  ]\n",
      " [2.25]\n",
      " [2.5 ]\n",
      " [2.75]\n",
      " [3.  ]\n",
      " [3.25]\n",
      " [3.5 ]\n",
      " [4.  ]\n",
      " [4.25]\n",
      " [4.5 ]\n",
      " [4.75]\n",
      " [5.  ]\n",
      " [5.5 ]]\n",
      "[10 22 13 43 20 22 33 50 62 48 55 75 62 73 81 76 64 82 90 93]\n",
      "5.475400029908791\n",
      "[17.02706744]\n"
     ]
    }
   ],
   "source": [
    "X = dataset.iloc[:, :-1].values\n",
    "y = dataset.iloc[:, 1].values\n",
    "print(X)\n",
    "print(y)\n",
    "\n",
    "# Теперь, когда у нас есть атрибуты и метки, необходимо разделить их на а обучающий и тестовый наборы.\n",
    "# Приведенный фрагмент разделяет 80% данных на обучающий набор, а 20% данных - на набор тестов\n",
    "X_train, X_test, y_train, y_test = train_test_split(X, y, test_size = 0.2, random_state = 0)\n",
    "\n",
    "# далее можно обучить алгоритм линейной регрессии\n",
    "# необходимо импортировать класс LinearRegression, создать его экземпляр и вызвать метод fit()\n",
    "regressor = LinearRegression()\n",
    "regressor.fit(X_train, y_train)\n",
    "\n",
    "#приведем получившиеся коэффициенты для линии регрессии\n",
    "print(regressor.intercept_)\n",
    "print(regressor.coef_)"
   ]
  },
  {
   "cell_type": "markdown",
   "id": "ed52ed1e",
   "metadata": {},
   "source": [
    "Получившийся результат можно интерпретировать следующим образом: с каждым затраченным часом на обучение результат экзамена повышается приблизительно на 17 баллов. Далее можно построить прогнозы. Для этого мы будем использовать наши тестовые данные и посмотрим, насколько точно наш алгоритм предсказывает процентную оценку. Чтобы сделать прогноз на тестовых данных необходимо выполнить следующий код:"
   ]
  },
  {
   "cell_type": "code",
   "execution_count": 12,
   "id": "05c58594",
   "metadata": {},
   "outputs": [
    {
     "data": {
      "image/png": "[encoded data removed]",
      "text/plain": [
       "<Figure size 432x288 with 1 Axes>"
      ]
     },
     "metadata": {
      "needs_background": "light"
     },
     "output_type": "display_data"
    },
    {
     "data": {
      "image/png": "[encoded data removed]",
      "text/plain": [
       "<Figure size 432x288 with 1 Axes>"
      ]
     },
     "metadata": {
      "needs_background": "light"
     },
     "output_type": "display_data"
    }
   ],
   "source": [
    "y_pred = regressor.predict(X_test)\n",
    "# сравним фактические значения с прогнозируемыми\n",
    "df = pd.DataFrame({'Actual': y_test, 'Predicted': y_pred})\n",
    "df\n",
    "\n",
    "# визуализируем результат сравнения в виде гистограммы\n",
    "df.plot(kind='bar')\n",
    "plt.grid(which='major', linestyle='-', linewidth='0.5', color='green')\n",
    "plt.grid(which='minor', linestyle=':', linewidth='0.5', color='black')\n",
    "plt.show()\n",
    "\n",
    "#построим линию регрессии с тестовыми данными\n",
    "plt.scatter(X_test, y_test, color='gray')\n",
    "plt.plot(X_test, y_pred, color='red', linewidth=2)\n",
    "plt.show()"
   ]
  },
  {
   "cell_type": "code",
   "execution_count": 13,
   "id": "eae7a05b",
   "metadata": {},
   "outputs": [
    {
     "data": {
      "text/html": [
       "<div>\n",
       "<style scoped>\n",
       "    .dataframe tbody tr th:only-of-type {\n",
       "        vertical-align: middle;\n",
       "    }\n",
       "\n",
       "    .dataframe tbody tr th {\n",
       "        vertical-align: top;\n",
       "    }\n",
       "\n",
       "    .dataframe thead th {\n",
       "        text-align: right;\n",
       "    }\n",
       "</style>\n",
       "<table border=\"1\" class=\"dataframe\">\n",
       "  <thead>\n",
       "    <tr style=\"text-align: right;\">\n",
       "      <th></th>\n",
       "      <th>Actual</th>\n",
       "      <th>Predicted</th>\n",
       "    </tr>\n",
       "  </thead>\n",
       "  <tbody>\n",
       "    <tr>\n",
       "      <th>0</th>\n",
       "      <td>90</td>\n",
       "      <td>90.610737</td>\n",
       "    </tr>\n",
       "    <tr>\n",
       "      <th>1</th>\n",
       "      <td>22</td>\n",
       "      <td>18.245701</td>\n",
       "    </tr>\n",
       "    <tr>\n",
       "      <th>2</th>\n",
       "      <td>93</td>\n",
       "      <td>99.124271</td>\n",
       "    </tr>\n",
       "    <tr>\n",
       "      <th>3</th>\n",
       "      <td>62</td>\n",
       "      <td>43.786302</td>\n",
       "    </tr>\n",
       "  </tbody>\n",
       "</table>\n",
       "</div>"
      ],
      "text/plain": [
       "   Actual  Predicted\n",
       "0      90  90.610737\n",
       "1      22  18.245701\n",
       "2      93  99.124271\n",
       "3      62  43.786302"
      ]
     },
     "execution_count": 13,
     "metadata": {},
     "output_type": "execute_result"
    }
   ],
   "source": [
    "df"
   ]
  },
  {
   "cell_type": "markdown",
   "id": "69233b3d",
   "metadata": {},
   "source": [
    "### Задание:\n",
    "Постройте модель линейной регрессии для произвольных данных из двух столбцов. Для примера можно взять точечную зависимость заработной платы от опыта работы:\n",
    "(https://raw.githubusercontent.com/AnnaShestova/salary-years-simple-linear-regression/master/Salary_Data.csv). \n",
    "Найдите коэффициенты линии регрессии. Постройте прогноз.\n",
    "\n",
    "Решение:"
   ]
  },
  {
   "cell_type": "code",
   "execution_count": 14,
   "id": "97021a43",
   "metadata": {},
   "outputs": [
    {
     "name": "stdout",
     "output_type": "stream",
     "text": [
      "(30, 2)\n"
     ]
    },
    {
     "data": {
      "image/png": "[encoded data removed]",
      "text/plain": [
       "<Figure size 432x288 with 1 Axes>"
      ]
     },
     "metadata": {
      "needs_background": "light"
     },
     "output_type": "display_data"
    },
    {
     "data": {
      "text/html": [
       "<div>\n",
       "<style scoped>\n",
       "    .dataframe tbody tr th:only-of-type {\n",
       "        vertical-align: middle;\n",
       "    }\n",
       "\n",
       "    .dataframe tbody tr th {\n",
       "        vertical-align: top;\n",
       "    }\n",
       "\n",
       "    .dataframe thead th {\n",
       "        text-align: right;\n",
       "    }\n",
       "</style>\n",
       "<table border=\"1\" class=\"dataframe\">\n",
       "  <thead>\n",
       "    <tr style=\"text-align: right;\">\n",
       "      <th></th>\n",
       "      <th>Опыт работы</th>\n",
       "      <th>Заработная плата</th>\n",
       "    </tr>\n",
       "  </thead>\n",
       "  <tbody>\n",
       "    <tr>\n",
       "      <th>0</th>\n",
       "      <td>1.1</td>\n",
       "      <td>39343.0</td>\n",
       "    </tr>\n",
       "    <tr>\n",
       "      <th>1</th>\n",
       "      <td>1.3</td>\n",
       "      <td>46205.0</td>\n",
       "    </tr>\n",
       "    <tr>\n",
       "      <th>2</th>\n",
       "      <td>1.5</td>\n",
       "      <td>37731.0</td>\n",
       "    </tr>\n",
       "    <tr>\n",
       "      <th>3</th>\n",
       "      <td>2.0</td>\n",
       "      <td>43525.0</td>\n",
       "    </tr>\n",
       "    <tr>\n",
       "      <th>4</th>\n",
       "      <td>2.2</td>\n",
       "      <td>39891.0</td>\n",
       "    </tr>\n",
       "  </tbody>\n",
       "</table>\n",
       "</div>"
      ],
      "text/plain": [
       "   Опыт работы  Заработная плата\n",
       "0          1.1           39343.0\n",
       "1          1.3           46205.0\n",
       "2          1.5           37731.0\n",
       "3          2.0           43525.0\n",
       "4          2.2           39891.0"
      ]
     },
     "execution_count": 14,
     "metadata": {},
     "output_type": "execute_result"
    }
   ],
   "source": [
    "import pandas as pd\n",
    "import numpy as np\n",
    "import matplotlib.pyplot as plt\n",
    "from pandas import DataFrame,Series\n",
    "from sklearn.model_selection import train_test_split\n",
    "from sklearn.linear_model import LinearRegression\n",
    "\n",
    "#создадим набор данных для описания взаимосвязи между временем обучения студентов и успеваемостью\n",
    "my_dict = {'Опыт работы': [1.1, 1.3, 1.5, 2.0, 2.2, 2.9, 3.0, 3.2, 3.2, 3.7, 3.9, 4.0, 4.0, 4.1, 4.5, 4.9,\n",
    "                           5.1, 5.3, 5.9, 6.0, 6.8, 7.1, 7.9, 8.2, 8.7, 9.0, 9.5, 9.6, 10.3, 10.5],\n",
    "           \n",
    "            \"Заработная плата\": [39343.00, 46205.00, 37731.00, 43525.00, 39891.00, 56642.00, 60150.00, \n",
    "                                 54445.00, 64445.00, 57189.00, 63218.00, 55794.00, 56957.00, 57081.00, \n",
    "                                 61111.00, 67938.00, 66029.00, 83088.00, 81363.00, 93940.00, 91738.00, \n",
    "                                 98273.00, 101302.00, 113812.00, 109431.00, 105582.00, 116969.00, 112635.00,\n",
    "                                 122391.00, 121872.00]}\n",
    "dataset = pd.DataFrame(my_dict)\n",
    "\n",
    "#Исследуем набор данных\n",
    "print(dataset.shape)\n",
    "dataset.describe()\n",
    "\n",
    "# Нарисуем точечную диаграмму\n",
    "plt.scatter (dataset['Опыт работы'], dataset[\"Заработная плата\"], color = 'b', label = \"данные экзамена\")\n",
    "plt.plot(dataset['Опыт работы'], dataset[\"Заработная плата\"], color='red', linewidth=2)\n",
    "plt.xlabel(\"Опыт работы\")\n",
    "plt.ylabel(\"Заработная плата\")\n",
    "plt.show()\n",
    "\n",
    "dataset.head()"
   ]
  },
  {
   "cell_type": "code",
   "execution_count": 15,
   "id": "0b3fa4b7",
   "metadata": {},
   "outputs": [
    {
     "name": "stdout",
     "output_type": "stream",
     "text": [
      "[[ 1.1]\n",
      " [ 1.3]\n",
      " [ 1.5]\n",
      " [ 2. ]\n",
      " [ 2.2]\n",
      " [ 2.9]\n",
      " [ 3. ]\n",
      " [ 3.2]\n",
      " [ 3.2]\n",
      " [ 3.7]\n",
      " [ 3.9]\n",
      " [ 4. ]\n",
      " [ 4. ]\n",
      " [ 4.1]\n",
      " [ 4.5]\n",
      " [ 4.9]\n",
      " [ 5.1]\n",
      " [ 5.3]\n",
      " [ 5.9]\n",
      " [ 6. ]\n",
      " [ 6.8]\n",
      " [ 7.1]\n",
      " [ 7.9]\n",
      " [ 8.2]\n",
      " [ 8.7]\n",
      " [ 9. ]\n",
      " [ 9.5]\n",
      " [ 9.6]\n",
      " [10.3]\n",
      " [10.5]]\n",
      "[ 39343.  46205.  37731.  43525.  39891.  56642.  60150.  54445.  64445.\n",
      "  57189.  63218.  55794.  56957.  57081.  61111.  67938.  66029.  83088.\n",
      "  81363.  93940.  91738.  98273. 101302. 113812. 109431. 105582. 116969.\n",
      " 112635. 122391. 121872.]\n",
      "26780.099150628186\n",
      "[9312.57512673]\n"
     ]
    }
   ],
   "source": [
    "X = dataset.iloc[:, :-1].values\n",
    "y = dataset.iloc[:, 1].values\n",
    "print(X)\n",
    "print(y)\n",
    "\n",
    "# Теперь, когда у нас есть атрибуты и метки, необходимо разделить их на а обучающий и тестовый наборы.\n",
    "# Приведенный фрагмент разделяет 80% данных на обучающий набор, а 20% данных - на набор тестов\n",
    "X_train, X_test, y_train, y_test = train_test_split(X, y, test_size = 0.2, random_state = 0)\n",
    "\n",
    "# далее можно обучить алгоритм линейной регрессии\n",
    "# необходимо импортировать класс LinearRegression, создать его экземпляр и вызвать метод fit()\n",
    "regressor = LinearRegression()\n",
    "regressor.fit(X_train, y_train)\n",
    "\n",
    "#приведем получившиеся коэффициенты для линии регрессии\n",
    "print(regressor.intercept_)\n",
    "print(regressor.coef_)"
   ]
  },
  {
   "cell_type": "code",
   "execution_count": 16,
   "id": "db108906",
   "metadata": {},
   "outputs": [
    {
     "data": {
      "image/png": "[encoded data removed]",
      "text/plain": [
       "<Figure size 432x288 with 1 Axes>"
      ]
     },
     "metadata": {
      "needs_background": "light"
     },
     "output_type": "display_data"
    },
    {
     "data": {
      "image/png": "[encoded data removed]",
      "text/plain": [
       "<Figure size 432x288 with 1 Axes>"
      ]
     },
     "metadata": {
      "needs_background": "light"
     },
     "output_type": "display_data"
    }
   ],
   "source": [
    "y_pred = regressor.predict(X_test)\n",
    "# сравним фактические значения с прогнозируемыми\n",
    "df = pd.DataFrame({'Actual': y_test, 'Predicted': y_pred})\n",
    "df\n",
    "\n",
    "# визуализируем результат сравнения в виде гистограммы\n",
    "df.plot(kind='bar')\n",
    "plt.grid(which='major', linestyle='-', linewidth='0.5', color='green')\n",
    "plt.grid(which='minor', linestyle=':', linewidth='0.5', color='black')\n",
    "plt.show()\n",
    "\n",
    "#построим линию регрессии с тестовыми данными\n",
    "plt.scatter(X_test, y_test, color='gray')\n",
    "plt.plot(X_test, y_pred, color='red', linewidth=2)\n",
    "plt.show()"
   ]
  },
  {
   "cell_type": "markdown",
   "id": "cd1c7897",
   "metadata": {},
   "source": [
    "## 1.3. Теоретический материал – Множественная регрессия\n",
    "В предыдущем примере мы проиллюстрировали линейную регрессию с двумя переменными. Однако, почти все реальные задачи имеют больше параметров. Линейная регрессия с участием нескольких переменных называется «множественной линейной регрессией» или многомерной линейной регрессией. Шаги для выполнения множественной линейной регрессии аналогичны шагам для простой . Разница заключается в оценке. Вы можете использовать множественную регрессию, чтобы узнать, какой фактор оказывает наибольшее влияние на прогнозируемый результат или как различные переменные связаны друг с другом."
   ]
  },
  {
   "cell_type": "markdown",
   "id": "58af73b9",
   "metadata": {},
   "source": [
    "### 1.3.1 Пример\n",
    "Для решения задачи множественной регрессии можно задействовать уже известный метод numpy.linalg.lstsq."
   ]
  },
  {
   "cell_type": "code",
   "execution_count": 17,
   "id": "4febf3e4",
   "metadata": {},
   "outputs": [
    {
     "name": "stdout",
     "output_type": "stream",
     "text": [
      "[ 0.1338682   0.26840334 -0.02874936  1.5122571 ]\n"
     ]
    }
   ],
   "source": [
    "import numpy as np\n",
    "y = [1,2,3,4,3,4,5,3,5,5,4,5,4,5,4,5,6,0,6,3,1,3,1]\n",
    "X = [[0,2,4,1,5,4,5,9,9,9,3,7,8,8,6,6,5,5,5,6,6,5,5],\n",
    "     [4,1,2,3,4,5,6,7,5,8,7,8,7,8,7,8,6,8,9,2,1,5,6],\n",
    "     [4,1,2,5,6,7,8,9,7,8,7,8,7,4,3,1,2,3,4,1,3,9,7]]\n",
    "X = np.transpose(X) # transpose so input vectors\n",
    "X = np.c_[X, np.ones(X.shape[0])] # add bias term\n",
    "linreg = np.linalg.lstsq(X, y, rcond = None)[0]\n",
    "print(linreg)"
   ]
  },
  {
   "cell_type": "markdown",
   "id": "45be4505",
   "metadata": {},
   "source": [
    "Кроме этого можно использовать возможности библиотеки sсikit-learn. Рассмотрим пример.\n",
    "\n",
    "### 1.3.2 Пример\n",
    "Для данных из предыдущей задачи построить модель множественной линейной регрессии с использованием средств библиотеки sсikit-learn."
   ]
  },
  {
   "cell_type": "code",
   "execution_count": 18,
   "id": "f0ab5f67",
   "metadata": {},
   "outputs": [
    {
     "name": "stdout",
     "output_type": "stream",
     "text": [
      "(23, 4)\n",
      "Mean Squared Error: 1.3272699242343065\n"
     ]
    }
   ],
   "source": [
    "# Импортируем необходимые библиотеки\n",
    "import pandas as pd\n",
    "import numpy as np\n",
    "import matplotlib.pyplot as plt\n",
    "import seaborn as seabornInstance\n",
    "from sklearn.model_selection import train_test_split\n",
    "from sklearn.linear_model import LinearRegression\n",
    "from sklearn import metrics\n",
    "\n",
    "y = [1,2,3,4,3,4,5,3,5,5,4,5,4,5,4,5,6,0,6,3,1,3,1]\n",
    "X = [[0,2,4,1,5,4,5,9,9,9,3,7,8,8,6,6,5,5,5,6,6,5,5],\n",
    "     [4,1,2,3,4,5,6,7,5,8,7,8,7,8,7,8,6,8,9,2,1,5,6],\n",
    "     [4,1,2,5,6,7,8,9,7,8,7,8,7,4,3,1,2,3,4,1,3,9,7]]\n",
    "\n",
    "\n",
    "# формируем DataFrame из двух списков\n",
    "new_y = np.array(y)\n",
    "new_y = new_y.transpose()\n",
    "df1 = pd.DataFrame(new_y)\n",
    "new_X = np.array(X)\n",
    "new_X = new_X.transpose()\n",
    "df2 = pd. DataFrame(new_X)\n",
    "df1 = df1.rename(columns = {0: 'y'}, inplace = False)\n",
    "df2 = df2.rename(columns = {0: 'x1', 1: 'x2', 2: 'x3'}, inplace = False)\n",
    "frames = [df1, df2]\n",
    "dataset = pd.concat([df1, df2], axis=1, join=\"inner\")\n",
    "dataset.head()\n",
    "\n",
    "# изучим данные\n",
    "print(dataset.shape)\n",
    "dataset.describe()\n",
    "\n",
    "# разделим данные на метки и атрибуты\n",
    "X = dataset[['x1', 'x2', 'x3']]\n",
    "y = dataset['y']\n",
    "\n",
    "# разделим данные на обучающую и тестовую выборки\n",
    "X_train, X_test, y_train, y_test = train_test_split(X, y, test_size=0.2, random_state = 0)\n",
    "\n",
    "# для обучения алгоритма мы выполняем тот же код, что и раньше, используя метод fit() класса Linear Regression\n",
    "regressor = LinearRegression()\n",
    "regressor.fit(X_train, y_train)\n",
    "\n",
    "# выведем коэффициенты модели\n",
    "coeff_df = pd.DataFrame(regressor.coef_, X.columns, columns=['Coefficient'])\n",
    "coeff_df\n",
    "\n",
    "# Чтобы сделать прогнозы на тестовых данных, выполните следующий код\n",
    "y_pred = regressor.predict(X_test)\n",
    "df = pd.DataFrame({'Actual': y_test, 'Predicted': y_pred})\n",
    "df\n",
    "\n",
    "# Последний шаг - оценить производительность алгоритма. Мы сделаем это, найдя значения для MSE\n",
    "print('Mean Squared Error:', metrics.mean_squared_error(y_test, y_pred))"
   ]
  },
  {
   "cell_type": "code",
   "execution_count": 19,
   "id": "04aedc19",
   "metadata": {},
   "outputs": [
    {
     "data": {
      "text/html": [
       "<div>\n",
       "<style scoped>\n",
       "    .dataframe tbody tr th:only-of-type {\n",
       "        vertical-align: middle;\n",
       "    }\n",
       "\n",
       "    .dataframe tbody tr th {\n",
       "        vertical-align: top;\n",
       "    }\n",
       "\n",
       "    .dataframe thead th {\n",
       "        text-align: right;\n",
       "    }\n",
       "</style>\n",
       "<table border=\"1\" class=\"dataframe\">\n",
       "  <thead>\n",
       "    <tr style=\"text-align: right;\">\n",
       "      <th></th>\n",
       "      <th>y</th>\n",
       "      <th>x1</th>\n",
       "      <th>x2</th>\n",
       "      <th>x3</th>\n",
       "    </tr>\n",
       "  </thead>\n",
       "  <tbody>\n",
       "    <tr>\n",
       "      <th>0</th>\n",
       "      <td>1</td>\n",
       "      <td>0</td>\n",
       "      <td>4</td>\n",
       "      <td>4</td>\n",
       "    </tr>\n",
       "    <tr>\n",
       "      <th>1</th>\n",
       "      <td>2</td>\n",
       "      <td>2</td>\n",
       "      <td>1</td>\n",
       "      <td>1</td>\n",
       "    </tr>\n",
       "    <tr>\n",
       "      <th>2</th>\n",
       "      <td>3</td>\n",
       "      <td>4</td>\n",
       "      <td>2</td>\n",
       "      <td>2</td>\n",
       "    </tr>\n",
       "    <tr>\n",
       "      <th>3</th>\n",
       "      <td>4</td>\n",
       "      <td>1</td>\n",
       "      <td>3</td>\n",
       "      <td>5</td>\n",
       "    </tr>\n",
       "    <tr>\n",
       "      <th>4</th>\n",
       "      <td>3</td>\n",
       "      <td>5</td>\n",
       "      <td>4</td>\n",
       "      <td>6</td>\n",
       "    </tr>\n",
       "  </tbody>\n",
       "</table>\n",
       "</div>"
      ],
      "text/plain": [
       "   y  x1  x2  x3\n",
       "0  1   0   4   4\n",
       "1  2   2   1   1\n",
       "2  3   4   2   2\n",
       "3  4   1   3   5\n",
       "4  3   5   4   6"
      ]
     },
     "execution_count": 19,
     "metadata": {},
     "output_type": "execute_result"
    }
   ],
   "source": [
    "dataset.head()"
   ]
  },
  {
   "cell_type": "code",
   "execution_count": 20,
   "id": "c21946ec",
   "metadata": {},
   "outputs": [
    {
     "data": {
      "text/html": [
       "<div>\n",
       "<style scoped>\n",
       "    .dataframe tbody tr th:only-of-type {\n",
       "        vertical-align: middle;\n",
       "    }\n",
       "\n",
       "    .dataframe tbody tr th {\n",
       "        vertical-align: top;\n",
       "    }\n",
       "\n",
       "    .dataframe thead th {\n",
       "        text-align: right;\n",
       "    }\n",
       "</style>\n",
       "<table border=\"1\" class=\"dataframe\">\n",
       "  <thead>\n",
       "    <tr style=\"text-align: right;\">\n",
       "      <th></th>\n",
       "      <th>y</th>\n",
       "      <th>x1</th>\n",
       "      <th>x2</th>\n",
       "      <th>x3</th>\n",
       "    </tr>\n",
       "  </thead>\n",
       "  <tbody>\n",
       "    <tr>\n",
       "      <th>count</th>\n",
       "      <td>23.000000</td>\n",
       "      <td>23.000000</td>\n",
       "      <td>23.000000</td>\n",
       "      <td>23.000000</td>\n",
       "    </tr>\n",
       "    <tr>\n",
       "      <th>mean</th>\n",
       "      <td>3.565217</td>\n",
       "      <td>5.347826</td>\n",
       "      <td>5.521739</td>\n",
       "      <td>5.043478</td>\n",
       "    </tr>\n",
       "    <tr>\n",
       "      <th>std</th>\n",
       "      <td>1.674029</td>\n",
       "      <td>2.404706</td>\n",
       "      <td>2.428422</td>\n",
       "      <td>2.704849</td>\n",
       "    </tr>\n",
       "    <tr>\n",
       "      <th>min</th>\n",
       "      <td>0.000000</td>\n",
       "      <td>0.000000</td>\n",
       "      <td>1.000000</td>\n",
       "      <td>1.000000</td>\n",
       "    </tr>\n",
       "    <tr>\n",
       "      <th>25%</th>\n",
       "      <td>3.000000</td>\n",
       "      <td>4.500000</td>\n",
       "      <td>4.000000</td>\n",
       "      <td>3.000000</td>\n",
       "    </tr>\n",
       "    <tr>\n",
       "      <th>50%</th>\n",
       "      <td>4.000000</td>\n",
       "      <td>5.000000</td>\n",
       "      <td>6.000000</td>\n",
       "      <td>5.000000</td>\n",
       "    </tr>\n",
       "    <tr>\n",
       "      <th>75%</th>\n",
       "      <td>5.000000</td>\n",
       "      <td>6.500000</td>\n",
       "      <td>7.500000</td>\n",
       "      <td>7.000000</td>\n",
       "    </tr>\n",
       "    <tr>\n",
       "      <th>max</th>\n",
       "      <td>6.000000</td>\n",
       "      <td>9.000000</td>\n",
       "      <td>9.000000</td>\n",
       "      <td>9.000000</td>\n",
       "    </tr>\n",
       "  </tbody>\n",
       "</table>\n",
       "</div>"
      ],
      "text/plain": [
       "               y         x1         x2         x3\n",
       "count  23.000000  23.000000  23.000000  23.000000\n",
       "mean    3.565217   5.347826   5.521739   5.043478\n",
       "std     1.674029   2.404706   2.428422   2.704849\n",
       "min     0.000000   0.000000   1.000000   1.000000\n",
       "25%     3.000000   4.500000   4.000000   3.000000\n",
       "50%     4.000000   5.000000   6.000000   5.000000\n",
       "75%     5.000000   6.500000   7.500000   7.000000\n",
       "max     6.000000   9.000000   9.000000   9.000000"
      ]
     },
     "execution_count": 20,
     "metadata": {},
     "output_type": "execute_result"
    }
   ],
   "source": [
    "dataset.describe()"
   ]
  },
  {
   "cell_type": "code",
   "execution_count": 21,
   "id": "06ddb22d",
   "metadata": {},
   "outputs": [
    {
     "data": {
      "text/html": [
       "<div>\n",
       "<style scoped>\n",
       "    .dataframe tbody tr th:only-of-type {\n",
       "        vertical-align: middle;\n",
       "    }\n",
       "\n",
       "    .dataframe tbody tr th {\n",
       "        vertical-align: top;\n",
       "    }\n",
       "\n",
       "    .dataframe thead th {\n",
       "        text-align: right;\n",
       "    }\n",
       "</style>\n",
       "<table border=\"1\" class=\"dataframe\">\n",
       "  <thead>\n",
       "    <tr style=\"text-align: right;\">\n",
       "      <th></th>\n",
       "      <th>Coefficient</th>\n",
       "    </tr>\n",
       "  </thead>\n",
       "  <tbody>\n",
       "    <tr>\n",
       "      <th>x1</th>\n",
       "      <td>0.223219</td>\n",
       "    </tr>\n",
       "    <tr>\n",
       "      <th>x2</th>\n",
       "      <td>0.136709</td>\n",
       "    </tr>\n",
       "    <tr>\n",
       "      <th>x3</th>\n",
       "      <td>-0.063757</td>\n",
       "    </tr>\n",
       "  </tbody>\n",
       "</table>\n",
       "</div>"
      ],
      "text/plain": [
       "    Coefficient\n",
       "x1     0.223219\n",
       "x2     0.136709\n",
       "x3    -0.063757"
      ]
     },
     "execution_count": 21,
     "metadata": {},
     "output_type": "execute_result"
    }
   ],
   "source": [
    "coeff_df"
   ]
  },
  {
   "cell_type": "code",
   "execution_count": 22,
   "id": "8ed616f1",
   "metadata": {},
   "outputs": [
    {
     "data": {
      "text/html": [
       "<div>\n",
       "<style scoped>\n",
       "    .dataframe tbody tr th:only-of-type {\n",
       "        vertical-align: middle;\n",
       "    }\n",
       "\n",
       "    .dataframe tbody tr th {\n",
       "        vertical-align: top;\n",
       "    }\n",
       "\n",
       "    .dataframe thead th {\n",
       "        text-align: right;\n",
       "    }\n",
       "</style>\n",
       "<table border=\"1\" class=\"dataframe\">\n",
       "  <thead>\n",
       "    <tr style=\"text-align: right;\">\n",
       "      <th></th>\n",
       "      <th>Actual</th>\n",
       "      <th>Predicted</th>\n",
       "    </tr>\n",
       "  </thead>\n",
       "  <tbody>\n",
       "    <tr>\n",
       "      <th>11</th>\n",
       "      <td>5</td>\n",
       "      <td>4.119478</td>\n",
       "    </tr>\n",
       "    <tr>\n",
       "      <th>10</th>\n",
       "      <td>4</td>\n",
       "      <td>3.153648</td>\n",
       "    </tr>\n",
       "    <tr>\n",
       "      <th>21</th>\n",
       "      <td>3</td>\n",
       "      <td>3.199155</td>\n",
       "    </tr>\n",
       "    <tr>\n",
       "      <th>14</th>\n",
       "      <td>4</td>\n",
       "      <td>4.078333</td>\n",
       "    </tr>\n",
       "    <tr>\n",
       "      <th>20</th>\n",
       "      <td>1</td>\n",
       "      <td>3.258079</td>\n",
       "    </tr>\n",
       "  </tbody>\n",
       "</table>\n",
       "</div>"
      ],
      "text/plain": [
       "    Actual  Predicted\n",
       "11       5   4.119478\n",
       "10       4   3.153648\n",
       "21       3   3.199155\n",
       "14       4   4.078333\n",
       "20       1   3.258079"
      ]
     },
     "execution_count": 22,
     "metadata": {},
     "output_type": "execute_result"
    }
   ],
   "source": [
    "df"
   ]
  },
  {
   "cell_type": "code",
   "execution_count": 23,
   "id": "3892069e",
   "metadata": {},
   "outputs": [
    {
     "name": "stdout",
     "output_type": "stream",
     "text": [
      "Mean Squared Error: 1.3272699242343065\n"
     ]
    }
   ],
   "source": [
    "print('Mean Squared Error:', metrics.mean_squared_error(y_test, y_pred))"
   ]
  },
  {
   "cell_type": "markdown",
   "id": "d1606c95",
   "metadata": {},
   "source": [
    "### Задание\n",
    "Постройте модель множественной линейной регрессии для произвольных данных из нескольких столбцов. Для примера можно взять потребления газа (в миллионах галлонов) в 48 штатах США или набор данных о качестве красного вина (1) и (2) соответственно. Найдите коэффициенты множественной регрессии. Постройте прогноз.\n",
    "\n",
    "1. https://raw.githubusercontent.com/likarajo/petrol_consumption/master/data/petrol_consumption.csv\n",
    "\n",
    "2. https://raw.githubusercontent.com/aniruddhachoudhury/Red-Wine-Quality/master/winequality-red.csv\n"
   ]
  },
  {
   "cell_type": "code",
   "execution_count": 24,
   "id": "b1de9cde",
   "metadata": {},
   "outputs": [
    {
     "name": "stdout",
     "output_type": "stream",
     "text": [
      "(1599, 2)\n",
      "Mean Squared Error: 1.50129172425466\n"
     ]
    }
   ],
   "source": [
    "import pandas as pd\n",
    "import numpy as np\n",
    "import matplotlib.pyplot as plt\n",
    "import seaborn as seabornInstance\n",
    "from sklearn.model_selection import train_test_split\n",
    "from sklearn.linear_model import LinearRegression\n",
    "from sklearn import metrics\n",
    "\n",
    "DataFrame = pd.read_csv('https://raw.githubusercontent.com/aniruddhachoudhury/Red-Wine-Quality/master/winequality-red.csv')\n",
    "\n",
    "y = DataFrame[\"residual sugar\"]\n",
    "X = DataFrame[\"quality\"]\n",
    "\n",
    "new_y = np.array(y)\n",
    "new_y = new_y.transpose()\n",
    "df1 = pd.DataFrame(new_y)\n",
    "new_X = np.array(X)\n",
    "new_X = new_X.transpose()\n",
    "df2 = pd. DataFrame(new_X)\n",
    "df1 = df1.rename(columns = {0: 'y'}, inplace = False)\n",
    "df2 = df2.rename(columns = {0: 'x1'}, inplace = False)\n",
    "frames = [df1, df2]\n",
    "dataset = pd.concat([df1, df2], axis=1, join=\"inner\")\n",
    "dataset.head()\n",
    "\n",
    "print(dataset.shape)\n",
    "dataset.describe()\n",
    "\n",
    "X = dataset[['x1']]\n",
    "y = dataset['y']\n",
    "\n",
    "X_train, X_test, y_train, y_test = train_test_split(X, y, test_size=0.2, random_state = 0)\n",
    "\n",
    "regressor = LinearRegression()\n",
    "regressor.fit(X_train, y_train)\n",
    "\n",
    "coeff_df = pd.DataFrame(regressor.coef_, X.columns, columns=['Coefficient'])\n",
    "\n",
    "y_pred = regressor.predict(X_test)\n",
    "df = pd.DataFrame({'Residual sugar': y_test, 'Quality': y_pred})\n",
    "print('Mean Squared Error:', metrics.mean_squared_error(y_test, y_pred))"
   ]
  },
  {
   "cell_type": "code",
   "execution_count": 25,
   "id": "45c43128",
   "metadata": {},
   "outputs": [
    {
     "data": {
      "text/html": [
       "<div>\n",
       "<style scoped>\n",
       "    .dataframe tbody tr th:only-of-type {\n",
       "        vertical-align: middle;\n",
       "    }\n",
       "\n",
       "    .dataframe tbody tr th {\n",
       "        vertical-align: top;\n",
       "    }\n",
       "\n",
       "    .dataframe thead th {\n",
       "        text-align: right;\n",
       "    }\n",
       "</style>\n",
       "<table border=\"1\" class=\"dataframe\">\n",
       "  <thead>\n",
       "    <tr style=\"text-align: right;\">\n",
       "      <th></th>\n",
       "      <th>Residual sugar</th>\n",
       "      <th>Quality</th>\n",
       "    </tr>\n",
       "  </thead>\n",
       "  <tbody>\n",
       "    <tr>\n",
       "      <th>1109</th>\n",
       "      <td>2.10</td>\n",
       "      <td>2.561559</td>\n",
       "    </tr>\n",
       "    <tr>\n",
       "      <th>1032</th>\n",
       "      <td>4.10</td>\n",
       "      <td>2.537812</td>\n",
       "    </tr>\n",
       "    <tr>\n",
       "      <th>1002</th>\n",
       "      <td>2.05</td>\n",
       "      <td>2.585306</td>\n",
       "    </tr>\n",
       "    <tr>\n",
       "      <th>487</th>\n",
       "      <td>1.80</td>\n",
       "      <td>2.561559</td>\n",
       "    </tr>\n",
       "    <tr>\n",
       "      <th>979</th>\n",
       "      <td>1.40</td>\n",
       "      <td>2.537812</td>\n",
       "    </tr>\n",
       "    <tr>\n",
       "      <th>...</th>\n",
       "      <td>...</td>\n",
       "      <td>...</td>\n",
       "    </tr>\n",
       "    <tr>\n",
       "      <th>794</th>\n",
       "      <td>2.30</td>\n",
       "      <td>2.561559</td>\n",
       "    </tr>\n",
       "    <tr>\n",
       "      <th>813</th>\n",
       "      <td>2.10</td>\n",
       "      <td>2.514065</td>\n",
       "    </tr>\n",
       "    <tr>\n",
       "      <th>1322</th>\n",
       "      <td>1.80</td>\n",
       "      <td>2.537812</td>\n",
       "    </tr>\n",
       "    <tr>\n",
       "      <th>704</th>\n",
       "      <td>1.60</td>\n",
       "      <td>2.514065</td>\n",
       "    </tr>\n",
       "    <tr>\n",
       "      <th>1023</th>\n",
       "      <td>2.30</td>\n",
       "      <td>2.561559</td>\n",
       "    </tr>\n",
       "  </tbody>\n",
       "</table>\n",
       "<p>320 rows × 2 columns</p>\n",
       "</div>"
      ],
      "text/plain": [
       "      Residual sugar   Quality\n",
       "1109            2.10  2.561559\n",
       "1032            4.10  2.537812\n",
       "1002            2.05  2.585306\n",
       "487             1.80  2.561559\n",
       "979             1.40  2.537812\n",
       "...              ...       ...\n",
       "794             2.30  2.561559\n",
       "813             2.10  2.514065\n",
       "1322            1.80  2.537812\n",
       "704             1.60  2.514065\n",
       "1023            2.30  2.561559\n",
       "\n",
       "[320 rows x 2 columns]"
      ]
     },
     "execution_count": 25,
     "metadata": {},
     "output_type": "execute_result"
    }
   ],
   "source": [
    "df"
   ]
  },
  {
   "cell_type": "code",
   "execution_count": 26,
   "id": "5a501bc0",
   "metadata": {},
   "outputs": [
    {
     "data": {
      "text/html": [
       "<div>\n",
       "<style scoped>\n",
       "    .dataframe tbody tr th:only-of-type {\n",
       "        vertical-align: middle;\n",
       "    }\n",
       "\n",
       "    .dataframe tbody tr th {\n",
       "        vertical-align: top;\n",
       "    }\n",
       "\n",
       "    .dataframe thead th {\n",
       "        text-align: right;\n",
       "    }\n",
       "</style>\n",
       "<table border=\"1\" class=\"dataframe\">\n",
       "  <thead>\n",
       "    <tr style=\"text-align: right;\">\n",
       "      <th></th>\n",
       "      <th>fixed acidity</th>\n",
       "      <th>volatile acidity</th>\n",
       "      <th>citric acid</th>\n",
       "      <th>residual sugar</th>\n",
       "      <th>chlorides</th>\n",
       "      <th>free sulfur dioxide</th>\n",
       "      <th>total sulfur dioxide</th>\n",
       "      <th>density</th>\n",
       "      <th>pH</th>\n",
       "      <th>sulphates</th>\n",
       "      <th>alcohol</th>\n",
       "      <th>quality</th>\n",
       "    </tr>\n",
       "  </thead>\n",
       "  <tbody>\n",
       "    <tr>\n",
       "      <th>count</th>\n",
       "      <td>1599.000000</td>\n",
       "      <td>1599.000000</td>\n",
       "      <td>1599.000000</td>\n",
       "      <td>1599.000000</td>\n",
       "      <td>1599.000000</td>\n",
       "      <td>1599.000000</td>\n",
       "      <td>1599.000000</td>\n",
       "      <td>1599.000000</td>\n",
       "      <td>1599.000000</td>\n",
       "      <td>1599.000000</td>\n",
       "      <td>1599.000000</td>\n",
       "      <td>1599.000000</td>\n",
       "    </tr>\n",
       "    <tr>\n",
       "      <th>mean</th>\n",
       "      <td>8.319637</td>\n",
       "      <td>0.527821</td>\n",
       "      <td>0.270976</td>\n",
       "      <td>2.538806</td>\n",
       "      <td>0.087467</td>\n",
       "      <td>15.874922</td>\n",
       "      <td>46.467792</td>\n",
       "      <td>0.996747</td>\n",
       "      <td>3.311113</td>\n",
       "      <td>0.658149</td>\n",
       "      <td>10.422983</td>\n",
       "      <td>5.636023</td>\n",
       "    </tr>\n",
       "    <tr>\n",
       "      <th>std</th>\n",
       "      <td>1.741096</td>\n",
       "      <td>0.179060</td>\n",
       "      <td>0.194801</td>\n",
       "      <td>1.409928</td>\n",
       "      <td>0.047065</td>\n",
       "      <td>10.460157</td>\n",
       "      <td>32.895324</td>\n",
       "      <td>0.001887</td>\n",
       "      <td>0.154386</td>\n",
       "      <td>0.169507</td>\n",
       "      <td>1.065668</td>\n",
       "      <td>0.807569</td>\n",
       "    </tr>\n",
       "    <tr>\n",
       "      <th>min</th>\n",
       "      <td>4.600000</td>\n",
       "      <td>0.120000</td>\n",
       "      <td>0.000000</td>\n",
       "      <td>0.900000</td>\n",
       "      <td>0.012000</td>\n",
       "      <td>1.000000</td>\n",
       "      <td>6.000000</td>\n",
       "      <td>0.990070</td>\n",
       "      <td>2.740000</td>\n",
       "      <td>0.330000</td>\n",
       "      <td>8.400000</td>\n",
       "      <td>3.000000</td>\n",
       "    </tr>\n",
       "    <tr>\n",
       "      <th>25%</th>\n",
       "      <td>7.100000</td>\n",
       "      <td>0.390000</td>\n",
       "      <td>0.090000</td>\n",
       "      <td>1.900000</td>\n",
       "      <td>0.070000</td>\n",
       "      <td>7.000000</td>\n",
       "      <td>22.000000</td>\n",
       "      <td>0.995600</td>\n",
       "      <td>3.210000</td>\n",
       "      <td>0.550000</td>\n",
       "      <td>9.500000</td>\n",
       "      <td>5.000000</td>\n",
       "    </tr>\n",
       "    <tr>\n",
       "      <th>50%</th>\n",
       "      <td>7.900000</td>\n",
       "      <td>0.520000</td>\n",
       "      <td>0.260000</td>\n",
       "      <td>2.200000</td>\n",
       "      <td>0.079000</td>\n",
       "      <td>14.000000</td>\n",
       "      <td>38.000000</td>\n",
       "      <td>0.996750</td>\n",
       "      <td>3.310000</td>\n",
       "      <td>0.620000</td>\n",
       "      <td>10.200000</td>\n",
       "      <td>6.000000</td>\n",
       "    </tr>\n",
       "    <tr>\n",
       "      <th>75%</th>\n",
       "      <td>9.200000</td>\n",
       "      <td>0.640000</td>\n",
       "      <td>0.420000</td>\n",
       "      <td>2.600000</td>\n",
       "      <td>0.090000</td>\n",
       "      <td>21.000000</td>\n",
       "      <td>62.000000</td>\n",
       "      <td>0.997835</td>\n",
       "      <td>3.400000</td>\n",
       "      <td>0.730000</td>\n",
       "      <td>11.100000</td>\n",
       "      <td>6.000000</td>\n",
       "    </tr>\n",
       "    <tr>\n",
       "      <th>max</th>\n",
       "      <td>15.900000</td>\n",
       "      <td>1.580000</td>\n",
       "      <td>1.000000</td>\n",
       "      <td>15.500000</td>\n",
       "      <td>0.611000</td>\n",
       "      <td>72.000000</td>\n",
       "      <td>289.000000</td>\n",
       "      <td>1.003690</td>\n",
       "      <td>4.010000</td>\n",
       "      <td>2.000000</td>\n",
       "      <td>14.900000</td>\n",
       "      <td>8.000000</td>\n",
       "    </tr>\n",
       "  </tbody>\n",
       "</table>\n",
       "</div>"
      ],
      "text/plain": [
       "       fixed acidity  volatile acidity  citric acid  residual sugar  \\\n",
       "count    1599.000000       1599.000000  1599.000000     1599.000000   \n",
       "mean        8.319637          0.527821     0.270976        2.538806   \n",
       "std         1.741096          0.179060     0.194801        1.409928   \n",
       "min         4.600000          0.120000     0.000000        0.900000   \n",
       "25%         7.100000          0.390000     0.090000        1.900000   \n",
       "50%         7.900000          0.520000     0.260000        2.200000   \n",
       "75%         9.200000          0.640000     0.420000        2.600000   \n",
       "max        15.900000          1.580000     1.000000       15.500000   \n",
       "\n",
       "         chlorides  free sulfur dioxide  total sulfur dioxide      density  \\\n",
       "count  1599.000000          1599.000000           1599.000000  1599.000000   \n",
       "mean      0.087467            15.874922             46.467792     0.996747   \n",
       "std       0.047065            10.460157             32.895324     0.001887   \n",
       "min       0.012000             1.000000              6.000000     0.990070   \n",
       "25%       0.070000             7.000000             22.000000     0.995600   \n",
       "50%       0.079000            14.000000             38.000000     0.996750   \n",
       "75%       0.090000            21.000000             62.000000     0.997835   \n",
       "max       0.611000            72.000000            289.000000     1.003690   \n",
       "\n",
       "                pH    sulphates      alcohol      quality  \n",
       "count  1599.000000  1599.000000  1599.000000  1599.000000  \n",
       "mean      3.311113     0.658149    10.422983     5.636023  \n",
       "std       0.154386     0.169507     1.065668     0.807569  \n",
       "min       2.740000     0.330000     8.400000     3.000000  \n",
       "25%       3.210000     0.550000     9.500000     5.000000  \n",
       "50%       3.310000     0.620000    10.200000     6.000000  \n",
       "75%       3.400000     0.730000    11.100000     6.000000  \n",
       "max       4.010000     2.000000    14.900000     8.000000  "
      ]
     },
     "execution_count": 26,
     "metadata": {},
     "output_type": "execute_result"
    }
   ],
   "source": [
    "DataFrame.describe()"
   ]
  },
  {
   "cell_type": "code",
   "execution_count": 27,
   "id": "89d6b0be",
   "metadata": {},
   "outputs": [
    {
     "data": {
      "image/png": "[encoded data removed]",
      "text/plain": [
       "<Figure size 432x288 with 1 Axes>"
      ]
     },
     "metadata": {
      "needs_background": "light"
     },
     "output_type": "display_data"
    }
   ],
   "source": [
    "plt.scatter(X_test, y_test, color='gray')\n",
    "plt.plot(X_test, y_pred, color='red', linewidth=2)\n",
    "plt.show()"
   ]
  },
  {
   "attachments": {
    "image-2.png": {
     "image/png": "[encoded data removed]"
    },
    "image.png": {
     "image/png": "[encoded data removed]"
    }
   },
   "cell_type": "markdown",
   "id": "985dccf9",
   "metadata": {},
   "source": [
    "### Задание*\n",
    "Задача: Экспериментально получены N − значений величины Y при различных значениях величины X. Построить полиномы первой и второй степени, аппроксимирующие результаты эксперимента, с применением метода наименьших квадратов. Результаты выводятся в виде таблиц значений и графиков, полученных полиномов. \n",
    "![image.png](attachment:image.png)\n",
    "![image-2.png](attachment:image-2.png)"
   ]
  },
  {
   "cell_type": "code",
   "execution_count": 28,
   "id": "62c2d83d",
   "metadata": {},
   "outputs": [
    {
     "data": {
      "image/png": "[encoded data removed]",
      "text/plain": [
       "<Figure size 432x288 with 1 Axes>"
      ]
     },
     "metadata": {
      "needs_background": "light"
     },
     "output_type": "display_data"
    }
   ],
   "source": [
    "import numpy as np\n",
    "import matplotlib.pyplot as plt\n",
    "\n",
    "x = np.array([3.0, 3.2, 3.4, 3.6, 3.8, 4.0])\n",
    "y = np.array([2.0, 3.0, 3.0, 3.0, 2.0, 4.0])\n",
    "\n",
    "plt.plot(x, y, 'o', markersize=10)\n",
    "plt.show()"
   ]
  },
  {
   "cell_type": "code",
   "execution_count": 29,
   "id": "cc0c1d03",
   "metadata": {},
   "outputs": [
    {
     "data": {
      "image/png": "[encoded data removed]",
      "text/plain": [
       "<Figure size 432x288 with 1 Axes>"
      ]
     },
     "metadata": {
      "needs_background": "light"
     },
     "output_type": "display_data"
    },
    {
     "name": "stdout",
     "output_type": "stream",
     "text": [
      "     0    0\n",
      "0  3.0  2.0\n",
      "1  3.2  3.0\n",
      "2  3.4  3.0\n",
      "3  3.6  3.0\n",
      "4  3.8  2.0\n"
     ]
    }
   ],
   "source": [
    "import numpy as np\n",
    "import pandas as pd\n",
    "import matplotlib.pyplot as plt \n",
    "\n",
    "x = np.array([2.0, 3.0, 3.0, 3.0, 2.0, 4.0])\n",
    "y = np.array([3.0, 3.2, 3.4, 3.6, 3.8, 4.0])\n",
    "\n",
    "#Перепишем линейное уравнение y = mx + c как y = Ap, где A = [[x 1]] и p = [[m], [c]]\n",
    "#Построим A по x: \n",
    "A = np.vstack([x, np.ones(len(x))]).T\n",
    "\n",
    "#Используем метод lstsq для решения его относительно вектора p.\n",
    "m, c = np.linalg.lstsq(A, y, rcond = None)[0]\n",
    "\n",
    "#Построим график полученной прямой и укажем на нем точки.\n",
    "plt.plot(x, y, 'o', label = 'Исходные данные', markersize = 8)\n",
    "plt.plot(x, m*x + c, 'r', label = 'Линейная экстраполяция')\n",
    "plt.legend()\n",
    "plt.show()\n",
    "\n",
    "new_y = y.transpose()\n",
    "df1 = pd.DataFrame(y)\n",
    "new_X = x.transpose()\n",
    "df2 = pd.DataFrame(new_X)\n",
    "\n",
    "frames = [df1, df2]\n",
    "dataset = pd.concat([df1, df2], axis = 1, join = \"inner\")\n",
    "print(dataset.head())"
   ]
  },
  {
   "cell_type": "code",
   "execution_count": 30,
   "id": "d8d1d55d",
   "metadata": {},
   "outputs": [
    {
     "data": {
      "image/png": "[encoded data removed]",
      "text/plain": [
       "<Figure size 432x288 with 1 Axes>"
      ]
     },
     "metadata": {
      "needs_background": "light"
     },
     "output_type": "display_data"
    }
   ],
   "source": [
    "#Нахождение коэффициентов функции вида y = ax^2 + bx + c методом наименьших квадратов\n",
    "#Задаем вектор m = [x**2, x, E]\n",
    "m = np.vstack((x**2, x, np.ones(6))).T\n",
    "#Находим кофффициенты при составяющих вектора m\n",
    "s = np.linalg.lstsq(m, y, rcond = None)[0]\n",
    "\n",
    "#на отрезке [-5, 5]\n",
    "x_prec = np.linspace(0, 6, 101)\n",
    "#рисуем точки\n",
    "plt.plot(x, y, 'D')\n",
    "#рисуем кривую вида y = ax^2 + bx + c, подставляя из решения коэффициенты s[0], s[1], s[2]\n",
    "plt.plot(x_prec, s[0] * x_prec**2 + s[1] * x_prec + s[2], '-', lw = 2)\n",
    "plt.grid()"
   ]
  },
  {
   "cell_type": "code",
   "execution_count": 33,
   "id": "91708d6a",
   "metadata": {},
   "outputs": [
    {
     "name": "stdout",
     "output_type": "stream",
     "text": [
      "11.0444314107662\n",
      "\n",
      "Коэффиценты a равены:\n",
      "[ 0.3 -1.5  5.2]\n"
     ]
    }
   ],
   "source": [
    "import pandas as pd\n",
    "import numpy as np\n",
    "from numpy import *\n",
    "from numpy.random import *\n",
    "\n",
    "N = 6\n",
    "sigma = 0.1\n",
    "k = 1\n",
    "b = -0.6666\n",
    "\n",
    "x = np.array(range(N))\n",
    "\n",
    "f = np.array([k*z+b for z in range(N)])\n",
    "y = f + np.random.normal(0, sigma, N)\n",
    "my = y.sum()/N\n",
    "mx = x.sum()/N\n",
    "sy = k*4+b\n",
    "\n",
    "print(y.sum())\n",
    "##kk = (a2 - mx*my)/(a1 - mx**2)\n",
    "##bb = my - kk*mx\n",
    "\n",
    "\n",
    "#print(\"\\nКоэффицент k равен:\")\n",
    "#print(kk)\n",
    "#print(\"\\nКоэффицент b равен:\")\n",
    "#print(bb)\n",
    "print(\"\\nКоэффиценты a равены:\")\n",
    "print(s)"
   ]
  },
  {
   "cell_type": "code",
   "execution_count": null,
   "id": "e7a6444d",
   "metadata": {},
   "outputs": [],
   "source": []
  }
 ],
 "metadata": {
  "kernelspec": {
   "display_name": "Python 3",
   "language": "python",
   "name": "python3"
  },
  "language_info": {
   "codemirror_mode": {
    "name": "ipython",
    "version": 3
   },
   "file_extension": ".py",
   "mimetype": "text/x-python",
   "name": "python",
   "nbconvert_exporter": "python",
   "pygments_lexer": "ipython3",
   "version": "3.8.8"
  }
 },
 "nbformat": 4,
 "nbformat_minor": 5
}
